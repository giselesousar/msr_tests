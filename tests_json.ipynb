{
  "nbformat": 4,
  "nbformat_minor": 0,
  "metadata": {
    "colab": {
      "name": "tests_json.ipynb",
      "provenance": [],
      "authorship_tag": "ABX9TyMowBZIwMdhaCrhVzn4vYpT",
      "include_colab_link": true
    },
    "kernelspec": {
      "name": "python3",
      "display_name": "Python 3"
    },
    "language_info": {
      "name": "python"
    }
  },
  "cells": [
    {
      "cell_type": "markdown",
      "metadata": {
        "id": "view-in-github",
        "colab_type": "text"
      },
      "source": [
        "<a href=\"https://colab.research.google.com/github/giselesousar/msr_tests/blob/main/tests_json.ipynb\" target=\"_parent\"><img src=\"https://colab.research.google.com/assets/colab-badge.svg\" alt=\"Open In Colab\"/></a>"
      ]
    },
    {
      "cell_type": "markdown",
      "source": [
        "# Imports"
      ],
      "metadata": {
        "id": "y3SALni1FBRr"
      }
    },
    {
      "cell_type": "code",
      "source": [
        "!pip install pydriller"
      ],
      "metadata": {
        "colab": {
          "base_uri": "https://localhost:8080/"
        },
        "id": "OiK9BT4-RfzQ",
        "outputId": "fe4ba2ed-3571-4a1f-9bac-0c569052384e"
      },
      "execution_count": 233,
      "outputs": [
        {
          "output_type": "stream",
          "name": "stdout",
          "text": [
            "Collecting pydriller\n",
            "  Downloading PyDriller-2.0-py3-none-any.whl (65 kB)\n",
            "\u001b[K     |████████████████████████████████| 65 kB 2.1 MB/s \n",
            "\u001b[?25hCollecting gitpython\n",
            "  Downloading GitPython-3.1.26-py3-none-any.whl (180 kB)\n",
            "\u001b[K     |████████████████████████████████| 180 kB 8.7 MB/s \n",
            "\u001b[?25hCollecting lizard\n",
            "  Downloading lizard-1.17.9-py2.py3-none-any.whl (64 kB)\n",
            "\u001b[K     |████████████████████████████████| 64 kB 3.1 MB/s \n",
            "\u001b[?25hRequirement already satisfied: pytz in /usr/local/lib/python3.7/dist-packages (from pydriller) (2018.9)\n",
            "Requirement already satisfied: typing-extensions>=3.7.4.3 in /usr/local/lib/python3.7/dist-packages (from gitpython->pydriller) (3.10.0.2)\n",
            "Collecting gitdb<5,>=4.0.1\n",
            "  Downloading gitdb-4.0.9-py3-none-any.whl (63 kB)\n",
            "\u001b[K     |████████████████████████████████| 63 kB 1.8 MB/s \n",
            "\u001b[?25hCollecting smmap<6,>=3.0.1\n",
            "  Downloading smmap-5.0.0-py3-none-any.whl (24 kB)\n",
            "Installing collected packages: smmap, gitdb, lizard, gitpython, pydriller\n",
            "Successfully installed gitdb-4.0.9 gitpython-3.1.26 lizard-1.17.9 pydriller-2.0 smmap-5.0.0\n"
          ]
        }
      ]
    },
    {
      "cell_type": "code",
      "execution_count": 237,
      "metadata": {
        "id": "77VaQQNwErx7"
      },
      "outputs": [],
      "source": [
        "import os\n",
        "import json\n",
        "from pathlib import Path\n",
        "from enum import Enum\n",
        "from pydriller import Repository"
      ]
    },
    {
      "cell_type": "markdown",
      "source": [
        "# Global variables"
      ],
      "metadata": {
        "id": "gEAEYUjdGph5"
      }
    },
    {
      "cell_type": "code",
      "source": [
        "global repository_name\n",
        "global repository_url\n",
        "repository_name = 'promocity'\n",
        "repository_url = 'https://github.com/armandossrecife/promocity.git'\n",
        "\n",
        "class Type(Enum):\n",
        "  DIR = 0\n",
        "  FILE = 1"
      ],
      "metadata": {
        "id": "0dJXrweaGouH"
      },
      "execution_count": 238,
      "outputs": []
    },
    {
      "cell_type": "markdown",
      "source": [
        "# Clone repository"
      ],
      "metadata": {
        "id": "4y4n7ZGGFDSC"
      }
    },
    {
      "cell_type": "code",
      "source": [
        "![ -d $repository_name ] && echo \"Remove diretório antigo\" && rm -R $repository_name\n",
        "!git clone $repository_url\n",
        "\n",
        "!sudo apt install tree"
      ],
      "metadata": {
        "colab": {
          "base_uri": "https://localhost:8080/"
        },
        "id": "OOUHeTM8LRJ-",
        "outputId": "71582b2e-03f8-4742-bbbf-801f58810dee"
      },
      "execution_count": 239,
      "outputs": [
        {
          "output_type": "stream",
          "name": "stdout",
          "text": [
            "Remove diretório antigo\n",
            "Cloning into 'promocity'...\n",
            "remote: Enumerating objects: 841, done.\u001b[K\n",
            "remote: Counting objects: 100% (43/43), done.\u001b[K\n",
            "remote: Compressing objects: 100% (29/29), done.\u001b[K\n",
            "remote: Total 841 (delta 10), reused 21 (delta 2), pack-reused 798\u001b[K\n",
            "Receiving objects: 100% (841/841), 4.00 MiB | 13.65 MiB/s, done.\n",
            "Resolving deltas: 100% (324/324), done.\n",
            "Reading package lists... Done\n",
            "Building dependency tree       \n",
            "Reading state information... Done\n",
            "tree is already the newest version (1.7.0-5).\n",
            "The following packages were automatically installed and are no longer required:\n",
            "  cuda-command-line-tools-10-0 cuda-command-line-tools-10-1\n",
            "  cuda-command-line-tools-11-0 cuda-compiler-10-0 cuda-compiler-10-1\n",
            "  cuda-compiler-11-0 cuda-cuobjdump-10-0 cuda-cuobjdump-10-1\n",
            "  cuda-cuobjdump-11-0 cuda-cupti-10-0 cuda-cupti-10-1 cuda-cupti-11-0\n",
            "  cuda-cupti-dev-11-0 cuda-documentation-10-0 cuda-documentation-10-1\n",
            "  cuda-documentation-11-0 cuda-documentation-11-1 cuda-gdb-10-0 cuda-gdb-10-1\n",
            "  cuda-gdb-11-0 cuda-gpu-library-advisor-10-0 cuda-gpu-library-advisor-10-1\n",
            "  cuda-libraries-10-0 cuda-libraries-10-1 cuda-libraries-11-0\n",
            "  cuda-memcheck-10-0 cuda-memcheck-10-1 cuda-memcheck-11-0 cuda-nsight-10-0\n",
            "  cuda-nsight-10-1 cuda-nsight-11-0 cuda-nsight-11-1 cuda-nsight-compute-10-0\n",
            "  cuda-nsight-compute-10-1 cuda-nsight-compute-11-0 cuda-nsight-compute-11-1\n",
            "  cuda-nsight-systems-10-1 cuda-nsight-systems-11-0 cuda-nsight-systems-11-1\n",
            "  cuda-nvcc-10-0 cuda-nvcc-10-1 cuda-nvcc-11-0 cuda-nvdisasm-10-0\n",
            "  cuda-nvdisasm-10-1 cuda-nvdisasm-11-0 cuda-nvml-dev-10-0 cuda-nvml-dev-10-1\n",
            "  cuda-nvml-dev-11-0 cuda-nvprof-10-0 cuda-nvprof-10-1 cuda-nvprof-11-0\n",
            "  cuda-nvprune-10-0 cuda-nvprune-10-1 cuda-nvprune-11-0 cuda-nvtx-10-0\n",
            "  cuda-nvtx-10-1 cuda-nvtx-11-0 cuda-nvvp-10-0 cuda-nvvp-10-1 cuda-nvvp-11-0\n",
            "  cuda-nvvp-11-1 cuda-samples-10-0 cuda-samples-10-1 cuda-samples-11-0\n",
            "  cuda-samples-11-1 cuda-sanitizer-11-0 cuda-sanitizer-api-10-1\n",
            "  cuda-toolkit-10-0 cuda-toolkit-10-1 cuda-toolkit-11-0 cuda-toolkit-11-1\n",
            "  cuda-tools-10-0 cuda-tools-10-1 cuda-tools-11-0 cuda-tools-11-1\n",
            "  cuda-visual-tools-10-0 cuda-visual-tools-10-1 cuda-visual-tools-11-0\n",
            "  cuda-visual-tools-11-1 default-jre dkms freeglut3 freeglut3-dev\n",
            "  keyboard-configuration libargon2-0 libcap2 libcryptsetup12\n",
            "  libdevmapper1.02.1 libfontenc1 libidn11 libip4tc0 libjansson4\n",
            "  libnvidia-cfg1-510 libnvidia-common-460 libnvidia-common-510\n",
            "  libnvidia-extra-510 libnvidia-fbc1-510 libnvidia-gl-510 libpam-systemd\n",
            "  libpolkit-agent-1-0 libpolkit-backend-1-0 libpolkit-gobject-1-0 libxfont2\n",
            "  libxi-dev libxkbfile1 libxmu-dev libxmu-headers libxnvctrl0 libxtst6\n",
            "  nsight-compute-2020.2.1 nsight-compute-2022.1.0 nsight-systems-2020.3.2\n",
            "  nsight-systems-2020.3.4 nsight-systems-2021.5.2 nvidia-dkms-510\n",
            "  nvidia-kernel-common-510 nvidia-kernel-source-510 nvidia-modprobe\n",
            "  nvidia-settings openjdk-11-jre policykit-1 policykit-1-gnome python3-xkit\n",
            "  screen-resolution-extra systemd systemd-sysv udev x11-xkb-utils\n",
            "  xserver-common xserver-xorg-core-hwe-18.04 xserver-xorg-video-nvidia-510\n",
            "Use 'sudo apt autoremove' to remove them.\n",
            "0 upgraded, 0 newly installed, 0 to remove and 39 not upgraded.\n"
          ]
        }
      ]
    },
    {
      "cell_type": "markdown",
      "source": [
        "# Analizer"
      ],
      "metadata": {
        "id": "q4-4zk2tFFaQ"
      }
    },
    {
      "cell_type": "code",
      "source": [
        "# Lista de nomes de arquivos ou diretórios para serem ignorados\n",
        "list_of_files_and_directories_to_ignore = ['.git']\n",
        "\n",
        "# dada uma string, retorna true se pelo menos um dos arquivos ou diretórios\n",
        "# que devem ser ignorados aparecem nela\n",
        "def should_ignore(name):\n",
        "  return True in [i in each for i in list_of_files_and_directories_to_ignore]"
      ],
      "metadata": {
        "id": "3jVtDFAzxsi1"
      },
      "execution_count": 240,
      "outputs": []
    },
    {
      "cell_type": "code",
      "source": [
        "# Cria um arquivo contendo a quantidade de LOC por arquivo\n",
        "!find $repository_name | xargs wc -l > locarquivos.txt\n",
        "list_locs_of_files = !cat locarquivos.txt"
      ],
      "metadata": {
        "colab": {
          "base_uri": "https://localhost:8080/"
        },
        "id": "DR0aLrZMLXGU",
        "outputId": "48a4a57e-4008-4bef-8157-7bcc50318708"
      },
      "execution_count": 241,
      "outputs": [
        {
          "output_type": "stream",
          "name": "stdout",
          "text": [
            "wc: promocity: Is a directory\n",
            "wc: promocity/docs: Is a directory\n",
            "wc: promocity/docs/Promocity: No such file or directory\n",
            "wc: Um: No such file or directory\n",
            "wc: serviço: No such file or directory\n",
            "wc: ubíquo: No such file or directory\n",
            "wc: geolocalizado: No such file or directory\n",
            "wc: de: No such file or directory\n",
            "wc: promoções: No such file or directory\n",
            "wc: contextuais.pdf: No such file or directory\n",
            "wc: promocity/docs/Statemachine: No such file or directory\n",
            "wc: Diagram: No such file or directory\n",
            "wc: Checa: No such file or directory\n",
            "wc: Proximidade: No such file or directory\n",
            "wc: Usuario.asta: No such file or directory\n",
            "wc: promocity/docs/Statemachine: No such file or directory\n",
            "wc: Contexto: No such file or directory\n",
            "wc: Proximidade.png: No such file or directory\n",
            "wc: promocity/docs/Diagrama: No such file or directory\n",
            "wc: de: No such file or directory\n",
            "wc: Classes: No such file or directory\n",
            "wc: Servicos: No such file or directory\n",
            "wc: Promocity.asta: No such file or directory\n",
            "wc: promocity/docs/Diagrama: No such file or directory\n",
            "wc: de: No such file or directory\n",
            "wc: Classes: No such file or directory\n",
            "wc: Servicos: No such file or directory\n",
            "wc: Promocity.png: No such file or directory\n",
            "wc: promocity/docs/Swagger: No such file or directory\n",
            "wc: Doc: No such file or directory\n",
            "wc: Promocity: No such file or directory\n",
            "wc: Web: No such file or directory\n",
            "wc: Server.pdf: No such file or directory\n",
            "wc: promocity/.git: Is a directory\n",
            "wc: promocity/.git/logs: Is a directory\n",
            "wc: promocity/.git/logs/refs: Is a directory\n",
            "wc: promocity/.git/logs/refs/remotes: Is a directory\n",
            "wc: promocity/.git/logs/refs/remotes/origin: Is a directory\n",
            "wc: promocity/.git/logs/refs/heads: Is a directory\n",
            "wc: promocity/.git/branches: Is a directory\n",
            "wc: promocity/.git/objects: Is a directory\n",
            "wc: promocity/.git/objects/pack: Is a directory\n",
            "wc: promocity/.git/objects/info: Is a directory\n",
            "wc: promocity/.git/refs: Is a directory\n",
            "wc: promocity/.git/refs/remotes: Is a directory\n",
            "wc: promocity/.git/refs/remotes/origin: Is a directory\n",
            "wc: promocity/.git/refs/heads: Is a directory\n",
            "wc: promocity/.git/refs/tags: Is a directory\n",
            "wc: promocity/.git/info: Is a directory\n",
            "wc: promocity/.git/hooks: Is a directory\n",
            "wc: promocity/.github: Is a directory\n",
            "wc: promocity/.github/workflows: Is a directory\n",
            "wc: promocity/src: Is a directory\n",
            "wc: promocity/src/main: Is a directory\n",
            "wc: promocity/src/main/java: Is a directory\n",
            "wc: promocity/src/main/java/ufc: Is a directory\n",
            "wc: promocity/src/main/java/ufc/cmu: Is a directory\n",
            "wc: promocity/src/main/java/ufc/cmu/promocity: Is a directory\n",
            "wc: promocity/src/main/java/ufc/cmu/promocity/backend: Is a directory\n",
            "wc: promocity/src/main/java/ufc/cmu/promocity/backend/controller: Is a directory\n",
            "wc: promocity/src/main/java/ufc/cmu/promocity/backend/service: Is a directory\n",
            "wc: promocity/src/main/java/ufc/cmu/promocity/backend/service/interfaces: Is a directory\n",
            "wc: promocity/src/main/java/ufc/cmu/promocity/backend/service/exceptions: Is a directory\n",
            "wc: promocity/src/main/java/ufc/cmu/promocity/backend/security: Is a directory\n",
            "wc: promocity/src/main/java/ufc/cmu/promocity/backend/report: Is a directory\n",
            "wc: promocity/src/main/java/ufc/cmu/promocity/backend/repository: Is a directory\n",
            "wc: promocity/src/main/java/ufc/cmu/promocity/backend/utils: Is a directory\n",
            "wc: promocity/src/main/java/ufc/cmu/promocity/backend/utils/geographic: Is a directory\n",
            "wc: promocity/src/main/java/ufc/cmu/promocity/backend/context: Is a directory\n",
            "wc: promocity/src/main/java/ufc/cmu/promocity/backend/model: Is a directory\n",
            "wc: promocity/src/main/resources: Is a directory\n",
            "wc: promocity/src/main/resources/sql: Is a directory\n",
            "wc: promocity/src/main/resources/static: Is a directory\n",
            "wc: promocity/src/test: Is a directory\n",
            "wc: promocity/src/test/java: Is a directory\n",
            "wc: promocity/src/test/java/ufc: Is a directory\n",
            "wc: promocity/src/test/java/ufc/cmu: Is a directory\n",
            "wc: promocity/src/test/java/ufc/cmu/promocity: Is a directory\n",
            "wc: promocity/src/test/java/ufc/cmu/promocity/backend: Is a directory\n",
            "wc: promocity/scripts: Is a directory\n",
            "wc: promocity/scripts/localizacao: Is a directory\n",
            "wc: promocity/scripts/cupom: Is a directory\n",
            "wc: promocity/scripts/sql: Is a directory\n",
            "wc: promocity/scripts/listagens: Is a directory\n",
            "wc: promocity/scripts/geral: Is a directory\n"
          ]
        }
      ]
    },
    {
      "cell_type": "code",
      "source": [
        "# calcula frequência dos arquivos em commits\n",
        "# TODO: otimizar forma de iterar dos commits\n",
        "\n",
        "list_of_files_frequency_in_commits = {}\n",
        "\n",
        "commits = Repository(path_to_repo=repository_name).traverse_commits()\n",
        "\n",
        "for commit in commits:\n",
        "    for modified_file in commit.modified_files:\n",
        "        if modified_file.filename in list_of_files_frequency_in_commits.keys():\n",
        "            list_of_files_frequency_in_commits[modified_file.filename] += 1\n",
        "        else:\n",
        "            list_of_files_frequency_in_commits[modified_file.filename] = 1"
      ],
      "metadata": {
        "id": "J1fpEgViQbtC"
      },
      "execution_count": 242,
      "outputs": []
    },
    {
      "cell_type": "code",
      "source": [
        "# cria dicionário com o path de cada arquivo e LOC, ignorando aqueles que \n",
        "# não devem aparecer no json\n",
        "list_locs_of_files_updated = {}\n",
        "for each in list_locs_of_files[:-1]:\n",
        "  if not should_ignore(each):\n",
        "    elementos = each.split(' ') \n",
        "    list_locs_of_files_updated[elementos[-1]] = int(elementos[-2])"
      ],
      "metadata": {
        "id": "JGS-R5ZZmci3"
      },
      "execution_count": 245,
      "outputs": []
    },
    {
      "cell_type": "code",
      "source": [
        "# Lista todos os arquivos e diretorios\n",
        "list_of_files_and_directories = !cd $repository_name && tree -i -f"
      ],
      "metadata": {
        "id": "BXqW_dcjlVVT"
      },
      "execution_count": 246,
      "outputs": []
    },
    {
      "cell_type": "code",
      "source": [
        "# Substitui o . pelo nome do repositório\n",
        "list_of_files_and_directories = [each.replace('./', repository_name + '/') for each in list_of_files_and_directories][1:-2]"
      ],
      "metadata": {
        "id": "N5p4VORRE95U"
      },
      "execution_count": 247,
      "outputs": []
    },
    {
      "cell_type": "code",
      "source": [
        "# remove os arquivos que devem ser ignorados\n",
        "list_of_files_and_directories_updated = []\n",
        "\n",
        "for each in list_of_files_and_directories:\n",
        "  if not should_ignore(each):\n",
        "    list_of_files_and_directories_updated.append(each)"
      ],
      "metadata": {
        "id": "ixMuzQPKFEbD"
      },
      "execution_count": 248,
      "outputs": []
    },
    {
      "cell_type": "code",
      "source": [
        "# classe que representa cada nó da árvore\n",
        "class Node:\n",
        "  def __init__(self, name = None, loc = None, heatmap = None, node_type = None, depth = None, children = []):\n",
        "    self.name = name\n",
        "    self.loc = loc\n",
        "    self.node_type = node_type\n",
        "    self.depth = depth\n",
        "    self.children = children\n",
        "    self.parent = None\n",
        "    self.heatmap = heatmap\n",
        "  \n",
        "  def append_node(self, node):\n",
        "    node.parent = self\n",
        "    self.children.append(node)"
      ],
      "metadata": {
        "id": "VglggomeieC0"
      },
      "execution_count": 249,
      "outputs": []
    },
    {
      "cell_type": "code",
      "source": [
        "# preenchendo árvore com os arquivos e diretórios\n",
        "\n",
        "root = Node(name=repository_name, loc=0, heatmap=0, node_type=Type.DIR, depth=0, children=[])\n",
        "\n",
        "# lista auxiliar para controlar a profundidade da árvores\n",
        "# os nós são criados e inseridos como filhos do nó que está na última posição da lista\n",
        "nodes = [root]\n",
        "\n",
        "for key in list_of_files_and_directories_updated:\n",
        "  name = key.split('/')[-1] \n",
        "  depth = key.count('/')\n",
        "  loc = 0\n",
        "  heatmap = 0\n",
        "\n",
        "  if os.path.isdir(key):\n",
        "    key_type = Type.DIR\n",
        "    parent = os.path.dirname(key).split('/')[-1]\n",
        "  else:\n",
        "    key_type = Type.FILE\n",
        "    parent = str(Path(key).parent).split('/')[-1]\n",
        "    if key in list_locs_of_files_updated:\n",
        "      loc = list_locs_of_files_updated[key]\n",
        "    if name in list_of_files_frequency_in_commits:\n",
        "      heatmap = list_of_files_frequency_in_commits[name]\n",
        "  \n",
        "  # controle do último nó da lista auxiliar (onde deve ser inserido o nó atual)\n",
        "  if depth != len(nodes):\n",
        "    diff = abs(depth - len(nodes))\n",
        "    if depth < len(nodes):\n",
        "      for i in range(0, diff):\n",
        "        nodes.pop()\n",
        "    else:\n",
        "      nodes.append(node)\n",
        "\n",
        "  node = Node(name=name, loc=loc, heatmap=heatmap, node_type=key_type, depth=depth, children=[])\n",
        "\n",
        "  if len(nodes) > 0:\n",
        "    nodes[len(nodes) - 1].append_node(node)"
      ],
      "metadata": {
        "id": "ovShmR6ruXt9"
      },
      "execution_count": 256,
      "outputs": []
    },
    {
      "cell_type": "code",
      "source": [
        "# atualizar LOC de toda a árvore com base nas folhas\n",
        "def calculate_loc(node):\n",
        "  loc = 0\n",
        "  for each in node.children:\n",
        "    loc += each.loc + calculate_loc(each)\n",
        "  if len(node.children) > 0:\n",
        "    node.loc = loc\n",
        "  if node.parent is not None:\n",
        "    return loc\n",
        "\n",
        "# atualizar métrica do heatmap de toda a árvore com base nas folhas\n",
        "def calculate_heatmap(node):\n",
        "  heatmap = 0\n",
        "  for each in node.children:\n",
        "    heatmap += each.heatmap + calculate_heatmap(each)\n",
        "  if len(node.children) > 0:\n",
        "    node.heatmap = heatmap\n",
        "  if node.parent is not None:\n",
        "    return heatmap\n",
        "\n",
        "calculate_loc(root)\n",
        "calculate_heatmap(root)"
      ],
      "metadata": {
        "id": "dYnznWT76izW"
      },
      "execution_count": 257,
      "outputs": []
    },
    {
      "cell_type": "code",
      "source": [
        "# mapeia árvore criada para o formato JSON\n",
        "\n",
        "def create_json_node(node):\n",
        "  return {\n",
        "    \"name\": node.name,\n",
        "    \"type\": node.node_type.name,\n",
        "    \"loc\": node.loc,\n",
        "    \"depth\": node.depth,\n",
        "    \"heatmap\": node.heatmap,\n",
        "    \"children\": []\n",
        "  }\n",
        "\n",
        "def traverse(node):\n",
        "  children = []\n",
        "  for each in node.children:\n",
        "    node = create_json_node(each)\n",
        "    children.append(node)\n",
        "    node[\"children\"] = traverse(each)\n",
        "  return children\n",
        "\n",
        "json_output = create_json_node(root)\n",
        "json_output[\"children\"] = traverse(root)\n",
        "\n",
        "print(json.dumps(json_output))"
      ],
      "metadata": {
        "colab": {
          "base_uri": "https://localhost:8080/"
        },
        "id": "FRpHaroDQPRK",
        "outputId": "fb96f68b-8dde-4e28-f95f-de411f4b92a7"
      },
      "execution_count": 258,
      "outputs": [
        {
          "output_type": "stream",
          "name": "stdout",
          "text": [
            "{\"name\": \"promocity\", \"type\": \"DIR\", \"loc\": 12392, \"depth\": 0, \"heatmap\": 216, \"children\": [{\"name\": \"docs\", \"type\": \"DIR\", \"loc\": 4270, \"depth\": 1, \"heatmap\": 12, \"children\": [{\"name\": \"Diagrama de Classes Servicos Promocity.asta\", \"type\": \"FILE\", \"loc\": 0, \"depth\": 2, \"heatmap\": 1, \"children\": []}, {\"name\": \"Diagrama de Classes Servicos Promocity.png\", \"type\": \"FILE\", \"loc\": 0, \"depth\": 2, \"heatmap\": 1, \"children\": []}, {\"name\": \"index.html\", \"type\": \"FILE\", \"loc\": 3191, \"depth\": 2, \"heatmap\": 5, \"children\": []}, {\"name\": \"Promocity - Um servic\\u0327o ubi\\u0301quo geolocalizado de promoc\\u0327o\\u0303es contextuais.pdf\", \"type\": \"FILE\", \"loc\": 0, \"depth\": 2, \"heatmap\": 1, \"children\": []}, {\"name\": \"Statemachine Contexto Proximidade.png\", \"type\": \"FILE\", \"loc\": 0, \"depth\": 2, \"heatmap\": 1, \"children\": []}, {\"name\": \"Statemachine Diagram Checa Proximidade Usuario.asta\", \"type\": \"FILE\", \"loc\": 0, \"depth\": 2, \"heatmap\": 1, \"children\": []}, {\"name\": \"swagger-5.yaml\", \"type\": \"FILE\", \"loc\": 1079, \"depth\": 2, \"heatmap\": 1, \"children\": []}, {\"name\": \"Swagger Doc Promocity Web Server.pdf\", \"type\": \"FILE\", \"loc\": 0, \"depth\": 2, \"heatmap\": 1, \"children\": []}]}, {\"name\": \"LICENSE\", \"type\": \"FILE\", \"loc\": 27, \"depth\": 1, \"heatmap\": 1, \"children\": []}, {\"name\": \"pom.xml\", \"type\": \"FILE\", \"loc\": 79, \"depth\": 1, \"heatmap\": 4, \"children\": []}, {\"name\": \"README.md\", \"type\": \"FILE\", \"loc\": 92, \"depth\": 1, \"heatmap\": 13, \"children\": []}, {\"name\": \"scripts\", \"type\": \"DIR\", \"loc\": 532, \"depth\": 1, \"heatmap\": 12, \"children\": [{\"name\": \"cupom\", \"type\": \"DIR\", \"loc\": 10, \"depth\": 2, \"heatmap\": 1, \"children\": [{\"name\": \"amigos.sh\", \"type\": \"FILE\", \"loc\": 10, \"depth\": 3, \"heatmap\": 1, \"children\": []}]}, {\"name\": \"geral\", \"type\": \"DIR\", \"loc\": 24, \"depth\": 2, \"heatmap\": 6, \"children\": [{\"name\": \"teste-promocity.sh\", \"type\": \"FILE\", \"loc\": 24, \"depth\": 3, \"heatmap\": 6, \"children\": []}]}, {\"name\": \"listagens\", \"type\": \"DIR\", \"loc\": 11, \"depth\": 2, \"heatmap\": 1, \"children\": [{\"name\": \"teste.sh\", \"type\": \"FILE\", \"loc\": 11, \"depth\": 3, \"heatmap\": 1, \"children\": []}]}, {\"name\": \"localizacao\", \"type\": \"DIR\", \"loc\": 22, \"depth\": 2, \"heatmap\": 2, \"children\": [{\"name\": \"basico.sh\", \"type\": \"FILE\", \"loc\": 11, \"depth\": 3, \"heatmap\": 1, \"children\": []}, {\"name\": \"ufc.sh\", \"type\": \"FILE\", \"loc\": 11, \"depth\": 3, \"heatmap\": 1, \"children\": []}]}, {\"name\": \"sql\", \"type\": \"DIR\", \"loc\": 465, \"depth\": 2, \"heatmap\": 2, \"children\": [{\"name\": \"limpa-cupons.sql\", \"type\": \"FILE\", \"loc\": 2, \"depth\": 3, \"heatmap\": 1, \"children\": []}, {\"name\": \"restaura-banco.sql\", \"type\": \"FILE\", \"loc\": 463, \"depth\": 3, \"heatmap\": 1, \"children\": []}]}]}, {\"name\": \"src\", \"type\": \"DIR\", \"loc\": 7392, \"depth\": 1, \"heatmap\": 174, \"children\": [{\"name\": \"main\", \"type\": \"DIR\", \"loc\": 7377, \"depth\": 2, \"heatmap\": 172, \"children\": [{\"name\": \"java\", \"type\": \"DIR\", \"loc\": 4133, \"depth\": 3, \"heatmap\": 154, \"children\": [{\"name\": \"ufc\", \"type\": \"DIR\", \"loc\": 4133, \"depth\": 4, \"heatmap\": 154, \"children\": [{\"name\": \"cmu\", \"type\": \"DIR\", \"loc\": 4133, \"depth\": 5, \"heatmap\": 154, \"children\": [{\"name\": \"promocity\", \"type\": \"DIR\", \"loc\": 4133, \"depth\": 6, \"heatmap\": 154, \"children\": [{\"name\": \"backend\", \"type\": \"DIR\", \"loc\": 4133, \"depth\": 7, \"heatmap\": 154, \"children\": [{\"name\": \"BackendApplication.java\", \"type\": \"FILE\", \"loc\": 19, \"depth\": 8, \"heatmap\": 2, \"children\": []}, {\"name\": \"context\", \"type\": \"DIR\", \"loc\": 286, \"depth\": 8, \"heatmap\": 18, \"children\": [{\"name\": \"CouponsSent.java\", \"type\": \"FILE\", \"loc\": 59, \"depth\": 9, \"heatmap\": 2, \"children\": []}, {\"name\": \"Messenger.java\", \"type\": \"FILE\", \"loc\": 25, \"depth\": 9, \"heatmap\": 2, \"children\": []}, {\"name\": \"PromotionArea.java\", \"type\": \"FILE\", \"loc\": 66, \"depth\": 9, \"heatmap\": 3, \"children\": []}, {\"name\": \"UserLocationMonitoring.java\", \"type\": \"FILE\", \"loc\": 136, \"depth\": 9, \"heatmap\": 11, \"children\": []}]}, {\"name\": \"controller\", \"type\": \"DIR\", \"loc\": 1491, \"depth\": 8, \"heatmap\": 43, \"children\": [{\"name\": \"BookController.java\", \"type\": \"FILE\", \"loc\": 99, \"depth\": 9, \"heatmap\": 1, \"children\": []}, {\"name\": \"CouponController.java\", \"type\": \"FILE\", \"loc\": 194, \"depth\": 9, \"heatmap\": 2, \"children\": []}, {\"name\": \"PrincipalController.java\", \"type\": \"FILE\", \"loc\": 65, \"depth\": 9, \"heatmap\": 5, \"children\": []}, {\"name\": \"PromotionController.java\", \"type\": \"FILE\", \"loc\": 198, \"depth\": 9, \"heatmap\": 2, \"children\": []}, {\"name\": \"StoreController.java\", \"type\": \"FILE\", \"loc\": 348, \"depth\": 9, \"heatmap\": 11, \"children\": []}, {\"name\": \"UserController.java\", \"type\": \"FILE\", \"loc\": 587, \"depth\": 9, \"heatmap\": 22, \"children\": []}]}, {\"name\": \"GenericExceptionMapper.java\", \"type\": \"FILE\", \"loc\": 19, \"depth\": 8, \"heatmap\": 1, \"children\": []}, {\"name\": \"JerseyConfiguration.java\", \"type\": \"FILE\", \"loc\": 47, \"depth\": 8, \"heatmap\": 6, \"children\": []}, {\"name\": \"model\", \"type\": \"DIR\", \"loc\": 801, \"depth\": 8, \"heatmap\": 35, \"children\": [{\"name\": \"AbstractModel.java\", \"type\": \"FILE\", \"loc\": 54, \"depth\": 9, \"heatmap\": 2, \"children\": []}, {\"name\": \"Book.java\", \"type\": \"FILE\", \"loc\": 111, \"depth\": 9, \"heatmap\": 1, \"children\": []}, {\"name\": \"Category.java\", \"type\": \"FILE\", \"loc\": 10, \"depth\": 9, \"heatmap\": 1, \"children\": []}, {\"name\": \"Coupon.java\", \"type\": \"FILE\", \"loc\": 142, \"depth\": 9, \"heatmap\": 8, \"children\": []}, {\"name\": \"MyStores.java\", \"type\": \"FILE\", \"loc\": 34, \"depth\": 9, \"heatmap\": 1, \"children\": []}, {\"name\": \"MyTracking.java\", \"type\": \"FILE\", \"loc\": 38, \"depth\": 9, \"heatmap\": 2, \"children\": []}, {\"name\": \"Promotion.java\", \"type\": \"FILE\", \"loc\": 63, \"depth\": 9, \"heatmap\": 4, \"children\": []}, {\"name\": \"Store.java\", \"type\": \"FILE\", \"loc\": 96, \"depth\": 9, \"heatmap\": 4, \"children\": []}, {\"name\": \"Track.java\", \"type\": \"FILE\", \"loc\": 38, \"depth\": 9, \"heatmap\": 1, \"children\": []}, {\"name\": \"Users.java\", \"type\": \"FILE\", \"loc\": 215, \"depth\": 9, \"heatmap\": 11, \"children\": []}]}, {\"name\": \"report\", \"type\": \"DIR\", \"loc\": 594, \"depth\": 8, \"heatmap\": 8, \"children\": [{\"name\": \"ReportApplication.java\", \"type\": \"FILE\", \"loc\": 28, \"depth\": 9, \"heatmap\": 1, \"children\": []}, {\"name\": \"ReportCoupon.java\", \"type\": \"FILE\", \"loc\": 183, \"depth\": 9, \"heatmap\": 3, \"children\": []}, {\"name\": \"ReportPromotion.java\", \"type\": \"FILE\", \"loc\": 118, \"depth\": 9, \"heatmap\": 2, \"children\": []}, {\"name\": \"ReportStore.java\", \"type\": \"FILE\", \"loc\": 129, \"depth\": 9, \"heatmap\": 1, \"children\": []}, {\"name\": \"ReportUser.java\", \"type\": \"FILE\", \"loc\": 136, \"depth\": 9, \"heatmap\": 1, \"children\": []}]}, {\"name\": \"repository\", \"type\": \"DIR\", \"loc\": 83, \"depth\": 8, \"heatmap\": 8, \"children\": [{\"name\": \"CouponsRepository.java\", \"type\": \"FILE\", \"loc\": 11, \"depth\": 9, \"heatmap\": 1, \"children\": []}, {\"name\": \"MyStoresRepository.java\", \"type\": \"FILE\", \"loc\": 12, \"depth\": 9, \"heatmap\": 1, \"children\": []}, {\"name\": \"MyTrackingRepository.java\", \"type\": \"FILE\", \"loc\": 12, \"depth\": 9, \"heatmap\": 1, \"children\": []}, {\"name\": \"PromotionsRepository.java\", \"type\": \"FILE\", \"loc\": 11, \"depth\": 9, \"heatmap\": 1, \"children\": []}, {\"name\": \"StoresRepository.java\", \"type\": \"FILE\", \"loc\": 11, \"depth\": 9, \"heatmap\": 1, \"children\": []}, {\"name\": \"TrackRepository.java\", \"type\": \"FILE\", \"loc\": 11, \"depth\": 9, \"heatmap\": 1, \"children\": []}, {\"name\": \"UsersRepository.java\", \"type\": \"FILE\", \"loc\": 15, \"depth\": 9, \"heatmap\": 2, \"children\": []}]}, {\"name\": \"security\", \"type\": \"DIR\", \"loc\": 25, \"depth\": 8, \"heatmap\": 2, \"children\": [{\"name\": \"WebSecurityConfig.java\", \"type\": \"FILE\", \"loc\": 25, \"depth\": 9, \"heatmap\": 2, \"children\": []}]}, {\"name\": \"service\", \"type\": \"DIR\", \"loc\": 479, \"depth\": 8, \"heatmap\": 24, \"children\": [{\"name\": \"AbstractService.java\", \"type\": \"FILE\", \"loc\": 56, \"depth\": 9, \"heatmap\": 1, \"children\": []}, {\"name\": \"BookService.java\", \"type\": \"FILE\", \"loc\": 93, \"depth\": 9, \"heatmap\": 1, \"children\": []}, {\"name\": \"CouponsService.java\", \"type\": \"FILE\", \"loc\": 29, \"depth\": 9, \"heatmap\": 1, \"children\": []}, {\"name\": \"exceptions\", \"type\": \"DIR\", \"loc\": 74, \"depth\": 9, \"heatmap\": 5, \"children\": [{\"name\": \"BookNotFoundException.java\", \"type\": \"FILE\", \"loc\": 22, \"depth\": 10, \"heatmap\": 1, \"children\": []}, {\"name\": \"CouponNotFoundException.java\", \"type\": \"FILE\", \"loc\": 14, \"depth\": 10, \"heatmap\": 1, \"children\": []}, {\"name\": \"PromotionNotFoundException.java\", \"type\": \"FILE\", \"loc\": 14, \"depth\": 10, \"heatmap\": 1, \"children\": []}, {\"name\": \"StoreNotFoundException.java\", \"type\": \"FILE\", \"loc\": 14, \"depth\": 10, \"heatmap\": 1, \"children\": []}, {\"name\": \"UserNotFoundException.java\", \"type\": \"FILE\", \"loc\": 10, \"depth\": 10, \"heatmap\": 1, \"children\": []}]}, {\"name\": \"interfaces\", \"type\": \"DIR\", \"loc\": 54, \"depth\": 9, \"heatmap\": 5, \"children\": [{\"name\": \"ICouponService.java\", \"type\": \"FILE\", \"loc\": 13, \"depth\": 10, \"heatmap\": 1, \"children\": []}, {\"name\": \"IPromotionService.java\", \"type\": \"FILE\", \"loc\": 13, \"depth\": 10, \"heatmap\": 1, \"children\": []}, {\"name\": \"IStoreService.java\", \"type\": \"FILE\", \"loc\": 13, \"depth\": 10, \"heatmap\": 1, \"children\": []}, {\"name\": \"IUserService.java\", \"type\": \"FILE\", \"loc\": 15, \"depth\": 10, \"heatmap\": 2, \"children\": []}]}, {\"name\": \"MyStoresService.java\", \"type\": \"FILE\", \"loc\": 26, \"depth\": 9, \"heatmap\": 1, \"children\": []}, {\"name\": \"MyTrackingService.java\", \"type\": \"FILE\", \"loc\": 28, \"depth\": 9, \"heatmap\": 1, \"children\": []}, {\"name\": \"PromotionsService.java\", \"type\": \"FILE\", \"loc\": 25, \"depth\": 9, \"heatmap\": 1, \"children\": []}, {\"name\": \"StoreService.java\", \"type\": \"FILE\", \"loc\": 27, \"depth\": 9, \"heatmap\": 5, \"children\": []}, {\"name\": \"TrackService.java\", \"type\": \"FILE\", \"loc\": 31, \"depth\": 9, \"heatmap\": 1, \"children\": []}, {\"name\": \"UsersService.java\", \"type\": \"FILE\", \"loc\": 36, \"depth\": 9, \"heatmap\": 2, \"children\": []}]}, {\"name\": \"utils\", \"type\": \"DIR\", \"loc\": 289, \"depth\": 8, \"heatmap\": 7, \"children\": [{\"name\": \"geographic\", \"type\": \"DIR\", \"loc\": 210, \"depth\": 9, \"heatmap\": 4, \"children\": [{\"name\": \"GeographicArea.java\", \"type\": \"FILE\", \"loc\": 93, \"depth\": 10, \"heatmap\": 2, \"children\": []}, {\"name\": \"GPSPoint.java\", \"type\": \"FILE\", \"loc\": 38, \"depth\": 10, \"heatmap\": 1, \"children\": []}, {\"name\": \"LocationStore.java\", \"type\": \"FILE\", \"loc\": 79, \"depth\": 10, \"heatmap\": 1, \"children\": []}]}, {\"name\": \"GeradorSenha.java\", \"type\": \"FILE\", \"loc\": 32, \"depth\": 9, \"heatmap\": 1, \"children\": []}, {\"name\": \"ManipuladorDatas.java\", \"type\": \"FILE\", \"loc\": 27, \"depth\": 9, \"heatmap\": 1, \"children\": []}, {\"name\": \"Message.java\", \"type\": \"FILE\", \"loc\": 20, \"depth\": 9, \"heatmap\": 1, \"children\": []}]}]}]}]}]}]}, {\"name\": \"resources\", \"type\": \"DIR\", \"loc\": 3244, \"depth\": 3, \"heatmap\": 18, \"children\": [{\"name\": \"application.yml\", \"type\": \"FILE\", \"loc\": 24, \"depth\": 4, \"heatmap\": 2, \"children\": []}, {\"name\": \"sql\", \"type\": \"DIR\", \"loc\": 29, \"depth\": 4, \"heatmap\": 11, \"children\": [{\"name\": \"populadados.sql\", \"type\": \"FILE\", \"loc\": 8, \"depth\": 5, \"heatmap\": 1, \"children\": []}, {\"name\": \"populausers.sql\", \"type\": \"FILE\", \"loc\": 5, \"depth\": 5, \"heatmap\": 3, \"children\": []}, {\"name\": \"security.sql\", \"type\": \"FILE\", \"loc\": 16, \"depth\": 5, \"heatmap\": 7, \"children\": []}]}, {\"name\": \"static\", \"type\": \"DIR\", \"loc\": 3191, \"depth\": 4, \"heatmap\": 5, \"children\": [{\"name\": \"index.html\", \"type\": \"FILE\", \"loc\": 3191, \"depth\": 5, \"heatmap\": 5, \"children\": []}]}]}]}, {\"name\": \"test\", \"type\": \"DIR\", \"loc\": 15, \"depth\": 2, \"heatmap\": 2, \"children\": [{\"name\": \"java\", \"type\": \"DIR\", \"loc\": 15, \"depth\": 3, \"heatmap\": 2, \"children\": [{\"name\": \"ufc\", \"type\": \"DIR\", \"loc\": 15, \"depth\": 4, \"heatmap\": 2, \"children\": [{\"name\": \"cmu\", \"type\": \"DIR\", \"loc\": 15, \"depth\": 5, \"heatmap\": 2, \"children\": [{\"name\": \"promocity\", \"type\": \"DIR\", \"loc\": 15, \"depth\": 6, \"heatmap\": 2, \"children\": [{\"name\": \"backend\", \"type\": \"DIR\", \"loc\": 15, \"depth\": 7, \"heatmap\": 2, \"children\": [{\"name\": \"BackendApplicationTests.java\", \"type\": \"FILE\", \"loc\": 15, \"depth\": 8, \"heatmap\": 2, \"children\": []}]}]}]}]}]}]}]}]}\n"
          ]
        }
      ]
    }
  ]
}