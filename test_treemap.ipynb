{
  "cells": [
    {
      "cell_type": "markdown",
      "metadata": {
        "colab_type": "text",
        "id": "view-in-github"
      },
      "source": [
        "<a href=\"https://colab.research.google.com/github/giselesousar/msr_tests/blob/main/tests.ipynb\" target=\"_parent\"><img src=\"https://colab.research.google.com/assets/colab-badge.svg\" alt=\"Open In Colab\"/></a>"
      ]
    },
    {
      "cell_type": "markdown",
      "metadata": {
        "id": "SWNigKknU6s9"
      },
      "source": [
        "# Imports"
      ]
    },
    {
      "cell_type": "code",
      "execution_count": null,
      "metadata": {
        "colab": {
          "base_uri": "https://localhost:8080/"
        },
        "id": "HOQSKegLVLlI",
        "outputId": "11cb5ebe-9555-42c5-b9b9-f6fb7f90c31a"
      },
      "outputs": [],
      "source": [
        "!pip install plotly==5.5.0"
      ]
    },
    {
      "cell_type": "code",
      "execution_count": 3,
      "metadata": {},
      "outputs": [],
      "source": [
        "# https://github.com/plotly/plotly.py\n",
        "import plotly.express as px"
      ]
    },
    {
      "cell_type": "code",
      "execution_count": 4,
      "metadata": {
        "id": "zyuL4zOkT_VI"
      },
      "outputs": [],
      "source": [
        "import os\n",
        "from pathlib import Path\n",
        "import plotly.graph_objects as go"
      ]
    },
    {
      "cell_type": "markdown",
      "metadata": {
        "id": "XvgQlDuFVYsj"
      },
      "source": [
        "# Clone repository"
      ]
    },
    {
      "cell_type": "code",
      "execution_count": 5,
      "metadata": {},
      "outputs": [
        {
          "name": "stdout",
          "output_type": "stream",
          "text": [
            "Cloning into 'promocity'...\n",
            "remote: Enumerating objects: 841, done.\u001b[K\n",
            "remote: Counting objects: 100% (43/43), done.\u001b[K\n",
            "remote: Compressing objects: 100% (29/29), done.\u001b[K\n",
            "remote: Total 841 (delta 10), reused 21 (delta 2), pack-reused 798\u001b[K\n",
            "\u001b[KReceiving objects: 100% (841/841), 4.00 MiB | 1.29 MiB/s, done.\n",
            "\u001b[KResolving deltas: 100% (324/324), done.\n"
          ]
        }
      ],
      "source": [
        "![ -d promocity ] && echo \"Remove diretório promocity antigo\" && rm -R promocity\n",
        "!git clone https://github.com/armandossrecife/promocity.git"
      ]
    },
    {
      "cell_type": "code",
      "execution_count": 7,
      "metadata": {},
      "outputs": [
        {
          "name": "stdout",
          "output_type": "stream",
          "text": [
            "Unable to locate an executable at \"/Library/Java/JavaVirtualMachines/jdk-11.0.11.jdk/Contents/Home/bin/apt\" (-1)\n"
          ]
        }
      ],
      "source": [
        "#For google colab\n",
        "!sudo apt install tree"
      ]
    },
    {
      "cell_type": "markdown",
      "metadata": {},
      "source": [
        "# Analyzer"
      ]
    },
    {
      "cell_type": "code",
      "execution_count": 8,
      "metadata": {},
      "outputs": [],
      "source": [
        "# Lista todos os arquivos e diretorios\n",
        "list_of_files_and_directories = !cd promocity && tree -i -f"
      ]
    },
    {
      "cell_type": "code",
      "execution_count": 9,
      "metadata": {},
      "outputs": [
        {
          "data": {
            "text/plain": [
              "['.',\n",
              " 'promocity/LICENSE',\n",
              " 'promocity/README.md',\n",
              " 'promocity/docs',\n",
              " 'promocity/docs/Diagrama\\\\ de\\\\ Classes\\\\ Servicos\\\\ Promocity.asta',\n",
              " 'promocity/docs/Diagrama\\\\ de\\\\ Classes\\\\ Servicos\\\\ Promocity.png',\n",
              " 'promocity/docs/Promocity\\\\ -\\\\ Um\\\\ servic\\\\314\\\\247o\\\\ ubi\\\\314\\\\201quo\\\\ geolocalizado\\\\ de\\\\ promoc\\\\314\\\\247o\\\\314\\\\203es\\\\ contextuais.pdf',\n",
              " 'promocity/docs/Statemachine\\\\ Contexto\\\\ Proximidade.png',\n",
              " 'promocity/docs/Statemachine\\\\ Diagram\\\\ Checa\\\\ Proximidade\\\\ Usuario.asta',\n",
              " 'promocity/docs/Swagger\\\\ Doc\\\\ Promocity\\\\ Web\\\\ Server.pdf',\n",
              " 'promocity/docs/index.html',\n",
              " 'promocity/docs/swagger-5.yaml',\n",
              " 'promocity/pom.xml',\n",
              " 'promocity/scripts',\n",
              " 'promocity/scripts/cupom',\n",
              " 'promocity/scripts/cupom/amigos.sh',\n",
              " 'promocity/scripts/geral',\n",
              " 'promocity/scripts/geral/teste-promocity.sh',\n",
              " 'promocity/scripts/listagens',\n",
              " 'promocity/scripts/listagens/teste.sh',\n",
              " 'promocity/scripts/localizacao',\n",
              " 'promocity/scripts/localizacao/basico.sh',\n",
              " 'promocity/scripts/localizacao/ufc.sh',\n",
              " 'promocity/scripts/sql',\n",
              " 'promocity/scripts/sql/limpa-cupons.sql',\n",
              " 'promocity/scripts/sql/restaura-banco.sql',\n",
              " 'promocity/src',\n",
              " 'promocity/src/main',\n",
              " 'promocity/src/main/java',\n",
              " 'promocity/src/main/java/ufc',\n",
              " 'promocity/src/main/java/ufc/cmu',\n",
              " 'promocity/src/main/java/ufc/cmu/promocity',\n",
              " 'promocity/src/main/java/ufc/cmu/promocity/backend',\n",
              " 'promocity/src/main/java/ufc/cmu/promocity/backend/BackendApplication.java',\n",
              " 'promocity/src/main/java/ufc/cmu/promocity/backend/GenericExceptionMapper.java',\n",
              " 'promocity/src/main/java/ufc/cmu/promocity/backend/JerseyConfiguration.java',\n",
              " 'promocity/src/main/java/ufc/cmu/promocity/backend/context',\n",
              " 'promocity/src/main/java/ufc/cmu/promocity/backend/context/CouponsSent.java',\n",
              " 'promocity/src/main/java/ufc/cmu/promocity/backend/context/Messenger.java',\n",
              " 'promocity/src/main/java/ufc/cmu/promocity/backend/context/PromotionArea.java',\n",
              " 'promocity/src/main/java/ufc/cmu/promocity/backend/context/UserLocationMonitoring.java',\n",
              " 'promocity/src/main/java/ufc/cmu/promocity/backend/controller',\n",
              " 'promocity/src/main/java/ufc/cmu/promocity/backend/controller/BookController.java',\n",
              " 'promocity/src/main/java/ufc/cmu/promocity/backend/controller/CouponController.java',\n",
              " 'promocity/src/main/java/ufc/cmu/promocity/backend/controller/PrincipalController.java',\n",
              " 'promocity/src/main/java/ufc/cmu/promocity/backend/controller/PromotionController.java',\n",
              " 'promocity/src/main/java/ufc/cmu/promocity/backend/controller/StoreController.java',\n",
              " 'promocity/src/main/java/ufc/cmu/promocity/backend/controller/UserController.java',\n",
              " 'promocity/src/main/java/ufc/cmu/promocity/backend/model',\n",
              " 'promocity/src/main/java/ufc/cmu/promocity/backend/model/AbstractModel.java',\n",
              " 'promocity/src/main/java/ufc/cmu/promocity/backend/model/Book.java',\n",
              " 'promocity/src/main/java/ufc/cmu/promocity/backend/model/Category.java',\n",
              " 'promocity/src/main/java/ufc/cmu/promocity/backend/model/Coupon.java',\n",
              " 'promocity/src/main/java/ufc/cmu/promocity/backend/model/MyStores.java',\n",
              " 'promocity/src/main/java/ufc/cmu/promocity/backend/model/MyTracking.java',\n",
              " 'promocity/src/main/java/ufc/cmu/promocity/backend/model/Promotion.java',\n",
              " 'promocity/src/main/java/ufc/cmu/promocity/backend/model/Store.java',\n",
              " 'promocity/src/main/java/ufc/cmu/promocity/backend/model/Track.java',\n",
              " 'promocity/src/main/java/ufc/cmu/promocity/backend/model/Users.java',\n",
              " 'promocity/src/main/java/ufc/cmu/promocity/backend/report',\n",
              " 'promocity/src/main/java/ufc/cmu/promocity/backend/report/ReportApplication.java',\n",
              " 'promocity/src/main/java/ufc/cmu/promocity/backend/report/ReportCoupon.java',\n",
              " 'promocity/src/main/java/ufc/cmu/promocity/backend/report/ReportPromotion.java',\n",
              " 'promocity/src/main/java/ufc/cmu/promocity/backend/report/ReportStore.java',\n",
              " 'promocity/src/main/java/ufc/cmu/promocity/backend/report/ReportUser.java',\n",
              " 'promocity/src/main/java/ufc/cmu/promocity/backend/repository',\n",
              " 'promocity/src/main/java/ufc/cmu/promocity/backend/repository/CouponsRepository.java',\n",
              " 'promocity/src/main/java/ufc/cmu/promocity/backend/repository/MyStoresRepository.java',\n",
              " 'promocity/src/main/java/ufc/cmu/promocity/backend/repository/MyTrackingRepository.java',\n",
              " 'promocity/src/main/java/ufc/cmu/promocity/backend/repository/PromotionsRepository.java',\n",
              " 'promocity/src/main/java/ufc/cmu/promocity/backend/repository/StoresRepository.java',\n",
              " 'promocity/src/main/java/ufc/cmu/promocity/backend/repository/TrackRepository.java',\n",
              " 'promocity/src/main/java/ufc/cmu/promocity/backend/repository/UsersRepository.java',\n",
              " 'promocity/src/main/java/ufc/cmu/promocity/backend/security',\n",
              " 'promocity/src/main/java/ufc/cmu/promocity/backend/security/WebSecurityConfig.java',\n",
              " 'promocity/src/main/java/ufc/cmu/promocity/backend/service',\n",
              " 'promocity/src/main/java/ufc/cmu/promocity/backend/service/AbstractService.java',\n",
              " 'promocity/src/main/java/ufc/cmu/promocity/backend/service/BookService.java',\n",
              " 'promocity/src/main/java/ufc/cmu/promocity/backend/service/CouponsService.java',\n",
              " 'promocity/src/main/java/ufc/cmu/promocity/backend/service/MyStoresService.java',\n",
              " 'promocity/src/main/java/ufc/cmu/promocity/backend/service/MyTrackingService.java',\n",
              " 'promocity/src/main/java/ufc/cmu/promocity/backend/service/PromotionsService.java',\n",
              " 'promocity/src/main/java/ufc/cmu/promocity/backend/service/StoreService.java',\n",
              " 'promocity/src/main/java/ufc/cmu/promocity/backend/service/TrackService.java',\n",
              " 'promocity/src/main/java/ufc/cmu/promocity/backend/service/UsersService.java',\n",
              " 'promocity/src/main/java/ufc/cmu/promocity/backend/service/exceptions',\n",
              " 'promocity/src/main/java/ufc/cmu/promocity/backend/service/exceptions/BookNotFoundException.java',\n",
              " 'promocity/src/main/java/ufc/cmu/promocity/backend/service/exceptions/CouponNotFoundException.java',\n",
              " 'promocity/src/main/java/ufc/cmu/promocity/backend/service/exceptions/PromotionNotFoundException.java',\n",
              " 'promocity/src/main/java/ufc/cmu/promocity/backend/service/exceptions/StoreNotFoundException.java',\n",
              " 'promocity/src/main/java/ufc/cmu/promocity/backend/service/exceptions/UserNotFoundException.java',\n",
              " 'promocity/src/main/java/ufc/cmu/promocity/backend/service/interfaces',\n",
              " 'promocity/src/main/java/ufc/cmu/promocity/backend/service/interfaces/ICouponService.java',\n",
              " 'promocity/src/main/java/ufc/cmu/promocity/backend/service/interfaces/IPromotionService.java',\n",
              " 'promocity/src/main/java/ufc/cmu/promocity/backend/service/interfaces/IStoreService.java',\n",
              " 'promocity/src/main/java/ufc/cmu/promocity/backend/service/interfaces/IUserService.java',\n",
              " 'promocity/src/main/java/ufc/cmu/promocity/backend/utils',\n",
              " 'promocity/src/main/java/ufc/cmu/promocity/backend/utils/GeradorSenha.java',\n",
              " 'promocity/src/main/java/ufc/cmu/promocity/backend/utils/ManipuladorDatas.java',\n",
              " 'promocity/src/main/java/ufc/cmu/promocity/backend/utils/Message.java',\n",
              " 'promocity/src/main/java/ufc/cmu/promocity/backend/utils/geographic',\n",
              " 'promocity/src/main/java/ufc/cmu/promocity/backend/utils/geographic/GPSPoint.java',\n",
              " 'promocity/src/main/java/ufc/cmu/promocity/backend/utils/geographic/GeographicArea.java',\n",
              " 'promocity/src/main/java/ufc/cmu/promocity/backend/utils/geographic/LocationStore.java',\n",
              " 'promocity/src/main/resources',\n",
              " 'promocity/src/main/resources/application.yml',\n",
              " 'promocity/src/main/resources/sql',\n",
              " 'promocity/src/main/resources/sql/populadados.sql',\n",
              " 'promocity/src/main/resources/sql/populausers.sql',\n",
              " 'promocity/src/main/resources/sql/security.sql',\n",
              " 'promocity/src/main/resources/static',\n",
              " 'promocity/src/main/resources/static/index.html',\n",
              " 'promocity/src/test',\n",
              " 'promocity/src/test/java',\n",
              " 'promocity/src/test/java/ufc',\n",
              " 'promocity/src/test/java/ufc/cmu',\n",
              " 'promocity/src/test/java/ufc/cmu/promocity',\n",
              " 'promocity/src/test/java/ufc/cmu/promocity/backend',\n",
              " 'promocity/src/test/java/ufc/cmu/promocity/backend/BackendApplicationTests.java',\n",
              " '',\n",
              " '34 directories, 84 files']"
            ]
          },
          "execution_count": 9,
          "metadata": {},
          "output_type": "execute_result"
        }
      ],
      "source": [
        "# Substitui o . por promocity/\n",
        "list_of_files_and_directories_updated = [each.replace('./', 'promocity/') for each in list_of_files_and_directories]\n",
        "list_of_files_and_directories_updated"
      ]
    },
    {
      "cell_type": "code",
      "execution_count": 10,
      "metadata": {},
      "outputs": [
        {
          "name": "stdout",
          "output_type": "stream",
          "text": [
            "promocity/src/main/java/ufc\n",
            "promocity/src/main/java/ufc/cmu\n",
            "promocity/src/main/java/ufc/cmu/promocity\n",
            "promocity/src/main/java/ufc/cmu/promocity/backend\n",
            "promocity/src/main/java/ufc/cmu/promocity/backend/BackendApplication.java\n",
            "promocity/src/main/java/ufc/cmu/promocity/backend/GenericExceptionMapper.java\n",
            "promocity/src/main/java/ufc/cmu/promocity/backend/JerseyConfiguration.java\n",
            "promocity/src/main/java/ufc/cmu/promocity/backend/context\n",
            "promocity/src/main/java/ufc/cmu/promocity/backend/context/CouponsSent.java\n",
            "promocity/src/main/java/ufc/cmu/promocity/backend/context/Messenger.java\n",
            "promocity/src/main/java/ufc/cmu/promocity/backend/context/PromotionArea.java\n",
            "promocity/src/main/java/ufc/cmu/promocity/backend/context/UserLocationMonitoring.java\n",
            "promocity/src/main/java/ufc/cmu/promocity/backend/controller\n",
            "promocity/src/main/java/ufc/cmu/promocity/backend/controller/BookController.java\n",
            "promocity/src/main/java/ufc/cmu/promocity/backend/controller/CouponController.java\n",
            "promocity/src/main/java/ufc/cmu/promocity/backend/controller/PrincipalController.java\n",
            "promocity/src/main/java/ufc/cmu/promocity/backend/controller/PromotionController.java\n",
            "promocity/src/main/java/ufc/cmu/promocity/backend/controller/StoreController.java\n",
            "promocity/src/main/java/ufc/cmu/promocity/backend/controller/UserController.java\n",
            "promocity/src/main/java/ufc/cmu/promocity/backend/model\n",
            "promocity/src/main/java/ufc/cmu/promocity/backend/model/AbstractModel.java\n",
            "promocity/src/main/java/ufc/cmu/promocity/backend/model/Book.java\n",
            "promocity/src/main/java/ufc/cmu/promocity/backend/model/Category.java\n",
            "promocity/src/main/java/ufc/cmu/promocity/backend/model/Coupon.java\n",
            "promocity/src/main/java/ufc/cmu/promocity/backend/model/MyStores.java\n",
            "promocity/src/main/java/ufc/cmu/promocity/backend/model/MyTracking.java\n",
            "promocity/src/main/java/ufc/cmu/promocity/backend/model/Promotion.java\n",
            "promocity/src/main/java/ufc/cmu/promocity/backend/model/Store.java\n",
            "promocity/src/main/java/ufc/cmu/promocity/backend/model/Track.java\n",
            "promocity/src/main/java/ufc/cmu/promocity/backend/model/Users.java\n",
            "promocity/src/main/java/ufc/cmu/promocity/backend/report\n",
            "promocity/src/main/java/ufc/cmu/promocity/backend/report/ReportApplication.java\n",
            "promocity/src/main/java/ufc/cmu/promocity/backend/report/ReportCoupon.java\n",
            "promocity/src/main/java/ufc/cmu/promocity/backend/report/ReportPromotion.java\n",
            "promocity/src/main/java/ufc/cmu/promocity/backend/report/ReportStore.java\n",
            "promocity/src/main/java/ufc/cmu/promocity/backend/report/ReportUser.java\n",
            "promocity/src/main/java/ufc/cmu/promocity/backend/repository\n",
            "promocity/src/main/java/ufc/cmu/promocity/backend/repository/CouponsRepository.java\n",
            "promocity/src/main/java/ufc/cmu/promocity/backend/repository/MyStoresRepository.java\n",
            "promocity/src/main/java/ufc/cmu/promocity/backend/repository/MyTrackingRepository.java\n",
            "promocity/src/main/java/ufc/cmu/promocity/backend/repository/PromotionsRepository.java\n",
            "promocity/src/main/java/ufc/cmu/promocity/backend/repository/StoresRepository.java\n",
            "promocity/src/main/java/ufc/cmu/promocity/backend/repository/TrackRepository.java\n",
            "promocity/src/main/java/ufc/cmu/promocity/backend/repository/UsersRepository.java\n",
            "promocity/src/main/java/ufc/cmu/promocity/backend/security\n",
            "promocity/src/main/java/ufc/cmu/promocity/backend/security/WebSecurityConfig.java\n",
            "promocity/src/main/java/ufc/cmu/promocity/backend/service\n",
            "promocity/src/main/java/ufc/cmu/promocity/backend/service/AbstractService.java\n",
            "promocity/src/main/java/ufc/cmu/promocity/backend/service/BookService.java\n",
            "promocity/src/main/java/ufc/cmu/promocity/backend/service/CouponsService.java\n",
            "promocity/src/main/java/ufc/cmu/promocity/backend/service/MyStoresService.java\n",
            "promocity/src/main/java/ufc/cmu/promocity/backend/service/MyTrackingService.java\n",
            "promocity/src/main/java/ufc/cmu/promocity/backend/service/PromotionsService.java\n",
            "promocity/src/main/java/ufc/cmu/promocity/backend/service/StoreService.java\n",
            "promocity/src/main/java/ufc/cmu/promocity/backend/service/TrackService.java\n",
            "promocity/src/main/java/ufc/cmu/promocity/backend/service/UsersService.java\n",
            "promocity/src/main/java/ufc/cmu/promocity/backend/service/exceptions\n",
            "promocity/src/main/java/ufc/cmu/promocity/backend/service/exceptions/BookNotFoundException.java\n",
            "promocity/src/main/java/ufc/cmu/promocity/backend/service/exceptions/CouponNotFoundException.java\n",
            "promocity/src/main/java/ufc/cmu/promocity/backend/service/exceptions/PromotionNotFoundException.java\n",
            "promocity/src/main/java/ufc/cmu/promocity/backend/service/exceptions/StoreNotFoundException.java\n",
            "promocity/src/main/java/ufc/cmu/promocity/backend/service/exceptions/UserNotFoundException.java\n",
            "promocity/src/main/java/ufc/cmu/promocity/backend/service/interfaces\n",
            "promocity/src/main/java/ufc/cmu/promocity/backend/service/interfaces/ICouponService.java\n",
            "promocity/src/main/java/ufc/cmu/promocity/backend/service/interfaces/IPromotionService.java\n",
            "promocity/src/main/java/ufc/cmu/promocity/backend/service/interfaces/IStoreService.java\n",
            "promocity/src/main/java/ufc/cmu/promocity/backend/service/interfaces/IUserService.java\n",
            "promocity/src/main/java/ufc/cmu/promocity/backend/utils\n",
            "promocity/src/main/java/ufc/cmu/promocity/backend/utils/GeradorSenha.java\n",
            "promocity/src/main/java/ufc/cmu/promocity/backend/utils/ManipuladorDatas.java\n",
            "promocity/src/main/java/ufc/cmu/promocity/backend/utils/Message.java\n",
            "promocity/src/main/java/ufc/cmu/promocity/backend/utils/geographic\n",
            "promocity/src/main/java/ufc/cmu/promocity/backend/utils/geographic/GPSPoint.java\n",
            "promocity/src/main/java/ufc/cmu/promocity/backend/utils/geographic/GeographicArea.java\n",
            "promocity/src/main/java/ufc/cmu/promocity/backend/utils/geographic/LocationStore.java\n"
          ]
        }
      ],
      "source": [
        "# Escolhe o diretorio do source java\n",
        "# Lista apenas arquivos e diretorios do src/main/java\n",
        "list_of_files_and_directories_src = []\n",
        "\n",
        "for item in list_of_files_and_directories_updated:\n",
        "  if 'src' in item:\n",
        "    if 'src/main/java/' in item:\n",
        "      print(item)\n",
        "      list_of_files_and_directories_src.append(item)"
      ]
    },
    {
      "cell_type": "code",
      "execution_count": 11,
      "metadata": {},
      "outputs": [],
      "source": [
        "# popula os labels, parents e values\n",
        "# adaptado de https://plotly.com/python/treemaps/\n",
        "labels = []\n",
        "parents = []\n",
        "for each in list_of_files_and_directories_src:\n",
        "  nome_item = each.split('/')[-1]\n",
        "  labels.append(nome_item)\n",
        "  if os.path.isdir(each):\n",
        "    parents.append(os.path.dirname(nome_item))\n",
        "  else: \n",
        "    elemento = Path(each).parent\n",
        "    elemento = str(elemento)\n",
        "    elemento = elemento.split('/')[-1]\n",
        "    parents.append( str(elemento) )\n",
        "\n",
        "values = [1 for i in range(0, len(labels) )]"
      ]
    },
    {
      "cell_type": "code",
      "execution_count": 12,
      "metadata": {},
      "outputs": [
        {
          "data": {
            "application/vnd.plotly.v1+json": {
              "config": {
                "plotlyServerURL": "https://plot.ly"
              },
              "data": [
                {
                  "labels": [
                    "ufc",
                    "cmu",
                    "promocity",
                    "backend",
                    "BackendApplication.java",
                    "GenericExceptionMapper.java",
                    "JerseyConfiguration.java",
                    "context",
                    "CouponsSent.java",
                    "Messenger.java",
                    "PromotionArea.java",
                    "UserLocationMonitoring.java",
                    "controller",
                    "BookController.java",
                    "CouponController.java",
                    "PrincipalController.java",
                    "PromotionController.java",
                    "StoreController.java",
                    "UserController.java",
                    "model",
                    "AbstractModel.java",
                    "Book.java",
                    "Category.java",
                    "Coupon.java",
                    "MyStores.java",
                    "MyTracking.java",
                    "Promotion.java",
                    "Store.java",
                    "Track.java",
                    "Users.java",
                    "report",
                    "ReportApplication.java",
                    "ReportCoupon.java",
                    "ReportPromotion.java",
                    "ReportStore.java",
                    "ReportUser.java",
                    "repository",
                    "CouponsRepository.java",
                    "MyStoresRepository.java",
                    "MyTrackingRepository.java",
                    "PromotionsRepository.java",
                    "StoresRepository.java",
                    "TrackRepository.java",
                    "UsersRepository.java",
                    "security",
                    "WebSecurityConfig.java",
                    "service",
                    "AbstractService.java",
                    "BookService.java",
                    "CouponsService.java",
                    "MyStoresService.java",
                    "MyTrackingService.java",
                    "PromotionsService.java",
                    "StoreService.java",
                    "TrackService.java",
                    "UsersService.java",
                    "exceptions",
                    "BookNotFoundException.java",
                    "CouponNotFoundException.java",
                    "PromotionNotFoundException.java",
                    "StoreNotFoundException.java",
                    "UserNotFoundException.java",
                    "interfaces",
                    "ICouponService.java",
                    "IPromotionService.java",
                    "IStoreService.java",
                    "IUserService.java",
                    "utils",
                    "GeradorSenha.java",
                    "ManipuladorDatas.java",
                    "Message.java",
                    "geographic",
                    "GPSPoint.java",
                    "GeographicArea.java",
                    "LocationStore.java"
                  ],
                  "marker": {
                    "colorscale": [
                      [
                        0,
                        "rgb(247,251,255)"
                      ],
                      [
                        0.125,
                        "rgb(222,235,247)"
                      ],
                      [
                        0.25,
                        "rgb(198,219,239)"
                      ],
                      [
                        0.375,
                        "rgb(158,202,225)"
                      ],
                      [
                        0.5,
                        "rgb(107,174,214)"
                      ],
                      [
                        0.625,
                        "rgb(66,146,198)"
                      ],
                      [
                        0.75,
                        "rgb(33,113,181)"
                      ],
                      [
                        0.875,
                        "rgb(8,81,156)"
                      ],
                      [
                        1,
                        "rgb(8,48,107)"
                      ]
                    ]
                  },
                  "parents": [
                    "",
                    "",
                    "",
                    "",
                    "backend",
                    "backend",
                    "backend",
                    "",
                    "context",
                    "context",
                    "context",
                    "context",
                    "",
                    "controller",
                    "controller",
                    "controller",
                    "controller",
                    "controller",
                    "controller",
                    "",
                    "model",
                    "model",
                    "model",
                    "model",
                    "model",
                    "model",
                    "model",
                    "model",
                    "model",
                    "model",
                    "",
                    "report",
                    "report",
                    "report",
                    "report",
                    "report",
                    "",
                    "repository",
                    "repository",
                    "repository",
                    "repository",
                    "repository",
                    "repository",
                    "repository",
                    "",
                    "security",
                    "",
                    "service",
                    "service",
                    "service",
                    "service",
                    "service",
                    "service",
                    "service",
                    "service",
                    "service",
                    "",
                    "exceptions",
                    "exceptions",
                    "exceptions",
                    "exceptions",
                    "exceptions",
                    "",
                    "interfaces",
                    "interfaces",
                    "interfaces",
                    "interfaces",
                    "",
                    "utils",
                    "utils",
                    "utils",
                    "",
                    "geographic",
                    "geographic",
                    "geographic"
                  ],
                  "type": "treemap",
                  "values": [
                    1,
                    1,
                    1,
                    1,
                    1,
                    1,
                    1,
                    1,
                    1,
                    1,
                    1,
                    1,
                    1,
                    1,
                    1,
                    1,
                    1,
                    1,
                    1,
                    1,
                    1,
                    1,
                    1,
                    1,
                    1,
                    1,
                    1,
                    1,
                    1,
                    1,
                    1,
                    1,
                    1,
                    1,
                    1,
                    1,
                    1,
                    1,
                    1,
                    1,
                    1,
                    1,
                    1,
                    1,
                    1,
                    1,
                    1,
                    1,
                    1,
                    1,
                    1,
                    1,
                    1,
                    1,
                    1,
                    1,
                    1,
                    1,
                    1,
                    1,
                    1,
                    1,
                    1,
                    1,
                    1,
                    1,
                    1,
                    1,
                    1,
                    1,
                    1,
                    1,
                    1,
                    1,
                    1
                  ]
                }
              ],
              "layout": {
                "margin": {
                  "b": 25,
                  "l": 25,
                  "r": 25,
                  "t": 50
                },
                "template": {
                  "data": {
                    "bar": [
                      {
                        "error_x": {
                          "color": "#2a3f5f"
                        },
                        "error_y": {
                          "color": "#2a3f5f"
                        },
                        "marker": {
                          "line": {
                            "color": "#E5ECF6",
                            "width": 0.5
                          },
                          "pattern": {
                            "fillmode": "overlay",
                            "size": 10,
                            "solidity": 0.2
                          }
                        },
                        "type": "bar"
                      }
                    ],
                    "barpolar": [
                      {
                        "marker": {
                          "line": {
                            "color": "#E5ECF6",
                            "width": 0.5
                          },
                          "pattern": {
                            "fillmode": "overlay",
                            "size": 10,
                            "solidity": 0.2
                          }
                        },
                        "type": "barpolar"
                      }
                    ],
                    "carpet": [
                      {
                        "aaxis": {
                          "endlinecolor": "#2a3f5f",
                          "gridcolor": "white",
                          "linecolor": "white",
                          "minorgridcolor": "white",
                          "startlinecolor": "#2a3f5f"
                        },
                        "baxis": {
                          "endlinecolor": "#2a3f5f",
                          "gridcolor": "white",
                          "linecolor": "white",
                          "minorgridcolor": "white",
                          "startlinecolor": "#2a3f5f"
                        },
                        "type": "carpet"
                      }
                    ],
                    "choropleth": [
                      {
                        "colorbar": {
                          "outlinewidth": 0,
                          "ticks": ""
                        },
                        "type": "choropleth"
                      }
                    ],
                    "contour": [
                      {
                        "colorbar": {
                          "outlinewidth": 0,
                          "ticks": ""
                        },
                        "colorscale": [
                          [
                            0,
                            "#0d0887"
                          ],
                          [
                            0.1111111111111111,
                            "#46039f"
                          ],
                          [
                            0.2222222222222222,
                            "#7201a8"
                          ],
                          [
                            0.3333333333333333,
                            "#9c179e"
                          ],
                          [
                            0.4444444444444444,
                            "#bd3786"
                          ],
                          [
                            0.5555555555555556,
                            "#d8576b"
                          ],
                          [
                            0.6666666666666666,
                            "#ed7953"
                          ],
                          [
                            0.7777777777777778,
                            "#fb9f3a"
                          ],
                          [
                            0.8888888888888888,
                            "#fdca26"
                          ],
                          [
                            1,
                            "#f0f921"
                          ]
                        ],
                        "type": "contour"
                      }
                    ],
                    "contourcarpet": [
                      {
                        "colorbar": {
                          "outlinewidth": 0,
                          "ticks": ""
                        },
                        "type": "contourcarpet"
                      }
                    ],
                    "heatmap": [
                      {
                        "colorbar": {
                          "outlinewidth": 0,
                          "ticks": ""
                        },
                        "colorscale": [
                          [
                            0,
                            "#0d0887"
                          ],
                          [
                            0.1111111111111111,
                            "#46039f"
                          ],
                          [
                            0.2222222222222222,
                            "#7201a8"
                          ],
                          [
                            0.3333333333333333,
                            "#9c179e"
                          ],
                          [
                            0.4444444444444444,
                            "#bd3786"
                          ],
                          [
                            0.5555555555555556,
                            "#d8576b"
                          ],
                          [
                            0.6666666666666666,
                            "#ed7953"
                          ],
                          [
                            0.7777777777777778,
                            "#fb9f3a"
                          ],
                          [
                            0.8888888888888888,
                            "#fdca26"
                          ],
                          [
                            1,
                            "#f0f921"
                          ]
                        ],
                        "type": "heatmap"
                      }
                    ],
                    "heatmapgl": [
                      {
                        "colorbar": {
                          "outlinewidth": 0,
                          "ticks": ""
                        },
                        "colorscale": [
                          [
                            0,
                            "#0d0887"
                          ],
                          [
                            0.1111111111111111,
                            "#46039f"
                          ],
                          [
                            0.2222222222222222,
                            "#7201a8"
                          ],
                          [
                            0.3333333333333333,
                            "#9c179e"
                          ],
                          [
                            0.4444444444444444,
                            "#bd3786"
                          ],
                          [
                            0.5555555555555556,
                            "#d8576b"
                          ],
                          [
                            0.6666666666666666,
                            "#ed7953"
                          ],
                          [
                            0.7777777777777778,
                            "#fb9f3a"
                          ],
                          [
                            0.8888888888888888,
                            "#fdca26"
                          ],
                          [
                            1,
                            "#f0f921"
                          ]
                        ],
                        "type": "heatmapgl"
                      }
                    ],
                    "histogram": [
                      {
                        "marker": {
                          "pattern": {
                            "fillmode": "overlay",
                            "size": 10,
                            "solidity": 0.2
                          }
                        },
                        "type": "histogram"
                      }
                    ],
                    "histogram2d": [
                      {
                        "colorbar": {
                          "outlinewidth": 0,
                          "ticks": ""
                        },
                        "colorscale": [
                          [
                            0,
                            "#0d0887"
                          ],
                          [
                            0.1111111111111111,
                            "#46039f"
                          ],
                          [
                            0.2222222222222222,
                            "#7201a8"
                          ],
                          [
                            0.3333333333333333,
                            "#9c179e"
                          ],
                          [
                            0.4444444444444444,
                            "#bd3786"
                          ],
                          [
                            0.5555555555555556,
                            "#d8576b"
                          ],
                          [
                            0.6666666666666666,
                            "#ed7953"
                          ],
                          [
                            0.7777777777777778,
                            "#fb9f3a"
                          ],
                          [
                            0.8888888888888888,
                            "#fdca26"
                          ],
                          [
                            1,
                            "#f0f921"
                          ]
                        ],
                        "type": "histogram2d"
                      }
                    ],
                    "histogram2dcontour": [
                      {
                        "colorbar": {
                          "outlinewidth": 0,
                          "ticks": ""
                        },
                        "colorscale": [
                          [
                            0,
                            "#0d0887"
                          ],
                          [
                            0.1111111111111111,
                            "#46039f"
                          ],
                          [
                            0.2222222222222222,
                            "#7201a8"
                          ],
                          [
                            0.3333333333333333,
                            "#9c179e"
                          ],
                          [
                            0.4444444444444444,
                            "#bd3786"
                          ],
                          [
                            0.5555555555555556,
                            "#d8576b"
                          ],
                          [
                            0.6666666666666666,
                            "#ed7953"
                          ],
                          [
                            0.7777777777777778,
                            "#fb9f3a"
                          ],
                          [
                            0.8888888888888888,
                            "#fdca26"
                          ],
                          [
                            1,
                            "#f0f921"
                          ]
                        ],
                        "type": "histogram2dcontour"
                      }
                    ],
                    "mesh3d": [
                      {
                        "colorbar": {
                          "outlinewidth": 0,
                          "ticks": ""
                        },
                        "type": "mesh3d"
                      }
                    ],
                    "parcoords": [
                      {
                        "line": {
                          "colorbar": {
                            "outlinewidth": 0,
                            "ticks": ""
                          }
                        },
                        "type": "parcoords"
                      }
                    ],
                    "pie": [
                      {
                        "automargin": true,
                        "type": "pie"
                      }
                    ],
                    "scatter": [
                      {
                        "marker": {
                          "colorbar": {
                            "outlinewidth": 0,
                            "ticks": ""
                          }
                        },
                        "type": "scatter"
                      }
                    ],
                    "scatter3d": [
                      {
                        "line": {
                          "colorbar": {
                            "outlinewidth": 0,
                            "ticks": ""
                          }
                        },
                        "marker": {
                          "colorbar": {
                            "outlinewidth": 0,
                            "ticks": ""
                          }
                        },
                        "type": "scatter3d"
                      }
                    ],
                    "scattercarpet": [
                      {
                        "marker": {
                          "colorbar": {
                            "outlinewidth": 0,
                            "ticks": ""
                          }
                        },
                        "type": "scattercarpet"
                      }
                    ],
                    "scattergeo": [
                      {
                        "marker": {
                          "colorbar": {
                            "outlinewidth": 0,
                            "ticks": ""
                          }
                        },
                        "type": "scattergeo"
                      }
                    ],
                    "scattergl": [
                      {
                        "marker": {
                          "colorbar": {
                            "outlinewidth": 0,
                            "ticks": ""
                          }
                        },
                        "type": "scattergl"
                      }
                    ],
                    "scattermapbox": [
                      {
                        "marker": {
                          "colorbar": {
                            "outlinewidth": 0,
                            "ticks": ""
                          }
                        },
                        "type": "scattermapbox"
                      }
                    ],
                    "scatterpolar": [
                      {
                        "marker": {
                          "colorbar": {
                            "outlinewidth": 0,
                            "ticks": ""
                          }
                        },
                        "type": "scatterpolar"
                      }
                    ],
                    "scatterpolargl": [
                      {
                        "marker": {
                          "colorbar": {
                            "outlinewidth": 0,
                            "ticks": ""
                          }
                        },
                        "type": "scatterpolargl"
                      }
                    ],
                    "scatterternary": [
                      {
                        "marker": {
                          "colorbar": {
                            "outlinewidth": 0,
                            "ticks": ""
                          }
                        },
                        "type": "scatterternary"
                      }
                    ],
                    "surface": [
                      {
                        "colorbar": {
                          "outlinewidth": 0,
                          "ticks": ""
                        },
                        "colorscale": [
                          [
                            0,
                            "#0d0887"
                          ],
                          [
                            0.1111111111111111,
                            "#46039f"
                          ],
                          [
                            0.2222222222222222,
                            "#7201a8"
                          ],
                          [
                            0.3333333333333333,
                            "#9c179e"
                          ],
                          [
                            0.4444444444444444,
                            "#bd3786"
                          ],
                          [
                            0.5555555555555556,
                            "#d8576b"
                          ],
                          [
                            0.6666666666666666,
                            "#ed7953"
                          ],
                          [
                            0.7777777777777778,
                            "#fb9f3a"
                          ],
                          [
                            0.8888888888888888,
                            "#fdca26"
                          ],
                          [
                            1,
                            "#f0f921"
                          ]
                        ],
                        "type": "surface"
                      }
                    ],
                    "table": [
                      {
                        "cells": {
                          "fill": {
                            "color": "#EBF0F8"
                          },
                          "line": {
                            "color": "white"
                          }
                        },
                        "header": {
                          "fill": {
                            "color": "#C8D4E3"
                          },
                          "line": {
                            "color": "white"
                          }
                        },
                        "type": "table"
                      }
                    ]
                  },
                  "layout": {
                    "annotationdefaults": {
                      "arrowcolor": "#2a3f5f",
                      "arrowhead": 0,
                      "arrowwidth": 1
                    },
                    "autotypenumbers": "strict",
                    "coloraxis": {
                      "colorbar": {
                        "outlinewidth": 0,
                        "ticks": ""
                      }
                    },
                    "colorscale": {
                      "diverging": [
                        [
                          0,
                          "#8e0152"
                        ],
                        [
                          0.1,
                          "#c51b7d"
                        ],
                        [
                          0.2,
                          "#de77ae"
                        ],
                        [
                          0.3,
                          "#f1b6da"
                        ],
                        [
                          0.4,
                          "#fde0ef"
                        ],
                        [
                          0.5,
                          "#f7f7f7"
                        ],
                        [
                          0.6,
                          "#e6f5d0"
                        ],
                        [
                          0.7,
                          "#b8e186"
                        ],
                        [
                          0.8,
                          "#7fbc41"
                        ],
                        [
                          0.9,
                          "#4d9221"
                        ],
                        [
                          1,
                          "#276419"
                        ]
                      ],
                      "sequential": [
                        [
                          0,
                          "#0d0887"
                        ],
                        [
                          0.1111111111111111,
                          "#46039f"
                        ],
                        [
                          0.2222222222222222,
                          "#7201a8"
                        ],
                        [
                          0.3333333333333333,
                          "#9c179e"
                        ],
                        [
                          0.4444444444444444,
                          "#bd3786"
                        ],
                        [
                          0.5555555555555556,
                          "#d8576b"
                        ],
                        [
                          0.6666666666666666,
                          "#ed7953"
                        ],
                        [
                          0.7777777777777778,
                          "#fb9f3a"
                        ],
                        [
                          0.8888888888888888,
                          "#fdca26"
                        ],
                        [
                          1,
                          "#f0f921"
                        ]
                      ],
                      "sequentialminus": [
                        [
                          0,
                          "#0d0887"
                        ],
                        [
                          0.1111111111111111,
                          "#46039f"
                        ],
                        [
                          0.2222222222222222,
                          "#7201a8"
                        ],
                        [
                          0.3333333333333333,
                          "#9c179e"
                        ],
                        [
                          0.4444444444444444,
                          "#bd3786"
                        ],
                        [
                          0.5555555555555556,
                          "#d8576b"
                        ],
                        [
                          0.6666666666666666,
                          "#ed7953"
                        ],
                        [
                          0.7777777777777778,
                          "#fb9f3a"
                        ],
                        [
                          0.8888888888888888,
                          "#fdca26"
                        ],
                        [
                          1,
                          "#f0f921"
                        ]
                      ]
                    },
                    "colorway": [
                      "#636efa",
                      "#EF553B",
                      "#00cc96",
                      "#ab63fa",
                      "#FFA15A",
                      "#19d3f3",
                      "#FF6692",
                      "#B6E880",
                      "#FF97FF",
                      "#FECB52"
                    ],
                    "font": {
                      "color": "#2a3f5f"
                    },
                    "geo": {
                      "bgcolor": "white",
                      "lakecolor": "white",
                      "landcolor": "#E5ECF6",
                      "showlakes": true,
                      "showland": true,
                      "subunitcolor": "white"
                    },
                    "hoverlabel": {
                      "align": "left"
                    },
                    "hovermode": "closest",
                    "mapbox": {
                      "style": "light"
                    },
                    "paper_bgcolor": "white",
                    "plot_bgcolor": "#E5ECF6",
                    "polar": {
                      "angularaxis": {
                        "gridcolor": "white",
                        "linecolor": "white",
                        "ticks": ""
                      },
                      "bgcolor": "#E5ECF6",
                      "radialaxis": {
                        "gridcolor": "white",
                        "linecolor": "white",
                        "ticks": ""
                      }
                    },
                    "scene": {
                      "xaxis": {
                        "backgroundcolor": "#E5ECF6",
                        "gridcolor": "white",
                        "gridwidth": 2,
                        "linecolor": "white",
                        "showbackground": true,
                        "ticks": "",
                        "zerolinecolor": "white"
                      },
                      "yaxis": {
                        "backgroundcolor": "#E5ECF6",
                        "gridcolor": "white",
                        "gridwidth": 2,
                        "linecolor": "white",
                        "showbackground": true,
                        "ticks": "",
                        "zerolinecolor": "white"
                      },
                      "zaxis": {
                        "backgroundcolor": "#E5ECF6",
                        "gridcolor": "white",
                        "gridwidth": 2,
                        "linecolor": "white",
                        "showbackground": true,
                        "ticks": "",
                        "zerolinecolor": "white"
                      }
                    },
                    "shapedefaults": {
                      "line": {
                        "color": "#2a3f5f"
                      }
                    },
                    "ternary": {
                      "aaxis": {
                        "gridcolor": "white",
                        "linecolor": "white",
                        "ticks": ""
                      },
                      "baxis": {
                        "gridcolor": "white",
                        "linecolor": "white",
                        "ticks": ""
                      },
                      "bgcolor": "#E5ECF6",
                      "caxis": {
                        "gridcolor": "white",
                        "linecolor": "white",
                        "ticks": ""
                      }
                    },
                    "title": {
                      "x": 0.05
                    },
                    "xaxis": {
                      "automargin": true,
                      "gridcolor": "white",
                      "linecolor": "white",
                      "ticks": "",
                      "title": {
                        "standoff": 15
                      },
                      "zerolinecolor": "white",
                      "zerolinewidth": 2
                    },
                    "yaxis": {
                      "automargin": true,
                      "gridcolor": "white",
                      "linecolor": "white",
                      "ticks": "",
                      "title": {
                        "standoff": 15
                      },
                      "zerolinecolor": "white",
                      "zerolinewidth": 2
                    }
                  }
                }
              }
            }
          },
          "metadata": {},
          "output_type": "display_data"
        }
      ],
      "source": [
        "fig = go.Figure(go.Treemap(\n",
        "    labels = labels,\n",
        "    values = values,\n",
        "    parents = parents,\n",
        "    marker_colorscale = 'Blues'\n",
        "))\n",
        "\n",
        "fig.update_layout(margin = dict(t=50, l=25, r=25, b=25))\n",
        "\n",
        "fig.show()"
      ]
    }
  ],
  "metadata": {
    "colab": {
      "authorship_tag": "ABX9TyNIqnE/+7lcUo4wL5mJ6Zqr",
      "include_colab_link": true,
      "name": "Untitled2.ipynb",
      "provenance": []
    },
    "kernelspec": {
      "display_name": "Python 3",
      "name": "python3"
    },
    "language_info": {
      "codemirror_mode": {
        "name": "ipython",
        "version": 3
      },
      "file_extension": ".py",
      "mimetype": "text/x-python",
      "name": "python",
      "nbconvert_exporter": "python",
      "pygments_lexer": "ipython3",
      "version": "3.6.3"
    }
  },
  "nbformat": 4,
  "nbformat_minor": 0
}
