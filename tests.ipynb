{
  "nbformat": 4,
  "nbformat_minor": 0,
  "metadata": {
    "colab": {
      "name": "Untitled2.ipynb",
      "provenance": [],
      "authorship_tag": "ABX9TyNIqnE/+7lcUo4wL5mJ6Zqr",
      "include_colab_link": true
    },
    "kernelspec": {
      "name": "python3",
      "display_name": "Python 3"
    },
    "language_info": {
      "name": "python"
    }
  },
  "cells": [
    {
      "cell_type": "markdown",
      "metadata": {
        "id": "view-in-github",
        "colab_type": "text"
      },
      "source": [
        "<a href=\"https://colab.research.google.com/github/giselesousar/msr_tests/blob/main/tests.ipynb\" target=\"_parent\"><img src=\"https://colab.research.google.com/assets/colab-badge.svg\" alt=\"Open In Colab\"/></a>"
      ]
    },
    {
      "cell_type": "markdown",
      "source": [
        "# Imports"
      ],
      "metadata": {
        "id": "SWNigKknU6s9"
      }
    },
    {
      "cell_type": "code",
      "source": [
        "!pip install pydriller"
      ],
      "metadata": {
        "colab": {
          "base_uri": "https://localhost:8080/"
        },
        "id": "HOQSKegLVLlI",
        "outputId": "11cb5ebe-9555-42c5-b9b9-f6fb7f90c31a"
      },
      "execution_count": 1,
      "outputs": [
        {
          "output_type": "stream",
          "name": "stdout",
          "text": [
            "Collecting pydriller\n",
            "  Downloading PyDriller-2.0-py3-none-any.whl (65 kB)\n",
            "\u001b[?25l\r\u001b[K     |█████                           | 10 kB 27.7 MB/s eta 0:00:01\r\u001b[K     |██████████                      | 20 kB 27.1 MB/s eta 0:00:01\r\u001b[K     |███████████████                 | 30 kB 18.2 MB/s eta 0:00:01\r\u001b[K     |████████████████████            | 40 kB 12.9 MB/s eta 0:00:01\r\u001b[K     |█████████████████████████       | 51 kB 9.1 MB/s eta 0:00:01\r\u001b[K     |██████████████████████████████  | 61 kB 9.7 MB/s eta 0:00:01\r\u001b[K     |████████████████████████████████| 65 kB 2.1 MB/s \n",
            "\u001b[?25hCollecting lizard\n",
            "  Downloading lizard-1.17.9-py2.py3-none-any.whl (64 kB)\n",
            "\u001b[?25l\r\u001b[K     |█████                           | 10 kB 30.2 MB/s eta 0:00:01\r\u001b[K     |██████████▏                     | 20 kB 39.8 MB/s eta 0:00:01\r\u001b[K     |███████████████▏                | 30 kB 48.4 MB/s eta 0:00:01\r\u001b[K     |████████████████████▎           | 40 kB 55.6 MB/s eta 0:00:01\r\u001b[K     |█████████████████████████▎      | 51 kB 55.3 MB/s eta 0:00:01\r\u001b[K     |██████████████████████████████▍ | 61 kB 58.0 MB/s eta 0:00:01\r\u001b[K     |████████████████████████████████| 64 kB 3.1 MB/s \n",
            "\u001b[?25hRequirement already satisfied: pytz in /usr/local/lib/python3.7/dist-packages (from pydriller) (2018.9)\n",
            "Collecting gitpython\n",
            "  Downloading GitPython-3.1.26-py3-none-any.whl (180 kB)\n",
            "\u001b[K     |████████████████████████████████| 180 kB 49.9 MB/s \n",
            "\u001b[?25hCollecting gitdb<5,>=4.0.1\n",
            "  Downloading gitdb-4.0.9-py3-none-any.whl (63 kB)\n",
            "\u001b[K     |████████████████████████████████| 63 kB 1.5 MB/s \n",
            "\u001b[?25hRequirement already satisfied: typing-extensions>=3.7.4.3 in /usr/local/lib/python3.7/dist-packages (from gitpython->pydriller) (3.10.0.2)\n",
            "Collecting smmap<6,>=3.0.1\n",
            "  Downloading smmap-5.0.0-py3-none-any.whl (24 kB)\n",
            "Installing collected packages: smmap, gitdb, lizard, gitpython, pydriller\n",
            "Successfully installed gitdb-4.0.9 gitpython-3.1.26 lizard-1.17.9 pydriller-2.0 smmap-5.0.0\n"
          ]
        }
      ]
    },
    {
      "cell_type": "code",
      "execution_count": 2,
      "metadata": {
        "id": "zyuL4zOkT_VI"
      },
      "outputs": [],
      "source": [
        "from os import walk, path, sep, rmdir\n",
        "from pydriller import Repository, Git\n",
        "from git import Repo, GitCommandError\n",
        "import shutil"
      ]
    },
    {
      "cell_type": "markdown",
      "source": [
        "# Variables"
      ],
      "metadata": {
        "id": "nMFRufhrVRbZ"
      }
    },
    {
      "cell_type": "code",
      "source": [
        "git_url = 'https://github.com/ES2-UFPI/e-motion'\n",
        "path_repository = '/content/repository'\n",
        "commit_hash = '5d86240a4e3f33c41250acafff8b69cd1f11bbcc'\n",
        "from_commit = 'e2325710c68d36565197e993526b61e5cc502b89'\n",
        "to_commit = '45feede34956fa177f57fbf054c58a393d48f48b'\n",
        "initial_tag = 'v0.1'\n",
        "final_tag = 'v1.0'"
      ],
      "metadata": {
        "id": "sJ-u1bw_VTez"
      },
      "execution_count": 3,
      "outputs": []
    },
    {
      "cell_type": "markdown",
      "source": [
        "# Clone repository"
      ],
      "metadata": {
        "id": "XvgQlDuFVYsj"
      }
    },
    {
      "cell_type": "code",
      "source": [
        "shutil.rmtree(path_repository)\n",
        "try:\n",
        "  Repo.clone_from(git_url, path_repository)\n",
        "except GitCommandError as e:\n",
        "  print('Repository already exists')"
      ],
      "metadata": {
        "id": "5BS4GAjcVc-d"
      },
      "execution_count": 4,
      "outputs": []
    },
    {
      "cell_type": "markdown",
      "source": [
        "# Analyzer"
      ],
      "metadata": {
        "id": "S2XGBojrVgNS"
      }
    },
    {
      "cell_type": "code",
      "source": [
        "def list_all_directories():\n",
        "  \"\"\"\n",
        "  List all directories in the repository \n",
        "  @return a list of strings (directory names)\n",
        "  \"\"\"\n",
        "  dirs_list = []\n",
        "  for _, dirs, _ in walk(path_repository):\n",
        "      dirs_list.extend(dirs)\n",
        "  return dirs_list\n",
        "print(list_all_directories())"
      ],
      "metadata": {
        "colab": {
          "base_uri": "https://localhost:8080/"
        },
        "id": "NupF1mqGVja_",
        "outputId": "d6372e8b-7b22-4f74-9452-7f561a438b0d"
      },
      "execution_count": 5,
      "outputs": [
        {
          "output_type": "stream",
          "name": "stdout",
          "text": [
            "['assets', 'backend', '.github', 'frontend', '.git', '.expo', 'src', '__tests__', 'entities', 'database', 'services', 'controllers', 'migrations', 'example', 'workflows', 'ISSUE_TEMPLATE', 'src', 'assets', '.expo-shared', 'views', 'store', 'assets', 'services', 'context', 'components', 'models', 'GerenciarProfessional', 'faq', 'home', 'SignUp', 'ClientList', 'ProfessionalAssociationCode', 'editProfile', 'RecordsList', 'Registration', 'authentication', 'profile', 'about', 'acompanhamento', 'HomeProfessional', 'HomeClient', 'views', 'ToBind', 'HoAmI', 'AvatarAndNickname', 'views', 'StepTwo', 'StepZero', 'StepThree', 'StepOne', 'CheckBoxGroup', 'views', 'cliente', 'comportamento', 'consequencias', 'antecedentes', 'reducers', 'auth', 'user', 'emotionalReaction', 'profilePictures', 'GlobalSnackbar', 'RadioButton', 'Record_card', 'Flux', 'Alert2Options', 'ClientCard', 'LineChartComponent', 'AlertConfirm', 'RadioButtonsComponent', 'Header', 'Snackbar', 'SearchBar', 'RecordProgressBar', 'Input', 'Avatar', 'BottomNavigation', 'InputValidator', 'logs', 'branches', 'refs', 'hooks', 'info', 'objects', 'refs', 'heads', 'remotes', 'origin', 'tags', 'heads', 'remotes', 'origin', 'pack', 'info']\n"
          ]
        }
      ]
    },
    {
      "cell_type": "code",
      "source": [
        "def list_all_files():\n",
        "  \"\"\"\n",
        "  List all files in the repository \n",
        "  @return a list of strings (files names)\n",
        "  \"\"\"\n",
        "  files_list = []\n",
        "  for _, _, files in walk(path_repository):\n",
        "      files_list.extend(files)\n",
        "  return files_list\n",
        "print(list_all_files())"
      ],
      "metadata": {
        "colab": {
          "base_uri": "https://localhost:8080/"
        },
        "id": "f43mH9UoVmfT",
        "outputId": "63648163-fe8c-466b-974f-143d3c0fab4e"
      },
      "execution_count": 6,
      "outputs": [
        {
          "output_type": "stream",
          "name": "stdout",
          "text": [
            "['CODE_OF_CONDUCT.md', 'CONTRIBUTING.md', 'pull_request_template.md', '.gitignore', 'LICENSE', 'README.md', 'banner.png', 'jest.config.js', 'package.json', 'ormconfig.ts', '.gitignore', 'tsconfig.json', 'server.ts', 'routes.ts', 'User.ts', 'Client.ts', 'Professional.ts', 'Emotion.ts', 'EmotionalReaction.ts', 'index.ts', '1622339738086-CreateClient.ts', '1621342549073-CreateUser.ts', '1621342623281-CreateProfessional.ts', '1622341164120-CreateEmotionalReaction.ts', '1625436997301-UpadateProfessionalColumns.ts', '1622342796231-CreateEmotion.ts', '1624500289158-UpdateUserFieldEmail.ts', '1625439373381-UpadateClientColumns.ts', 'ClientService.ts', 'EmotionalReactionService.ts', 'UserService.ts', 'ProfessionalService.ts', 'ProfessionalController.ts', 'ClientController.ts', 'EmotionalRecordController.ts', 'UserController.ts', 'Client.test.ts', 'Professional.test.ts', 'User.test.ts', 'EmotionReaction.test.ts', 'index.test.ts', 'dev_pullrequest.yml', 'expo_dev_pullrequest.yml', 'main.yml', 'dev.yml', 'expo_dev.yml', 'feature_request.md', 'App.tsx', 'package.json', 'app.json', '.gitignore', 'tsconfig.json', 'babel.config.js', 'evironment.ts', 'routes.tsx', 'styles.ts', 'index.tsx', 'index.tsx', 'index.tsx', 'styles.ts', 'index.tsx', 'styles.tsx', 'index.tsx', 'styles.tsx', 'index.tsx', 'styles.tsx', 'index.tsx', 'styles.ts', 'index.tsx', 'styles.ts', 'index.tsx', 'index.tsx', 'styles.ts', 'index.tsx', 'styles.ts', 'index.tsx', 'index.tsx', 'styles.ts', 'index.tsx', 'index.tsx', 'mock.ts', 'index.tsx', 'styles.ts', 'index.tsx', 'styles.ts', 'index.tsx', 'index.tsx', 'index.tsx', 'styles.ts', 'index.tsx', 'styles.ts', 'index.tsx', 'index.tsx', 'index.tsx', 'index.tsx', 'styles.ts', 'index.tsx', 'styles.ts', 'index.tsx', 'actions.ts', 'index.ts', 'rootReducer.ts', 'actions.ts', 'reducer.ts', 'actions.ts', 'reducer.ts', 'actions.ts', 'reducer.ts', 'profile.png', 'professional.png', 'logo-with-name.png', 'logo.png', 'background.png', 'alone-woman.png', 'home.png', '2.png', '3.png', '6.png', '4.png', '5.png', '1.png', 'api.ts', 'index.tsx', 'index.tsx', 'styles.ts', 'index.tsx', 'styles.ts', 'index.tsx', 'styles.ts', 'index.tsx', 'styles.ts', 'index.tsx', 'index.tsx', 'styles.ts', 'index.tsx', 'index.tsx', 'styles.ts', 'index.tsx', 'styles.ts', 'index.tsx', 'styles.ts', 'index.tsx', 'styles.ts', 'index.tsx', 'index.tsx', 'avatar.tsx', 'index.tsx', 'index.tsx', 'emotionalReaction.ts', 'icon.png', 'splash.png', 'assets.json', 'description', 'HEAD', 'index', 'config', 'packed-refs', 'HEAD', 'dev', 'HEAD', 'dev', 'HEAD', 'pre-rebase.sample', 'pre-commit.sample', 'commit-msg.sample', 'pre-applypatch.sample', 'pre-receive.sample', 'prepare-commit-msg.sample', 'applypatch-msg.sample', 'pre-push.sample', 'fsmonitor-watchman.sample', 'update.sample', 'post-update.sample', 'exclude', 'pack-7bdc42e0cc0f438ac0c37d90ccd4fa6cafbb9485.idx', 'pack-7bdc42e0cc0f438ac0c37d90ccd4fa6cafbb9485.pack', 'settings.json', 'README.md']\n"
          ]
        }
      ]
    },
    {
      "cell_type": "code",
      "source": [
        "def list_all_file_types():\n",
        "  \"\"\"\n",
        "  Lists all file types in the repository \n",
        "  @return a list of strings (file types)\n",
        "  \"\"\"\n",
        "  file_types = []\n",
        "  for _, _, files in walk(path_repository):\n",
        "      for f in files:\n",
        "          file_type = path.splitext(f)[1]\n",
        "          if file_type not in file_types and file_type != '':\n",
        "              file_types.append(file_type)\n",
        "  return file_types\n",
        "print(list_all_file_types())"
      ],
      "metadata": {
        "colab": {
          "base_uri": "https://localhost:8080/"
        },
        "id": "diS3aFoWVqfI",
        "outputId": "84cc0be2-88a4-466f-cc85-8ec18ffb8d6d"
      },
      "execution_count": 7,
      "outputs": [
        {
          "output_type": "stream",
          "name": "stdout",
          "text": [
            "['.md', '.png', '.js', '.json', '.ts', '.yml', '.tsx', '.sample', '.idx', '.pack']\n"
          ]
        }
      ]
    },
    {
      "cell_type": "code",
      "source": [
        "def list_all_commits():\n",
        "  \"\"\"\n",
        "  List all commits in the repository \n",
        "  @return a list of pydryiller commits\n",
        "  \"\"\"\n",
        "  commits = []\n",
        "  for commit in Repository(path_repository).traverse_commits():\n",
        "      commits.append(commit)\n",
        "  return commits\n",
        "\n",
        "for commit in list_all_commits():\n",
        "  print(f'{commit.hash}: {commit.author.email}') "
      ],
      "metadata": {
        "colab": {
          "base_uri": "https://localhost:8080/"
        },
        "id": "9DYbDLv1VxLr",
        "outputId": "b7e0bad7-d4cf-47ce-aebf-9960cb85db27"
      },
      "execution_count": 8,
      "outputs": [
        {
          "output_type": "stream",
          "name": "stdout",
          "text": [
            "5d86240a4e3f33c41250acafff8b69cd1f11bbcc: giselesousar@gmail.com\n",
            "95584bf2ea92a41978c96ce48947eec01bcb0724: basilio.arth@gmail.com\n",
            "0ff0882dcd103cb869d43cb68e5dad71355ed597: samuelssan28@gmail.com\n",
            "a45c0babbf7654f11c342f36690f705f5352b08b: lucasdanillo1998@gmail.com\n",
            "a5e2aa1d8f9aeedb0ca596deea588a106400de9a: lucasdanillo1998@gmail.com\n",
            "f979c3fee6147754adfa911128f67b89caf8c9c1: 42661697+SamuelSSan28@users.noreply.github.com\n",
            "70ab9bc5847b4d4e9bd8aee4e81434777569ddc7: samuelssan28@gmail.com\n",
            "527cd358852f0b66831c1d163f0fb61e0ef22a71: giselesousar@gmail.com\n",
            "ef1cffb988d79cff6a802953bdc146c954c5cf2d: basilio.arth@gmail.com\n",
            "af9a6f7a90ce521c7675bfbcba75a9848afae94c: 42661697+SamuelSSan28@users.noreply.github.com\n",
            "a1e9aae9ade172da5e92470995556aef7f9f068a: giselesousar@gmail.com\n",
            "57e7deef533bd511143bf1fc36ce8df518e8f2bc: 63355595+lucasdanillo@users.noreply.github.com\n",
            "66c238b83a8f6b8c2a9ccde325a8f0420d8e140d: lucasdanillo1998@gmail.com\n",
            "b1e9807b37ea2291e7486a942014aad0a41d6155: samuelssan28@gmail.com\n",
            "b3b3a9633022ec246f22b882799d1315cf0be710: lucasdanillo1998@gmail.com\n",
            "3ac22539949d66a817c11c086b4c46be3ae8c007: giselesousar@gmail.com\n",
            "318014c284f2d6f836a8260cd316934171787333: basilio.arth@gmail.com\n",
            "88ce88e5c860520755a19d2ef376b4d9ad6c0e08: 42661697+SamuelSSan28@users.noreply.github.com\n",
            "d8ba0b3e8dd5bd7d18ed291cf91505cc8b9185a4: samuelssan28@gmail.com\n",
            "1e1a60bc66b30b00e7c55299c5c4a99a325bf6a1: samuelssan28@gmail.com\n",
            "e9bed8bea7d5c9f287361eec3d3dc1df10424cad: samuelssan28@gmail.com\n",
            "73b5028719d62ce15530927225efc72f442f2407: samuelssan28@gmail.com\n",
            "0878975c0c96f77755e9e12e16f4ba9949cf9229: samuelssan28@gmail.com\n",
            "a9684e9b69b5223964e54712732d338f035f0bb0: samuelssan28@gmail.com\n",
            "3e4e846fc7707975db0835f4b3bbfdb661ab659d: samuelssan28@gmail.com\n",
            "259d00768c83e7cc8cf4a8c3bd6642c01279e717: samuelssan28@gmail.com\n",
            "8b37fa3c10b9fd60975691cd9647f39581fb4e8e: lucasdanillo1998@gmail.com\n",
            "82c9f70d8f90993a5ccc6e74ef5dd9d539f84c96: lucasdanillo1998@gmail.com\n",
            "e68bf92f10b9f69641c20aa573228e7a225a9ac7: giselesousar@gmail.com\n",
            "eccee81a2dc3cc97deec35a6d74abe4fef93d961: samuelssan28@gmail.com\n",
            "9b10b802967668f4d841014c69bfbb85012535b6: samuelssan28@gmail.com\n",
            "2bd854d012186076dcc4471b2fe27558a671ecbd: samuelssan28@gmail.com\n",
            "ae74e41c00efa5dab0c1428ed7a357c0e1479868: samuelssan28@gmail.com\n",
            "4e7d86ec780a99be014f3598e25dd3eb0c3b77d8: samuelssan28@gmail.com\n",
            "1f966a53cbe51768d8d7357d9f9607ccda00ef58: samuelssan28@gmail.com\n",
            "2b449bf012e7e4af1d636989d11a320317e23d57: samuelssan28@gmail.com\n",
            "2870f564811bec96efb670143af9450ef4814a3a: samuelssan28@gmail.com\n",
            "7887c3d1484d59466affabe58ea0650385ef4600: samuelssan28@gmail.com\n",
            "7be24bee3ab4238eeabbc150ffcce041a74ba6e4: lucasdanillo1998@gmail.com\n",
            "7d11f8fc8153c5d181b26e2df1e3246e9171d8d8: giselesousar@gmail.com\n",
            "2a8220777324a5a8bc25aeec76ce057b551eac73: giselesousar@gmail.com\n",
            "dd5f63e189ac5e66bc9a9d17a580e1029814c78c: giselesousar@gmail.com\n",
            "7603fc61c6d0b9173aa8ced87e87f7e35748fc6f: giselesousar@gmail.com\n",
            "7df85a2b52347fe69aaf381bad3ae2a9023bdb9e: giselesousar@gmail.com\n",
            "f9145d499c35cb8c6ac201d776ea292c835113e9: giselesousar@gmail.com\n",
            "d924e8c79c8d997301102dd28311895ba3d02f0b: 63355595+lucasdanillo@users.noreply.github.com\n",
            "b168122e0ed430c9c55056c4387e4c94bb49062c: basilio.arth@gmail.com\n",
            "941a1f625fd842e16a509434330eab7d163e07ea: 42661697+SamuelSSan28@users.noreply.github.com\n",
            "8499f098daab5e51fc4f97f7837e7a63d3597d8c: lucasdanillo1998@gmail.com\n",
            "40048bc538bcca44c49a20ff365de5e42613e9d4: giselesousar@gmail.com\n",
            "39505cc46e8930f5ccd48b686edfa6321ebf5527: lucasdanillo1998@gmail.com\n",
            "e23c87c30dc7b9ec3bf6b8dfc0ce1228b7fc143e: lucasdanillo1998@gmail.com\n",
            "a2cca952bbb7d88444f8e0966bd3a4513b1616ed: lucasdanillo1998@gmail.com\n",
            "9042cdadbc24352a45fe3cbe459f0443a012b161: 85943933+samuelssan28ic@users.noreply.github.com\n",
            "642a278e6f1e755432d29edc3b9f993994e526d1: giselesousar@gmail.com\n",
            "8a2e5f03f8b9b193435739657068b5d3d09ba64b: giselesousar@gmail.com\n",
            "1d53b93e8093320db84836c7e8415937486cbf69: giselesousar@gmail.com\n",
            "6e8e36e1d9d663d87fa2fbdd5d7b0eed74670ed6: 85943933+samuelssan28ic@users.noreply.github.com\n",
            "862452a7560e0c9bf1054a74a4f6fb757fd3edc5: 85943933+samuelssan28ic@users.noreply.github.com\n",
            "6ac550af5a8fe88d560c3ca88627d34c4ea90b2c: 85943933+samuelssan28ic@users.noreply.github.com\n",
            "5c8673b427fb5742d135945175cddae2a5142de3: 85943933+samuelssan28ic@users.noreply.github.com\n",
            "4c0d26923476005ae0dcfeef29a0de333ec7ea64: 85943933+samuelssan28ic@users.noreply.github.com\n",
            "57ae6d78756c65a84604ef24f2cdcbd18f195275: 85943933+samuelssan28ic@users.noreply.github.com\n",
            "7af577dc61d3e1f292d59e9ea630e6d1452ac4e5: 85943933+samuelssan28ic@users.noreply.github.com\n",
            "ee77dd758c739b8c66c8405ac0ead199f158d184: 85943933+samuelssan28ic@users.noreply.github.com\n",
            "58df57338b56ac88884af49d9d0540395ebe771b: 85943933+samuelssan28ic@users.noreply.github.com\n",
            "63e95207bb9fbd43d83593e837b4b441b61382d0: 85943933+samuelssan28ic@users.noreply.github.com\n",
            "83fcfba6fe0b11cf84c7352383894fddd3368c44: 85943933+samuelssan28ic@users.noreply.github.com\n",
            "bb0d7682e325dcc3b928b649d3bf152dc26b1c51: basilio.arth@gmail.com\n",
            "003b780f78d5477422f7722acbf7c6eb8d0af292: giselesousar@gmail.com\n",
            "695069e760e19e13a427826872a4d48263bbd4fe: giselesousar@gmail.com\n",
            "5d1fda9e40ed6fbc507cf3cfb15f8a656179c165: giselesousar@gmail.com\n",
            "197c1b0f0adcf554170809f698926e978316bd05: giselesousar@gmail.com\n",
            "0cb0cf025a058a64a41ded3c37dcbe6c0adbbd93: giselesousar@gmail.com\n",
            "2b66e13b000dcaa2c540073b458c65dd3f9e8998: basilio.arth@gmail.com\n",
            "8c5eac69c78782031de140e46363335f8441fc15: basilio.arth@gmail.com\n",
            "77b93cd3706d43c8d9bcde8ed471fd0dd71beab5: 42661697+SamuelSSan28@users.noreply.github.com\n",
            "2419ff423d9fb3ef9320e151c5545eb56453ba39: 63355595+lucasdanillo@users.noreply.github.com\n",
            "edfd8ba7b05a468cfac18e30255012ec8871f0b0: 63355595+lucasdanillo@users.noreply.github.com\n",
            "80f717e44b8577147d364930544fe8fbb415eae1: 63355595+lucasdanillo@users.noreply.github.com\n",
            "3bbaa3cfc2c526382227b55a81d1eb575bab7e60: 42661697+SamuelSSan28@users.noreply.github.com\n",
            "84299e2150225717fbcb57f13bc534666eba53e4: 63355595+lucasdanillo@users.noreply.github.com\n",
            "904501b6da885cbe64219257eb03356c04b68bd5: giselesousar@gmail.com\n",
            "ab34ffe7d887304e55e0a6a1559327c2c22421b0: 63355595+lucasdanillo@users.noreply.github.com\n",
            "cb7d8422a41e4130bbc99d8a2421d15b4953ae04: basilio.arth@gmail.com\n",
            "e3478001b5d8e9ca7f0fb7bfb3903e230fd9d675: 63355595+lucasdanillo@users.noreply.github.com\n",
            "8a42f05f822904e5ac372bdd85e200c16a54ce06: giselesousar@gmail.com\n",
            "f5e5ab5ccc828969e7f7e46808fcbac8e39ff645: 63355595+lucasdanillo@users.noreply.github.com\n",
            "be37a92efc6f6f14c955e5d760be68a85c2357b1: giselesousar@gmail.com\n",
            "0778bab9e756942926faf3ed4817c413cadedcb5: 63355595+lucasdanillo@users.noreply.github.com\n",
            "6d8731baa35b9ac3ea17071845c826b8124085be: giselesousar@gmail.com\n",
            "446ff4598ec786bb15f1d9dc663201874e5e0e88: giselesousar@gmail.com\n",
            "2d9e124a50b95ed151440e3d2129129d818f3b1d: giselesousar@gmail.com\n",
            "f184b9a82d512f9a5ec9e4ebf784ad630efcee3a: giselesousar@gmail.com\n",
            "387e8a2aae6a3cca0e7d1a4bd1e830b9a8cd09e9: basilio.arth@gmail.com\n",
            "608a19080f209848aa4a2c2f56afe265e4a4ac5b: lucasdanillo1998@gmail.com\n",
            "2d80ad2f0c3fe1ed8d1badc614c9e168591758dc: giselesousar@gmail.com\n",
            "f842392646ce7db4b9f4879bae39d0f0a82cf62b: 42661697+SamuelSSan28@users.noreply.github.com\n",
            "af65322e41858b4ba2f6a8f2e32c153efc79d18d: giselesousar@gmail.com\n",
            "b4d684131e6441c0ae4f2b59c7127aa8d352100e: giselesousar@gmail.com\n",
            "ec934ce4bc94e41f7ab582c15253a7c33563c568: basilio.arth@gmail.com\n",
            "e85779d7cb461cd2b6eb8033d150a72d1d447f2e: basilio.arth@gmail.com\n",
            "78ec7486e32b07c6d78de6ead8fde975378fb00e: basilio.arth@gmail.com\n",
            "90f60ba0700b61b7b56118f33643408605a9bfcf: 85943933+samuelssan28ic@users.noreply.github.com\n",
            "ddf26cabb080fb458e5d9d2198cf2473815f27ca: 85943933+samuelssan28ic@users.noreply.github.com\n",
            "d7fae68d4d02162974728dfb37b8687ff5bb612c: 85943933+samuelssan28ic@users.noreply.github.com\n",
            "9c99659e4be60033aef5d312194a6919996a9803: basilio.arth@gmail.com\n",
            "e074ebd8ec19f62b451cf1d5e1ca6f2d1974b240: giselesousar@gmail.com\n",
            "f41d805541af1a920d12b9e92518a2c1898e93e1: 63355595+lucasdanillo@users.noreply.github.com\n",
            "0147349299cd107952070906b4b59d1638e91573: \n",
            "74a594712e24a406c00ea1bfb4c169f0755b5b21: \n",
            "08e4860f1fe9dbf9e9e5ddb74950e359b4c2ea4c: lucasdanillo1998@gmail.com\n",
            "4d782f4b581f5ac99d803749db43f41f95ca6547: giselesousar@gmail.com\n",
            "2a8663eae427e1490c29e5e0ca61dc9a05ced2f8: giselesousar@gmail.com\n",
            "c570262a150b9b99402d4d7569aba90a1b3cb814: basilio.arth@gmail.com\n",
            "50c67fa006a25573e75ccdfd9af2081a2db289a4: basilio.arth@gmail.com\n",
            "479cf76ac62afc2a442b6af66bed649953eeca74: \n",
            "4128de5b90e438fdca2942063b9b9902db77c0bf: \n",
            "ea0702a062f673ccedf0eeb1c97f19fc7122e038: giselesousar@gmail.com\n",
            "f640200b59c96bdc6eed5b709b385a150ea0e924: giselesousar@gmail.com\n",
            "2d29727067150e352d6bd2a6d0493f37a2c37fe3: giselesousar@gmail.com\n",
            "3c003b94dc7fab4b2a4d07d015d7fa51a7e92177: 42661697+SamuelSSan28@users.noreply.github.com\n",
            "2f98de34bb5244097189263ccc7403c949cd8880: giselesousar@gmail.com\n",
            "cd7bbff314c2f4a34036811e848e80018281b452: 42661697+SamuelSSan28@users.noreply.github.com\n",
            "9744d75e990a64658ee18663e3d5aeb1da7ff6c0: 42661697+SamuelSSan28@users.noreply.github.com\n",
            "9bf96cb321907b05dfbafcd508f7e491b992f4c6: 42661697+SamuelSSan28@users.noreply.github.com\n",
            "8d962c3cf4ebff5ad678fe5347f051e55771f819: 42661697+SamuelSSan28@users.noreply.github.com\n",
            "8544ae7cd78b8e91bbe9232969e5203721d713a7: basilio.arth@gmail.com\n",
            "3f5a51375456e0cb7471d24fb945d7af5569c93b: basilio.arth@gmail.com\n",
            "63b19e3acacd2bf90ebd9c88dd52ff8d69bf305f: 42661697+SamuelSSan28@users.noreply.github.com\n",
            "7168cb192b23896a8229d5d42aaf0372925c3739: 42661697+SamuelSSan28@users.noreply.github.com\n",
            "59dc843aec40e556f1ebef2b899c64972ba47c06: 42661697+SamuelSSan28@users.noreply.github.com\n",
            "ff57d26adeac7061b7c3376947807c85c68e7cbc: 42661697+SamuelSSan28@users.noreply.github.com\n",
            "bead134697d414b1a3c87139ae9f6aaa76665b2a: 42661697+SamuelSSan28@users.noreply.github.com\n",
            "21299cc8610f4955a768847902ac134cbdb99f9a: 42661697+SamuelSSan28@users.noreply.github.com\n",
            "a0edc98ccb38484a3f9e0d45eaa0c3fc33691ea3: 42661697+SamuelSSan28@users.noreply.github.com\n",
            "2639f90be38d2cdca38251feff39c8f78ddb7599: giselesousar@gmail.com\n",
            "d4350f6076fe97ec9ff50bfb00534a643c578145: giselesousar@gmail.com\n",
            "96029706ab84e9f559b18fd8e18ad6c3a789d8a4: basilio.arth@gmail.com\n",
            "3ff0a68bec19864f7e389519ba3b618fdb0ae7f1: basilio.arth@gmail.com\n",
            "88416d48375613247dae893e466a71d4773aa2a9: 63355595+lucasdanillo@users.noreply.github.com\n",
            "bd1dd1c8a1fc0939e3abfbd9afce98ddcae64948: basilio.arth@gmail.com\n",
            "244b6415ffb9fe80a20508022a271d50844dd294: 63355595+lucasdanillo@users.noreply.github.com\n",
            "3716338bebd5ddbfbfc330222060c56414056812: basilio.arth@gmail.com\n",
            "e2cfe271e4a2bab9b5fb4a197403a4be602006b1: giselesousar@gmail.com\n",
            "9da94219e004282ae396f5fb5f9889e7a22e77cb: giselesousar@gmail.com\n",
            "e0dfd541abf6cd6afb1ec1d54b851aff5adbafe5: giselesousar@gmail.com\n",
            "917fdca2c1ef6042fc8e307d64f796b1014c74ba: giselesousar@gmail.com\n",
            "0c61ec6f945782cf89641eb5b628cceff11f11b3: giselesousar@gmail.com\n",
            "f7fa10b80541bfb07484fd8437cd9e117b3c45fd: basilio.arth@gmail.com\n",
            "927c9ad5a851dca9421668fffff24b0a97ece9aa: basilio.arth@gmail.com\n",
            "0f4b151b0bc008c6e42a7462d3fde0e354c96ec8: lucasdanillo1998@gmail.com\n",
            "f4b1d4857975736e9f84510f88692d6d42d472a1: giselesousar@gmail.com\n",
            "9983cb674d8c3ac3d9e8f77fa0fcf890e5be610c: lucasdanillo1998@gmail.com\n",
            "d4b8b08aadd1a6c2501502be0abba1706fe38b95: basilio.arth@gmail.com\n",
            "792f9fcaf90c85d07d03d5161def315ac42f5f2e: 63355595+lucasdanillo@users.noreply.github.com\n",
            "897d87ef0d668413f1516574f43f114abafa111d: basilio.arth@gmail.com\n",
            "a16b15a32bcd392a6170cd342d3a4762cf78fc72: lucasdanillo1998@gmail.com\n",
            "642a2fb0f23895a62a4fcef266e650c6c3f9a57b: basilio.arth@gmail.com\n",
            "5b1c81fb7495c520935a8497ff4f472970cf875e: giselesousar@gmail.com\n",
            "e6cf9c345d95285a45d84b002d2d59133874fd15: giselesousar@gmail.com\n",
            "38f1a121f34c21026173d190feaa530aa0cc461a: giselesousar@gmail.com\n",
            "6019932d7269b26a80f9c851ec6d51247eb9f7d8: basilio.arth@gmail.com\n",
            "9e73661200892140eeeeade76f1100c15eac8cb9: giselesousar@gmail.com\n",
            "6e4cf79fe1d3cd9d690401199589e4fdcb2c0eb4: 42661697+SamuelSSan28@users.noreply.github.com\n",
            "e6c00d62654ad37912abf938383ab5fff9b537a2: 42661697+SamuelSSan28@users.noreply.github.com\n",
            "48cf87932445f1a2d71fc3a83c99d92682bb134c: giselesousar@gmail.com\n",
            "4695f4ee2b646b4de55f2248c76bd32346056602: giselesousar@gmail.com\n",
            "495161a6d773b0ed0e0adbcb69d6c9f017ed5d76: 85943933+samuelssan28ic@users.noreply.github.com\n",
            "d743355c8e862a86344dbab85d95e9f0206caaa9: giselesousar@gmail.com\n",
            "4f6876446d943cdd06a13a547383a26502f0dfc2: basilio.arth@gmail.com\n",
            "701b2420bfed6a910af1fba8519d357f6221e2e9: 85943933+samuelssan28ic@users.noreply.github.com\n",
            "68891ebc725b8b0f1f8d7f94103f174750feb515: 85943933+samuelssan28ic@users.noreply.github.com\n",
            "3f71c5e8848a61c627b9b5dfb75a8df192fda276: giselesousar@gmail.com\n",
            "d4173f9d9fc809e724b27f8a31b7869b5fffdbc1: giselesousar@gmail.com\n",
            "a3a4e7553421b733c61524861ea04f45dcda59b2: giselesousar@gmail.com\n",
            "36cbaf4191b2c41435545018102f968b978383c3: giselesousar@gmail.com\n",
            "5d7e79ffb22b8efde0ac80b93d13f2b62da29c37: giselesousar@gmail.com\n",
            "fcc245ec41f278eb64273f4f42a0b336e1cd0fba: giselesousar@gmail.com\n",
            "e92906e1f1ec9e1512a41716fba82efa227de367: giselesousar@gmail.com\n",
            "cadac776996493ae9e7612df933913c8c69319a6: giselesousar@gmail.com\n",
            "545b13a4b8e948db82a422f363945df86618d5ef: 85943933+samuelssan28ic@users.noreply.github.com\n",
            "0d71279cbd0c9eae25e233a38d5f06db213a1567: basilio.arth@gmail.com\n",
            "d1a3d663767dad4103da4fd47159364dc07a484c: lucasdanillo1998@gmail.com\n",
            "38e26dc07df3dae6d4adef393ce169c6c74e9781: giselesousar@gmail.com\n",
            "de2e6bd580ee9202069083d40a529a5d28bf0ea6: basilio.arth@gmail.com\n",
            "2f7729164220c98d6de48e3702da1c003f2d33ab: giselesousar@gmail.com\n",
            "db85a5e683f1e8d03afe0531782b26d29d7ef715: giselesousar@gmail.com\n",
            "411fecf8a9694756f4c8862ea7e1209a14fae8b3: giselesousar@gmail.com\n",
            "3bea5c9a6c92239d8010857b9786e321f36a2187: lucasdanillo1998@gmail.com\n",
            "327a5f99cc6d3f9d52c6422dc20258c33e3d727b: lucasdanillo1998@gmail.com\n",
            "503fc87d51e5c9ca9260b38907e085e2dddd651a: lucasdanillo1998@gmail.com\n",
            "ded2eb6e709b093d1af069195a4980d772bd340a: 63355595+lucasdanillo@users.noreply.github.com\n",
            "e6e1cd01afc50e7c9f89f54b2daa8e99971bd071: lucasdanillo1998@gmail.com\n",
            "418004664a9b447d01d18fd399a07479e1f8a362: lucasdanillo1998@gmail.com\n",
            "0214c99038c89afe051120085a294de0f833e0d2: lucasdanillo1998@gmail.com\n",
            "289fcda96a9c1427b41d21faabaa23a2c0661d06: basilio.arth@gmail.com\n",
            "629c98cdac91fbc32ec82d403fe3763f7391f359: giselesousar@gmail.com\n",
            "3ba1849ceb351ddc722cc31fb5e0c976aece084a: giselesousar@gmail.com\n",
            "58edaa534aff42109ecc34a96964a44e5ab107bd: giselesousar@gmail.com\n",
            "a6dcb15caad3c902ed83217ece51795d6609d940: giselesousar@gmail.com\n",
            "f91e10c9f21ffa07574722c4fd89059db5335e59: basilio.arth@gmail.com\n",
            "cbe904e69e4c35a6978eaf1622cc6ac2704139a5: 42661697+SamuelSSan28@users.noreply.github.com\n",
            "a7f562ac34b85903ee2fcb436492251a074bcb54: giselesousar@gmail.com\n",
            "e42d9576d9c064666dc2ea4a6f68766d72490035: 85943933+samuelssan28ic@users.noreply.github.com\n",
            "e7a561222767eed0b322076c42a9ad5a6fff9322: 85943933+samuelssan28ic@users.noreply.github.com\n",
            "3ed2dc2c55b3ea614f4bc93e5e7083d2077ce542: 85943933+samuelssan28ic@users.noreply.github.com\n",
            "40d151b22799f340fa04668086ebf6ee17e67f2a: 85943933+samuelssan28ic@users.noreply.github.com\n",
            "c19270b8d174a3e744b23e72470f46e05037e9b0: 85943933+samuelssan28ic@users.noreply.github.com\n",
            "cfbb15b6df1b217504cde2e09b610a8474fd2b7b: 85943933+samuelssan28ic@users.noreply.github.com\n",
            "5ff4280ff44436038f20797bded0895c9d48fbc7: giselesousar@gmail.com\n",
            "d01707f1ee40d2e02509d97e0b328007bcefa6ec: giselesousar@gmail.com\n",
            "b7d09ff7bf94cb334de29adc255b317182c0a47f: 85943933+samuelssan28ic@users.noreply.github.com\n",
            "2393f208fba79f0e008b79eed0dd12c73048a8dc: 42661697+SamuelSSan28@users.noreply.github.com\n",
            "780315fcb402cc0b5f00e477ad32486fd75757d6: 42661697+SamuelSSan28@users.noreply.github.com\n",
            "db035c9738dfc56c416ef458c6965a7e023d6168: 42661697+SamuelSSan28@users.noreply.github.com\n",
            "4e5c9a5aa39cef099dec9fbccd1f475008f6fd0e: 42661697+SamuelSSan28@users.noreply.github.com\n",
            "bbca0f9478bea6aaafc84503aafe2aeeefdb44a0: 42661697+SamuelSSan28@users.noreply.github.com\n",
            "8b1372a5bde58bdbc13445443e87a8d8a77b3149: 42661697+SamuelSSan28@users.noreply.github.com\n",
            "84b32486afa8f649db199968d27a48cc5271be36: giselesousar@gmail.com\n",
            "87e5fbaedf48fd05ffb2ce6894797087d41a15e0: lucasdanillo1998@gmail.com\n",
            "b544afa40ffb912055f59e7167856f13b3a79966: giselesousar@gmail.com\n",
            "22a4a0816d3383af9e947f939a5274a7fbe7dfa6: lucasdanillo1998@gmail.com\n",
            "96824c566cdc24b5fccb27cdf8455d30a26eadf3: lucasdanillo1998@gmail.com\n",
            "c1b3b84eff7158220e0045aedc7bd1b7df428ce2: giselesousar@gmail.com\n",
            "fed473a385f90ca34b8d038c15a8d2147269d1df: basilio.arth@gmail.com\n",
            "73f00d0e6e51241c6f5f1023053fa703bb8159ac: giselesousar@gmail.com\n",
            "ab7304c28483f94c9ba9f905dd4d4222d8e50772: giselesousar@gmail.com\n",
            "184e78275803723a25e854acefb6a68b78a3b957: giselesousar@gmail.com\n",
            "8b6ec1b0ce0c5f7e663b03d07c01d63ad23c05f5: giselesousar@gmail.com\n",
            "4dab3af8dc48c91a4a6905dc2840f7844c9a5673: basilio.arth@gmail.com\n",
            "029ec639799baaa4b4e3fbc57467766ddb0e4d98: 42661697+SamuelSSan28@users.noreply.github.com\n",
            "e0daba277fdab3560b963a74d5b10fd95445798a: 42661697+SamuelSSan28@users.noreply.github.com\n",
            "52551197de2ceb65dcb2005f7a2cb2d08624fbd7: 42661697+SamuelSSan28@users.noreply.github.com\n",
            "89801da0e6737e75e32d734e254b04e05eac4fed: 42661697+SamuelSSan28@users.noreply.github.com\n",
            "7d2597706d5bf0332b369234da63b851dbceed37: basilio.arth@gmail.com\n",
            "b4afa94a4a733768392d03bb1b58285374e6d93e: giselesousar@gmail.com\n",
            "27c9bfad6b6728c163decd43f5a55dcea2360614: lucasdanillo1998@gmail.com\n",
            "3a08f47897df216699d2c37ca6785af04e3a244a: basilio.arth@gmail.com\n",
            "98853a10fe42cefa28f7ec70f204395c40f6480a: 42661697+SamuelSSan28@users.noreply.github.com\n",
            "aaa00c5acdf0fa171c2ed52d9bc57419e3533726: 42661697+SamuelSSan28@users.noreply.github.com\n",
            "62f1c46d19118447725d80eedff456ba64ee228e: 42661697+SamuelSSan28@users.noreply.github.com\n",
            "4c5d31e1559df76ffb17cbe9dc654baf2c5753f6: 42661697+SamuelSSan28@users.noreply.github.com\n",
            "18fdcfae128a239ea2573e7d1afa2719e982d185: 42661697+SamuelSSan28@users.noreply.github.com\n",
            "5c68e2137edda264229a8753d0aee264b221a55b: 42661697+SamuelSSan28@users.noreply.github.com\n",
            "e56e0a91671b3081791748ddf3e4cac72db09738: lucasdanillo1998@gmail.com\n",
            "2f5b7f88529f7cbbc6c03d01db484667c16ad252: 42661697+SamuelSSan28@users.noreply.github.com\n",
            "590a1f3a41d984f3d8e4fecf8cff6d02b5b531e2: 42661697+SamuelSSan28@users.noreply.github.com\n",
            "722ec1638ada09a0a38ee9b2929028663b65aff5: 42661697+SamuelSSan28@users.noreply.github.com\n",
            "b900c87534f7ddf37fc90b229e906a3701080061: 42661697+SamuelSSan28@users.noreply.github.com\n",
            "23c3a02046e0dec0f9732ea6c1cb17dc0ca3f5c6: 42661697+SamuelSSan28@users.noreply.github.com\n",
            "478e5a47f224ce27137d6196df6d19a60e11fcc3: 42661697+SamuelSSan28@users.noreply.github.com\n",
            "b21f866213258e192a6cc7e1b14dec77f21608e7: 63355595+lucasdanillo@users.noreply.github.com\n",
            "466c629f751684a340e650941a441fbdf0898b28: 42661697+SamuelSSan28@users.noreply.github.com\n",
            "9021e15acd27a8a7501b2e61eeddf736ce2554d0: 42661697+SamuelSSan28@users.noreply.github.com\n",
            "7fb79289328460cd9b61618e354f635f02e60707: 42661697+SamuelSSan28@users.noreply.github.com\n",
            "a052cbff66e987075a983ded82b4b63ce1aba9c1: 42661697+SamuelSSan28@users.noreply.github.com\n",
            "0e5ffca0bf0868e8e5664caad2f6dbe4c3afdaf6: 42661697+SamuelSSan28@users.noreply.github.com\n",
            "2f886488394e65d8e99472e2512f28a47c8d6a96: giselesousar@gmail.com\n",
            "d788b717795a33d7f04a200c88aaedbd2225accf: giselesousar@gmail.com\n",
            "937e78abc9527ad595ac4c901d0328c16a15bc03: giselesousar@gmail.com\n",
            "474e239b896f962e309112105bdc6c05530715fd: giselesousar@gmail.com\n",
            "e2325710c68d36565197e993526b61e5cc502b89: basilio.arth@gmail.com\n",
            "d1c923a729a554bc87f7b28c245bfdd9c816bab1: 63355595+lucasdanillo@users.noreply.github.com\n",
            "0a1096050f2c63aac5a9267b4da8ecae184ae71f: 63355595+lucasdanillo@users.noreply.github.com\n",
            "345ab38b72e3e71d521a712aae4355c463e08299: 63355595+lucasdanillo@users.noreply.github.com\n",
            "e878642f858ba934bee142301f6be8393549f2d3: 63355595+lucasdanillo@users.noreply.github.com\n",
            "87ea676150fa3bd369e15b2cebc5514766e877fb: 42661697+SamuelSSan28@users.noreply.github.com\n",
            "8341f96515508c9cf61fe4083bd8d2f195e96709: 42661697+SamuelSSan28@users.noreply.github.com\n",
            "af0f4032ebe576b27ea12993a6f4a7a1d1b71605: 42661697+SamuelSSan28@users.noreply.github.com\n",
            "5ef6f4728d46dd7dd1ccf96e6839befe12ab69e3: basilio.arth@gmail.com\n",
            "d433c0b7b82cd4d8df390c762eb17e1a315b7994: basilio.arth@gmail.com\n",
            "3a9b4f6070169c9240dead0235b67d04d1370304: 42661697+SamuelSSan28@users.noreply.github.com\n",
            "f5fea2d5e0705a50e30f9eac435a88e862a49793: 42661697+SamuelSSan28@users.noreply.github.com\n",
            "0a315ff7d2675137a0018f8d72c834c3d537e87e: 42661697+SamuelSSan28@users.noreply.github.com\n",
            "9a64fb8e68a4a6d8ecddb70a6647ea67a330cd96: giselesousar@gmail.com\n",
            "8c8a7c29c892971916a48b0eda83109c455f3d9a: 42661697+SamuelSSan28@users.noreply.github.com\n",
            "388bf9c084f9d83303d08ecc7f2c0b4bfcb55cf4: basilio.arth@gmail.com\n",
            "1a6c8531d3fa07215a2152d7db6b734cc747ce20: basilio.arth@gmail.com\n",
            "0ea8a5bf600da5087ca16b3ef20f28f8e81e72f8: basilio.arth@gmail.com\n",
            "60ad1e92e333f18439ec0dc13d0977d56080ec4b: giselesousar@gmail.com\n",
            "c671e6f62a50d7911dd37e61e495f6aa3829ae7e: 42661697+SamuelSSan28@users.noreply.github.com\n",
            "1bee56874c1d8b7efda43c2dbbc70f4d031967dc: 42661697+SamuelSSan28@users.noreply.github.com\n",
            "05c568f2c9103fdbaf491fa78f0968ac73817780: 42661697+SamuelSSan28@users.noreply.github.com\n",
            "f7356dd7286636db962a56708a488a5cb15061b7: 42661697+SamuelSSan28@users.noreply.github.com\n",
            "a20342c8a0361cc0f32c8709d920d12ff1c714cd: 42661697+SamuelSSan28@users.noreply.github.com\n",
            "d3a412caeb9a52b0c45612e4698a8ca23f97e897: 42661697+SamuelSSan28@users.noreply.github.com\n",
            "563cea976c29178a24122bff58f32837a350cfe7: 42661697+SamuelSSan28@users.noreply.github.com\n",
            "fcc1da2c78da65b49902781a83a33a57684caac8: 42661697+SamuelSSan28@users.noreply.github.com\n",
            "1cc4c0432dbab5af3e7f7d53f70651787e358ff7: 42661697+SamuelSSan28@users.noreply.github.com\n",
            "2ee3db55c5638338da29c7a3f4e17a8c2395b5a4: giselesousar@gmail.com\n",
            "3f17c2718e6bac94036b2364176f975529a51a7f: basilio.arth@gmail.com\n",
            "4a412c3aecf9c7c3719a7b5746b0ddde95504bbf: giselesousar@gmail.com\n",
            "d4a40182f5165493b9852516074c955d03e7e2fb: giselesousar@gmail.com\n",
            "7b1cda50b6a49257e780f888b991c0ab9c4c2a96: giselesousar@gmail.com\n",
            "fabee0808eeb0da3286b5485a0b66f61c5e444fd: giselesousar@gmail.com\n",
            "fab896625f4633a9f7fe938285cd5102a95d43ae: basilio.arth@gmail.com\n",
            "bd4e4e6e2464476b3d099fff21eab82fe2270e75: basilio.arth@gmail.com\n",
            "19de7f9056f5f4970f21fde5e73ef13df4125f9f: 42661697+SamuelSSan28@users.noreply.github.com\n",
            "0fe1e7bff71a9328c6e29a8ebff760e6a547f1c6: 42661697+SamuelSSan28@users.noreply.github.com\n",
            "b7d93f6cb77bc6b3314094963d2151eedfd15833: 42661697+SamuelSSan28@users.noreply.github.com\n",
            "d9407e44f6827cf48c8c0199da715db38acbd193: 42661697+SamuelSSan28@users.noreply.github.com\n",
            "6cbf9a1b3764c35afebd3dab3b183996f5402b31: 42661697+SamuelSSan28@users.noreply.github.com\n",
            "c4ff732578d11a69df098f1507a33254ef6edfd4: 42661697+SamuelSSan28@users.noreply.github.com\n",
            "c2f499e1aeb7c2a2b575ca51cdaa250dc9e1c494: 42661697+SamuelSSan28@users.noreply.github.com\n",
            "c53c136d45cb2559b28628157aabfe4767744128: 42661697+SamuelSSan28@users.noreply.github.com\n",
            "d60a172556e2dcec1ad7af54091e77b79ef728c2: 42661697+SamuelSSan28@users.noreply.github.com\n",
            "80089c42dce1e8d792346d9e7328982e4b0423a7: 42661697+SamuelSSan28@users.noreply.github.com\n",
            "825577184fb2df9a732022666372dda557010583: 42661697+SamuelSSan28@users.noreply.github.com\n",
            "45e65fb5f47bba3048ec1697b7e9a39d197b97c7: 42661697+SamuelSSan28@users.noreply.github.com\n",
            "96048145a0a876966961c169e039c6ed6268fc71: 42661697+SamuelSSan28@users.noreply.github.com\n",
            "a9610e9211a84642d50a7bfa36a051eaa9416ceb: 42661697+SamuelSSan28@users.noreply.github.com\n",
            "e4ef58374d5d0ac2211a4e0a76076a64eb10eac9: 42661697+SamuelSSan28@users.noreply.github.com\n",
            "672ad6c56378fc3527db1811653b2c38dc899003: 42661697+SamuelSSan28@users.noreply.github.com\n",
            "9f223a2f4e3510cc69d941ea177899f36d54657d: 42661697+SamuelSSan28@users.noreply.github.com\n",
            "45feede34956fa177f57fbf054c58a393d48f48b: 42661697+SamuelSSan28@users.noreply.github.com\n"
          ]
        }
      ]
    },
    {
      "cell_type": "code",
      "source": [
        "def list_single_commit(commit_hash):\n",
        "  \"\"\"\n",
        "  List a single commit \n",
        "  @param: str commit_hash: a hash of commit\n",
        "  @return a pydryiller commit\n",
        "  \"\"\"\n",
        "  commit = Repository(path_repository, single=commit_hash).traverse_commits()\n",
        "  return next(commit)\n",
        "\n",
        "commit = list_single_commit(commit_hash)\n",
        "print(f'{commit.hash}: {commit.author.email}') "
      ],
      "metadata": {
        "colab": {
          "base_uri": "https://localhost:8080/"
        },
        "id": "yRhmrE12V3MC",
        "outputId": "038bffb4-668c-4dba-d95a-65966187b5f5"
      },
      "execution_count": 9,
      "outputs": [
        {
          "output_type": "stream",
          "name": "stdout",
          "text": [
            "5d86240a4e3f33c41250acafff8b69cd1f11bbcc: giselesousar@gmail.com\n"
          ]
        }
      ]
    },
    {
      "cell_type": "code",
      "source": [
        "def list_all_modified_files_in_commits():\n",
        "  \"\"\"\n",
        "  List all modified files in all commits in the repository\n",
        "  @return a dictionary where the each key contains the hash of a commit \n",
        "  and the value associated contains a list of pydriller modified_file\n",
        "  of this commit\n",
        "  \"\"\"\n",
        "  modified_files = {}\n",
        "  for commit in list_all_commits():\n",
        "      modified_files[commit.hash] = commit.modified_files\n",
        "  return modified_files\n",
        "\n",
        "for key, value in list_all_modified_files_in_commits().items():\n",
        "  print(f'{key}: {[v.filename for v in value]}')"
      ],
      "metadata": {
        "colab": {
          "base_uri": "https://localhost:8080/"
        },
        "id": "I0hCjEYaV8B9",
        "outputId": "c8de9017-5bab-4ab9-a01e-83cbcdc3b70a"
      },
      "execution_count": 10,
      "outputs": [
        {
          "output_type": "stream",
          "name": "stdout",
          "text": [
            "5d86240a4e3f33c41250acafff8b69cd1f11bbcc: ['.gitignore', 'LICENSE', 'README.md']\n",
            "95584bf2ea92a41978c96ce48947eec01bcb0724: ['README.md']\n",
            "0ff0882dcd103cb869d43cb68e5dad71355ed597: ['dev.txt']\n",
            "a45c0babbf7654f11c342f36690f705f5352b08b: ['e-motion']\n",
            "a5e2aa1d8f9aeedb0ca596deea588a106400de9a: ['e-motion', 'assets.json', '.gitignore', 'App.tsx', 'app.json', 'adaptive-icon.png', 'favicon.png', 'icon.png', 'splash.png', 'babel.config.js', 'package-lock.json', 'package.json', 'tsconfig.json']\n",
            "f979c3fee6147754adfa911128f67b89caf8c9c1: []\n",
            "70ab9bc5847b4d4e9bd8aee4e81434777569ddc7: ['README.md', '.gitignore', 'package.json', 'index.ts', '1621342549073-CreateUser.ts', '1621342623281-CreateProfessional.ts', '1621342877532-CreatePatient.ts', 'Patients.ts', 'Professional.ts', 'User.ts', 'routes.ts', 'server.ts', 'tsconfig.json', 'yarn.lock', 'dev.txt']\n",
            "527cd358852f0b66831c1d163f0fb61e0ef22a71: []\n",
            "ef1cffb988d79cff6a802953bdc146c954c5cf2d: ['package-lock.json', 'package-lock.json', 'package.json', 'api.ts']\n",
            "af9a6f7a90ce521c7675bfbcba75a9848afae94c: []\n",
            "a1e9aae9ade172da5e92470995556aef7f9f068a: ['App.tsx', 'package-lock.json', 'package.json', 'index.ts', 'actions.ts', 'reducer.ts', 'rootReducer.ts', 'actions.ts', 'reducer.ts', 'package-lock.json']\n",
            "57e7deef533bd511143bf1fc36ce8df518e8f2bc: []\n",
            "66c238b83a8f6b8c2a9ccde325a8f0420d8e140d: ['App.tsx', 'package-lock.json', 'package.json', 'routes.tsx', 'index.tsx']\n",
            "b1e9807b37ea2291e7486a942014aad0a41d6155: ['1621342549073-CreateUser.ts', '1621342623281-CreateProfessional.ts', '1622339738086-CreateClient.ts', '1622341164120-CreateEmotionalReaction.ts', '1622342796231-CreateEmotion.ts', 'Client.ts', 'Emotion.ts', 'EmotionalReaction.ts', 'Patients.ts', 'Professional.ts', 'User.ts']\n",
            "b3b3a9633022ec246f22b882799d1315cf0be710: ['App.tsx', 'routes.tsx']\n",
            "3ac22539949d66a817c11c086b4c46be3ae8c007: []\n",
            "318014c284f2d6f836a8260cd316934171787333: []\n",
            "88ce88e5c860520755a19d2ef376b4d9ad6c0e08: []\n",
            "d8ba0b3e8dd5bd7d18ed291cf91505cc8b9185a4: ['index.tsx', 'styles.ts']\n",
            "1e1a60bc66b30b00e7c55299c5c4a99a325bf6a1: ['styles.ts']\n",
            "e9bed8bea7d5c9f287361eec3d3dc1df10424cad: ['index.tsx', 'styles.ts']\n",
            "73b5028719d62ce15530927225efc72f442f2407: ['index.tsx', 'styles.ts']\n",
            "0878975c0c96f77755e9e12e16f4ba9949cf9229: ['index.tsx', 'styles.ts']\n",
            "a9684e9b69b5223964e54712732d338f035f0bb0: ['routes.tsx']\n",
            "3e4e846fc7707975db0835f4b3bbfdb661ab659d: ['app.json', 'package.json', 'yarn.lock']\n",
            "259d00768c83e7cc8cf4a8c3bd6642c01279e717: ['EmotionalReaction.ts']\n",
            "8b37fa3c10b9fd60975691cd9647f39581fb4e8e: ['profile.png', 'avatar.tsx']\n",
            "82c9f70d8f90993a5ccc6e74ef5dd9d539f84c96: ['avatar.tsx']\n",
            "e68bf92f10b9f69641c20aa573228e7a225a9ac7: []\n",
            "eccee81a2dc3cc97deec35a6d74abe4fef93d961: ['api.ts', 'index.tsx', 'styles.ts']\n",
            "9b10b802967668f4d841014c69bfbb85012535b6: ['index.ts', '1622341164120-CreateEmotionalReaction.ts']\n",
            "2bd854d012186076dcc4471b2fe27558a671ecbd: ['EmotionalReactionService.ts']\n",
            "ae74e41c00efa5dab0c1428ed7a357c0e1479868: ['EmotionalRecordController.ts']\n",
            "4e7d86ec780a99be014f3598e25dd3eb0c3b77d8: ['Client.ts', 'EmotionalReaction.ts']\n",
            "1f966a53cbe51768d8d7357d9f9607ccda00ef58: ['routes.ts']\n",
            "2b449bf012e7e4af1d636989d11a320317e23d57: ['EmotionalReactionService.ts']\n",
            "2870f564811bec96efb670143af9450ef4814a3a: ['EmotionalRecordController.ts']\n",
            "7887c3d1484d59466affabe58ea0650385ef4600: ['routes.ts']\n",
            "7be24bee3ab4238eeabbc150ffcce041a74ba6e4: ['routes.tsx', 'index.tsx']\n",
            "7d11f8fc8153c5d181b26e2df1e3246e9171d8d8: []\n",
            "2a8220777324a5a8bc25aeec76ce057b551eac73: []\n",
            "dd5f63e189ac5e66bc9a9d17a580e1029814c78c: ['package-lock.json', 'index.tsx', 'styles.ts']\n",
            "7603fc61c6d0b9173aa8ced87e87f7e35748fc6f: ['index.tsx', 'styles.ts']\n",
            "7df85a2b52347fe69aaf381bad3ae2a9023bdb9e: ['index.tsx', 'styles.ts']\n",
            "f9145d499c35cb8c6ac201d776ea292c835113e9: ['package-lock.json', 'package.json', 'index.tsx', 'styles.ts']\n",
            "d924e8c79c8d997301102dd28311895ba3d02f0b: []\n",
            "b168122e0ed430c9c55056c4387e4c94bb49062c: ['index.tsx', 'styles.ts']\n",
            "941a1f625fd842e16a509434330eab7d163e07ea: []\n",
            "8499f098daab5e51fc4f97f7837e7a63d3597d8c: ['index.tsx']\n",
            "40048bc538bcca44c49a20ff365de5e42613e9d4: []\n",
            "39505cc46e8930f5ccd48b686edfa6321ebf5527: ['package-lock.json', 'package.json', 'avatar.tsx', 'index.tsx', 'routes.tsx', 'index.tsx', 'index.tsx']\n",
            "e23c87c30dc7b9ec3bf6b8dfc0ce1228b7fc143e: ['index.tsx']\n",
            "a2cca952bbb7d88444f8e0966bd3a4513b1616ed: ['index.tsx']\n",
            "9042cdadbc24352a45fe3cbe459f0443a012b161: ['controller_name.test.ts', 'jest.config.js', 'package.json', 'index.ts', 'yarn.lock']\n",
            "642a278e6f1e755432d29edc3b9f993994e526d1: []\n",
            "8a2e5f03f8b9b193435739657068b5d3d09ba64b: []\n",
            "1d53b93e8093320db84836c7e8415937486cbf69: []\n",
            "6e8e36e1d9d663d87fa2fbdd5d7b0eed74670ed6: ['package-lock.json', 'package.json', 'routes.tsx', 'index.tsx', 'styles.ts', 'index.tsx', 'styles.ts', 'index.tsx', 'yarn.lock']\n",
            "862452a7560e0c9bf1054a74a4f6fb757fd3edc5: []\n",
            "6ac550af5a8fe88d560c3ca88627d34c4ea90b2c: ['package-lock.json', 'package.json', 'routes.tsx', 'index.tsx', 'styles.ts', 'yarn.lock']\n",
            "5c8673b427fb5742d135945175cddae2a5142de3: ['yarn.lock']\n",
            "4c0d26923476005ae0dcfeef29a0de333ec7ea64: ['.gitignore']\n",
            "57ae6d78756c65a84604ef24f2cdcbd18f195275: ['.gitignore']\n",
            "7af577dc61d3e1f292d59e9ea630e6d1452ac4e5: ['routes.tsx', 'index.tsx', 'styles.ts']\n",
            "ee77dd758c739b8c66c8405ac0ead199f158d184: ['routes.tsx', 'index.tsx', 'styles.ts', 'index.tsx', 'yarn.lock']\n",
            "58df57338b56ac88884af49d9d0540395ebe771b: ['index.tsx', 'styles.ts']\n",
            "63e95207bb9fbd43d83593e837b4b441b61382d0: ['ProfessionalController.ts', 'Professional.ts', 'routes.ts', 'ProfessionalService.ts']\n",
            "83fcfba6fe0b11cf84c7352383894fddd3368c44: ['index.tsx', 'yarn.lock']\n",
            "bb0d7682e325dcc3b928b649d3bf152dc26b1c51: ['index.tsx', 'styles.ts', 'yarn.lock']\n",
            "003b780f78d5477422f7722acbf7c6eb8d0af292: ['home.png', 'index.tsx', 'index.tsx', 'styles.ts']\n",
            "695069e760e19e13a427826872a4d48263bbd4fe: ['home.png', 'index.tsx', 'index.tsx', 'styles.ts']\n",
            "5d1fda9e40ed6fbc507cf3cfb15f8a656179c165: ['alone-woman.png', 'routes.tsx', 'index.tsx', 'index.tsx', 'styles.ts', 'index.tsx', 'styles.ts']\n",
            "197c1b0f0adcf554170809f698926e978316bd05: ['home.png', 'index.tsx', 'styles.ts']\n",
            "0cb0cf025a058a64a41ded3c37dcbe6c0adbbd93: ['index.tsx']\n",
            "2b66e13b000dcaa2c540073b458c65dd3f9e8998: []\n",
            "8c5eac69c78782031de140e46363335f8441fc15: []\n",
            "77b93cd3706d43c8d9bcde8ed471fd0dd71beab5: []\n",
            "2419ff423d9fb3ef9320e151c5545eb56453ba39: []\n",
            "edfd8ba7b05a468cfac18e30255012ec8871f0b0: []\n",
            "80f717e44b8577147d364930544fe8fbb415eae1: []\n",
            "3bbaa3cfc2c526382227b55a81d1eb575bab7e60: []\n",
            "84299e2150225717fbcb57f13bc534666eba53e4: []\n",
            "904501b6da885cbe64219257eb03356c04b68bd5: ['package.json', 'index.tsx', 'index.tsx', 'index.tsx', 'index.tsx', 'styles.ts', 'index.tsx', 'mock.ts', 'index.tsx']\n",
            "ab34ffe7d887304e55e0a6a1559327c2c22421b0: []\n",
            "cb7d8422a41e4130bbc99d8a2421d15b4953ae04: ['index.tsx', 'styles.ts', 'index.tsx', 'styles.ts']\n",
            "e3478001b5d8e9ca7f0fb7bfb3903e230fd9d675: []\n",
            "8a42f05f822904e5ac372bdd85e200c16a54ce06: ['index.tsx', 'index.tsx', 'index.tsx']\n",
            "f5e5ab5ccc828969e7f7e46808fcbac8e39ff645: []\n",
            "be37a92efc6f6f14c955e5d760be68a85c2357b1: ['index.tsx', 'index.tsx', 'index.tsx', 'index.tsx']\n",
            "0778bab9e756942926faf3ed4817c413cadedcb5: []\n",
            "6d8731baa35b9ac3ea17071845c826b8124085be: ['ormconfig.ts']\n",
            "446ff4598ec786bb15f1d9dc663201874e5e0e88: ['.gitignore']\n",
            "2d9e124a50b95ed151440e3d2129129d818f3b1d: ['1622341164120-CreateEmotionalReaction.ts']\n",
            "f184b9a82d512f9a5ec9e4ebf784ad630efcee3a: ['EmotionalRecordController.ts', 'ProfessionalController.ts', 'Client.ts', 'EmotionalReaction.ts', 'Professional.ts', 'routes.ts', 'EmotionalReactionService.ts', 'ProfessionalService.ts']\n",
            "387e8a2aae6a3cca0e7d1a4bd1e830b9a8cd09e9: ['index.tsx', 'styles.ts']\n",
            "608a19080f209848aa4a2c2f56afe265e4a4ac5b: ['index.tsx']\n",
            "2d80ad2f0c3fe1ed8d1badc614c9e168591758dc: ['EmotionalRecordController.ts', 'routes.ts', 'server.ts', 'EmotionalReactionService.ts']\n",
            "f842392646ce7db4b9f4879bae39d0f0a82cf62b: []\n",
            "af65322e41858b4ba2f6a8f2e32c153efc79d18d: ['package-lock.json', 'package.json', 'server.ts']\n",
            "b4d684131e6441c0ae4f2b59c7127aa8d352100e: ['index.tsx', 'index.tsx', 'index.tsx', 'index.tsx']\n",
            "ec934ce4bc94e41f7ab582c15253a7c33563c568: ['index.tsx', 'index.tsx', 'routes.tsx', 'index.tsx', 'index.tsx', 'styles.ts', 'index.tsx', 'styles.ts']\n",
            "e85779d7cb461cd2b6eb8033d150a72d1d447f2e: []\n",
            "78ec7486e32b07c6d78de6ead8fde975378fb00e: ['styles.ts']\n",
            "90f60ba0700b61b7b56118f33643408605a9bfcf: []\n",
            "ddf26cabb080fb458e5d9d2198cf2473815f27ca: []\n",
            "d7fae68d4d02162974728dfb37b8687ff5bb612c: ['Professional.test.ts', 'controller_name.test.ts', 'index.test.ts', 'ormconfig.ts', 'package.json']\n",
            "9c99659e4be60033aef5d312194a6919996a9803: ['styles.ts', 'index.tsx', 'styles.ts']\n",
            "e074ebd8ec19f62b451cf1d5e1ca6f2d1974b240: []\n",
            "f41d805541af1a920d12b9e92518a2c1898e93e1: []\n",
            "0147349299cd107952070906b4b59d1638e91573: ['Client.ts', 'Professional.ts']\n",
            "74a594712e24a406c00ea1bfb4c169f0755b5b21: ['Professional.test.ts']\n",
            "08e4860f1fe9dbf9e9e5ddb74950e359b4c2ea4c: ['index.tsx', 'index.tsx', 'index.tsx']\n",
            "4d782f4b581f5ac99d803749db43f41f95ca6547: ['1622341164120-CreateEmotionalReaction.ts', 'EmotionalReaction.ts', 'routes.ts']\n",
            "2a8663eae427e1490c29e5e0ca61dc9a05ced2f8: ['index.tsx', 'index.tsx']\n",
            "c570262a150b9b99402d4d7569aba90a1b3cb814: []\n",
            "50c67fa006a25573e75ccdfd9af2081a2db289a4: []\n",
            "479cf76ac62afc2a442b6af66bed649953eeca74: ['Client.test.ts']\n",
            "4128de5b90e438fdca2942063b9b9902db77c0bf: ['ClientService.ts', 'ProfessionalService.ts', 'UserService.ts']\n",
            "ea0702a062f673ccedf0eeb1c97f19fc7122e038: ['api.ts']\n",
            "f640200b59c96bdc6eed5b709b385a150ea0e924: ['evironment.ts']\n",
            "2d29727067150e352d6bd2a6d0493f37a2c37fe3: ['styles.ts', 'index.tsx', 'index.tsx', 'index.tsx']\n",
            "3c003b94dc7fab4b2a4d07d015d7fa51a7e92177: []\n",
            "2f98de34bb5244097189263ccc7403c949cd8880: []\n",
            "cd7bbff314c2f4a34036811e848e80018281b452: ['ClientController.ts', 'ProfessionalController.ts', 'routes.ts', 'UserService.ts']\n",
            "9744d75e990a64658ee18663e3d5aeb1da7ff6c0: ['index.ts']\n",
            "9bf96cb321907b05dfbafcd508f7e491b992f4c6: ['UserService.ts']\n",
            "8d962c3cf4ebff5ad678fe5347f051e55771f819: ['Client.ts']\n",
            "8544ae7cd78b8e91bbe9232969e5203721d713a7: ['index.tsx', 'styles.ts']\n",
            "3f5a51375456e0cb7471d24fb945d7af5569c93b: ['styles.ts', 'styles.ts', 'index.tsx', 'styles.ts']\n",
            "63b19e3acacd2bf90ebd9c88dd52ff8d69bf305f: ['1624500289158-UpdateUserFieldEmail.ts', 'User.ts']\n",
            "7168cb192b23896a8229d5d42aaf0372925c3739: ['ClientController.ts', 'ClientService.ts']\n",
            "59dc843aec40e556f1ebef2b899c64972ba47c06: ['ProfessionalController.ts', 'ProfessionalService.ts']\n",
            "ff57d26adeac7061b7c3376947807c85c68e7cbc: ['routes.ts', 'UserService.ts']\n",
            "bead134697d414b1a3c87139ae9f6aaa76665b2a: ['Client.ts']\n",
            "21299cc8610f4955a768847902ac134cbdb99f9a: ['Client.test.ts']\n",
            "a0edc98ccb38484a3f9e0d45eaa0c3fc33691ea3: ['Professional.test.ts']\n",
            "2639f90be38d2cdca38251feff39c8f78ddb7599: []\n",
            "d4350f6076fe97ec9ff50bfb00534a643c578145: []\n",
            "96029706ab84e9f559b18fd8e18ad6c3a789d8a4: ['index.tsx', 'index.tsx']\n",
            "3ff0a68bec19864f7e389519ba3b618fdb0ae7f1: ['index.tsx', 'index.tsx', 'index.tsx']\n",
            "88416d48375613247dae893e466a71d4773aa2a9: []\n",
            "bd1dd1c8a1fc0939e3abfbd9afce98ddcae64948: ['index.tsx', 'index.tsx', 'index.tsx', 'styles.ts', 'index.tsx', 'index.tsx']\n",
            "244b6415ffb9fe80a20508022a271d50844dd294: []\n",
            "3716338bebd5ddbfbfc330222060c56414056812: ['package-lock.json', 'ProfessionalController.ts', 'routes.ts', 'ProfessionalService.ts', 'evironment.ts', 'index.tsx', 'styles.ts', 'index.tsx', 'index.tsx']\n",
            "e2cfe271e4a2bab9b5fb4a197403a4be602006b1: []\n",
            "9da94219e004282ae396f5fb5f9889e7a22e77cb: ['EmotionReaction.test.ts']\n",
            "e0dfd541abf6cd6afb1ec1d54b851aff5adbafe5: ['Client.test.ts', 'Professional.test.ts']\n",
            "917fdca2c1ef6042fc8e307d64f796b1014c74ba: ['package-lock.json', '1622341164120-CreateEmotionalReaction.ts', 'Client.ts', 'EmotionalReaction.ts', 'EmotionalReactionService.ts']\n",
            "0c61ec6f945782cf89641eb5b628cceff11f11b3: ['emotionalReaction.ts', 'actions.ts', 'actions.ts', 'reducer.ts', 'index.tsx', 'index.tsx', 'index.tsx']\n",
            "f7fa10b80541bfb07484fd8437cd9e117b3c45fd: []\n",
            "927c9ad5a851dca9421668fffff24b0a97ece9aa: ['Professional.test.ts', 'ProfessionalController.ts', 'routes.ts', 'ProfessionalService.ts', 'index.tsx']\n",
            "0f4b151b0bc008c6e42a7462d3fde0e354c96ec8: ['routes.tsx', 'index.tsx', 'index.tsx', 'index.tsx']\n",
            "f4b1d4857975736e9f84510f88692d6d42d472a1: []\n",
            "9983cb674d8c3ac3d9e8f77fa0fcf890e5be610c: ['UserController.ts', 'routes.ts', 'ClientService.ts', 'ProfessionalService.ts', 'UserService.ts', 'evironment.ts', 'avatar.tsx', 'index.tsx', 'index.tsx']\n",
            "d4b8b08aadd1a6c2501502be0abba1706fe38b95: []\n",
            "792f9fcaf90c85d07d03d5161def315ac42f5f2e: []\n",
            "897d87ef0d668413f1516574f43f114abafa111d: []\n",
            "a16b15a32bcd392a6170cd342d3a4762cf78fc72: ['User.test.ts']\n",
            "642a2fb0f23895a62a4fcef266e650c6c3f9a57b: []\n",
            "5b1c81fb7495c520935a8497ff4f472970cf875e: ['main.yml']\n",
            "e6cf9c345d95285a45d84b002d2d59133874fd15: ['dev.yml']\n",
            "38f1a121f34c21026173d190feaa530aa0cc461a: ['dev_pullrequest.yml']\n",
            "6019932d7269b26a80f9c851ec6d51247eb9f7d8: []\n",
            "9e73661200892140eeeeade76f1100c15eac8cb9: []\n",
            "6e4cf79fe1d3cd9d690401199589e4fdcb2c0eb4: ['index.tsx']\n",
            "e6c00d62654ad37912abf938383ab5fff9b537a2: ['1625436997301-UpadateProfessionalColumns.ts', '1625439373381-UpadateClientColumns.ts', 'Client.ts', 'Professional.ts']\n",
            "48cf87932445f1a2d71fc3a83c99d92682bb134c: ['App.tsx', 'evironment.ts', 'index.tsx', 'api.ts', 'index.tsx', 'index.tsx', 'index.tsx', 'index.tsx']\n",
            "4695f4ee2b646b4de55f2248c76bd32346056602: []\n",
            "495161a6d773b0ed0e0adbcb69d6c9f017ed5d76: []\n",
            "d743355c8e862a86344dbab85d95e9f0206caaa9: ['dev.yml']\n",
            "4f6876446d943cdd06a13a547383a26502f0dfc2: ['styles.ts']\n",
            "701b2420bfed6a910af1fba8519d357f6221e2e9: ['Client.test.ts', 'Professional.test.ts', 'User.test.ts']\n",
            "68891ebc725b8b0f1f8d7f94103f174750feb515: ['Client.ts', 'Professional.ts']\n",
            "3f71c5e8848a61c627b9b5dfb75a8df192fda276: ['package-lock.json', 'package.json', 'UserController.ts', 'routes.ts', 'UserService.ts']\n",
            "d4173f9d9fc809e724b27f8a31b7869b5fffdbc1: []\n",
            "a3a4e7553421b733c61524861ea04f45dcda59b2: ['package.json']\n",
            "36cbaf4191b2c41435545018102f968b978383c3: ['package.json']\n",
            "5d7e79ffb22b8efde0ac80b93d13f2b62da29c37: []\n",
            "fcc245ec41f278eb64273f4f42a0b336e1cd0fba: ['User.test.ts']\n",
            "e92906e1f1ec9e1512a41716fba82efa227de367: ['package.json']\n",
            "cadac776996493ae9e7612df933913c8c69319a6: ['UserService.ts']\n",
            "545b13a4b8e948db82a422f363945df86618d5ef: ['index.tsx']\n",
            "0d71279cbd0c9eae25e233a38d5f06db213a1567: []\n",
            "d1a3d663767dad4103da4fd47159364dc07a484c: ['README.md', 'settings.json', '1.png', '2.png', '3.png', '4.png', '5.png', '6.png', 'avatar.tsx', 'index.tsx']\n",
            "38e26dc07df3dae6d4adef393ce169c6c74e9781: ['App.tsx', 'index.tsx', 'index.tsx']\n",
            "de2e6bd580ee9202069083d40a529a5d28bf0ea6: ['index.tsx']\n",
            "2f7729164220c98d6de48e3702da1c003f2d33ab: ['index.tsx', 'styles.ts', 'index.tsx', 'index.tsx']\n",
            "db85a5e683f1e8d03afe0531782b26d29d7ef715: []\n",
            "411fecf8a9694756f4c8862ea7e1209a14fae8b3: ['index.tsx', 'index.tsx']\n",
            "3bea5c9a6c92239d8010857b9786e321f36a2187: ['User.ts', 'UserService.ts', 'index.tsx']\n",
            "327a5f99cc6d3f9d52c6422dc20258c33e3d727b: ['Client.test.ts', 'EmotionReaction.test.ts', 'Professional.test.ts', 'User.test.ts']\n",
            "503fc87d51e5c9ca9260b38907e085e2dddd651a: []\n",
            "ded2eb6e709b093d1af069195a4980d772bd340a: []\n",
            "e6e1cd01afc50e7c9f89f54b2daa8e99971bd071: []\n",
            "418004664a9b447d01d18fd399a07479e1f8a362: ['User.test.ts', 'package-lock.json']\n",
            "0214c99038c89afe051120085a294de0f833e0d2: ['1621342549073-CreateUser.ts']\n",
            "289fcda96a9c1427b41d21faabaa23a2c0661d06: []\n",
            "629c98cdac91fbc32ec82d403fe3763f7391f359: ['EmotionalRecordController.ts', 'ProfessionalController.ts', 'UserController.ts', '1622341164120-CreateEmotionalReaction.ts', 'routes.ts', 'EmotionalReactionService.ts', 'package.json', 'index.tsx', 'index.tsx', 'index.tsx', 'index.tsx', 'index.tsx', 'index.tsx', 'index.tsx', 'index.tsx', 'index.tsx']\n",
            "3ba1849ceb351ddc722cc31fb5e0c976aece084a: []\n",
            "58edaa534aff42109ecc34a96964a44e5ab107bd: []\n",
            "a6dcb15caad3c902ed83217ece51795d6609d940: ['ClientController.ts', 'EmotionalRecordController.ts', 'ProfessionalController.ts', 'UserController.ts', 'routes.ts', 'server.ts', 'api.ts', 'actions.ts', 'reducer.ts', 'index.tsx', 'index.tsx', 'index.tsx', 'index.tsx']\n",
            "f91e10c9f21ffa07574722c4fd89059db5335e59: []\n",
            "cbe904e69e4c35a6978eaf1622cc6ac2704139a5: []\n",
            "a7f562ac34b85903ee2fcb436492251a074bcb54: []\n",
            "e42d9576d9c064666dc2ea4a6f68766d72490035: ['ormconfig.ts']\n",
            "e7a561222767eed0b322076c42a9ad5a6fff9322: ['User.ts']\n",
            "3ed2dc2c55b3ea614f4bc93e5e7083d2077ce542: ['logo.png']\n",
            "40d151b22799f340fa04668086ebf6ee17e67f2a: ['index.tsx']\n",
            "c19270b8d174a3e744b23e72470f46e05037e9b0: ['index.tsx', 'index.tsx', 'index.tsx']\n",
            "cfbb15b6df1b217504cde2e09b610a8474fd2b7b: ['routes.tsx', 'index.tsx', 'styles.ts']\n",
            "5ff4280ff44436038f20797bded0895c9d48fbc7: ['ormconfig.ts']\n",
            "d01707f1ee40d2e02509d97e0b328007bcefa6ec: ['main.yml']\n",
            "b7d09ff7bf94cb334de29adc255b317182c0a47f: []\n",
            "2393f208fba79f0e008b79eed0dd12c73048a8dc: ['index.tsx']\n",
            "780315fcb402cc0b5f00e477ad32486fd75757d6: ['index.tsx']\n",
            "db035c9738dfc56c416ef458c6965a7e023d6168: ['index.tsx']\n",
            "4e5c9a5aa39cef099dec9fbccd1f475008f6fd0e: ['index.tsx']\n",
            "bbca0f9478bea6aaafc84503aafe2aeeefdb44a0: ['feature_request.md']\n",
            "8b1372a5bde58bdbc13445443e87a8d8a77b3149: []\n",
            "84b32486afa8f649db199968d27a48cc5271be36: []\n",
            "87e5fbaedf48fd05ffb2ce6894797087d41a15e0: ['ProfessionalController.ts', 'ProfessionalService.ts', 'avatar.tsx', 'index.tsx', 'index.tsx']\n",
            "b544afa40ffb912055f59e7167856f13b3a79966: ['UserController.ts', 'server.ts', 'UserService.ts', 'background.png', 'logo-with-name.png', 'routes.tsx', 'index.tsx', 'styles.ts']\n",
            "22a4a0816d3383af9e947f939a5274a7fbe7dfa6: ['UserService.ts']\n",
            "96824c566cdc24b5fccb27cdf8455d30a26eadf3: ['UserService.ts']\n",
            "c1b3b84eff7158220e0045aedc7bd1b7df428ce2: []\n",
            "fed473a385f90ca34b8d038c15a8d2147269d1df: ['index.tsx', 'index.tsx', 'index.tsx']\n",
            "73f00d0e6e51241c6f5f1023053fa703bb8159ac: []\n",
            "ab7304c28483f94c9ba9f905dd4d4222d8e50772: []\n",
            "184e78275803723a25e854acefb6a68b78a3b957: ['User.test.ts']\n",
            "8b6ec1b0ce0c5f7e663b03d07c01d63ad23c05f5: []\n",
            "4dab3af8dc48c91a4a6905dc2840f7844c9a5673: []\n",
            "029ec639799baaa4b4e3fbc57467766ddb0e4d98: ['index.tsx', 'index.tsx']\n",
            "e0daba277fdab3560b963a74d5b10fd95445798a: ['index.tsx']\n",
            "52551197de2ceb65dcb2005f7a2cb2d08624fbd7: ['UserService.ts']\n",
            "89801da0e6737e75e32d734e254b04e05eac4fed: ['package.json']\n",
            "7d2597706d5bf0332b369234da63b851dbceed37: ['actions.ts', 'reducer.ts', 'index.tsx', 'index.tsx', 'index.tsx']\n",
            "b4afa94a4a733768392d03bb1b58285374e6d93e: []\n",
            "27c9bfad6b6728c163decd43f5a55dcea2360614: ['ClientController.ts', 'routes.ts', 'index.tsx']\n",
            "3a08f47897df216699d2c37ca6785af04e3a244a: ['UserService.ts']\n",
            "98853a10fe42cefa28f7ec70f204395c40f6480a: []\n",
            "aaa00c5acdf0fa171c2ed52d9bc57419e3533726: ['ormconfig.ts', 'package.json', 'server.ts']\n",
            "62f1c46d19118447725d80eedff456ba64ee228e: ['ClientService.ts', 'ProfessionalService.ts']\n",
            "4c5d31e1559df76ffb17cbe9dc654baf2c5753f6: ['index.tsx']\n",
            "18fdcfae128a239ea2573e7d1afa2719e982d185: ['index.tsx', 'index.tsx', 'styles.ts']\n",
            "5c68e2137edda264229a8753d0aee264b221a55b: ['index.tsx']\n",
            "e56e0a91671b3081791748ddf3e4cac72db09738: ['ClientController.ts', 'routes.ts', 'index.tsx']\n",
            "2f5b7f88529f7cbbc6c03d01db484667c16ad252: ['index.tsx', 'index.tsx']\n",
            "590a1f3a41d984f3d8e4fecf8cff6d02b5b531e2: ['api.ts']\n",
            "722ec1638ada09a0a38ee9b2929028663b65aff5: ['index.tsx']\n",
            "b900c87534f7ddf37fc90b229e906a3701080061: []\n",
            "23c3a02046e0dec0f9732ea6c1cb17dc0ca3f5c6: []\n",
            "478e5a47f224ce27137d6196df6d19a60e11fcc3: ['Client.test.ts', 'Professional.test.ts', 'ClientService.ts']\n",
            "b21f866213258e192a6cc7e1b14dec77f21608e7: []\n",
            "466c629f751684a340e650941a441fbdf0898b28: []\n",
            "9021e15acd27a8a7501b2e61eeddf736ce2554d0: []\n",
            "7fb79289328460cd9b61618e354f635f02e60707: ['CODE_OF_CONDUCT.md']\n",
            "a052cbff66e987075a983ded82b4b63ce1aba9c1: ['CONTRIBUTING.md']\n",
            "0e5ffca0bf0868e8e5664caad2f6dbe4c3afdaf6: ['pull_request_template.md']\n",
            "2f886488394e65d8e99472e2512f28a47c8d6a96: ['expo_dev_pullrequest.yml']\n",
            "d788b717795a33d7f04a200c88aaedbd2225accf: ['expo_dev.yml']\n",
            "937e78abc9527ad595ac4c901d0328c16a15bc03: ['banner.png', 'app.json', 'adaptive-icon.png', 'favicon.png', 'icon.png', 'splash.png']\n",
            "474e239b896f962e309112105bdc6c05530715fd: []\n",
            "e2325710c68d36565197e993526b61e5cc502b89: ['ProfessionalController.ts', 'routes.ts', 'server.ts']\n",
            "d1c923a729a554bc87f7b28c245bfdd9c816bab1: ['README.md']\n",
            "0a1096050f2c63aac5a9267b4da8ecae184ae71f: ['README.md']\n",
            "345ab38b72e3e71d521a712aae4355c463e08299: ['README.md']\n",
            "e878642f858ba934bee142301f6be8393549f2d3: ['README.md']\n",
            "87ea676150fa3bd369e15b2cebc5514766e877fb: ['package.json']\n",
            "8341f96515508c9cf61fe4083bd8d2f195e96709: ['package-lock.json']\n",
            "af0f4032ebe576b27ea12993a6f4a7a1d1b71605: ['package-lock.json']\n",
            "5ef6f4728d46dd7dd1ccf96e6839befe12ab69e3: ['server.ts', 'index.tsx', 'index.tsx', 'styles.ts', 'index.tsx', 'index.tsx']\n",
            "d433c0b7b82cd4d8df390c762eb17e1a315b7994: []\n",
            "3a9b4f6070169c9240dead0235b67d04d1370304: []\n",
            "f5fea2d5e0705a50e30f9eac435a88e862a49793: ['index.tsx']\n",
            "0a315ff7d2675137a0018f8d72c834c3d537e87e: ['UserService.ts', 'index.tsx']\n",
            "9a64fb8e68a4a6d8ecddb70a6647ea67a330cd96: ['settings.json', 'ClientController.ts', 'ProfessionalController.ts', 'UserController.ts', 'ProfessionalService.ts', 'UserService.ts', 'professional.png', 'index.tsx', 'routes.tsx', 'reducer.ts', 'reducer.ts', 'index.tsx', 'index.tsx', 'styles.ts']\n",
            "8c8a7c29c892971916a48b0eda83109c455f3d9a: []\n",
            "388bf9c084f9d83303d08ecc7f2c0b4bfcb55cf4: []\n",
            "1a6c8531d3fa07215a2152d7db6b734cc747ce20: ['avatar.tsx', 'index.tsx', 'index.tsx', 'styles.tsx', 'index.tsx', 'styles.tsx', 'index.tsx', 'styles.tsx']\n",
            "0ea8a5bf600da5087ca16b3ef20f28f8e81e72f8: []\n",
            "60ad1e92e333f18439ec0dc13d0977d56080ec4b: []\n",
            "c671e6f62a50d7911dd37e61e495f6aa3829ae7e: ['ProfessionalController.ts', 'EmotionalReaction.ts', 'routes.ts', 'server.ts', 'ClientService.ts', 'ProfessionalService.ts', 'UserService.ts']\n",
            "1bee56874c1d8b7efda43c2dbbc70f4d031967dc: ['index.tsx', 'index.tsx', 'index.tsx', 'index.tsx', 'index.tsx', 'index.tsx', 'index.tsx']\n",
            "05c568f2c9103fdbaf491fa78f0968ac73817780: ['index.tsx']\n",
            "f7356dd7286636db962a56708a488a5cb15061b7: ['index.tsx', 'index.tsx']\n",
            "a20342c8a0361cc0f32c8709d920d12ff1c714cd: ['package.json', 'index.tsx', 'index.tsx', 'tsconfig.json']\n",
            "d3a412caeb9a52b0c45612e4698a8ca23f97e897: []\n",
            "563cea976c29178a24122bff58f32837a350cfe7: ['index.tsx']\n",
            "fcc1da2c78da65b49902781a83a33a57684caac8: ['Client.test.ts', 'Professional.test.ts']\n",
            "1cc4c0432dbab5af3e7f7d53f70651787e358ff7: []\n",
            "2ee3db55c5638338da29c7a3f4e17a8c2395b5a4: ['ClientController.ts', 'server.ts', 'ClientService.ts', 'UserService.ts', 'api.ts', 'reducer.ts', 'index.tsx', 'styles.tsx', 'index.tsx', 'index.tsx', 'index.tsx']\n",
            "3f17c2718e6bac94036b2364176f975529a51a7f: ['index.tsx']\n",
            "4a412c3aecf9c7c3719a7b5746b0ddde95504bbf: []\n",
            "d4a40182f5165493b9852516074c955d03e7e2fb: []\n",
            "7b1cda50b6a49257e780f888b991c0ab9c4c2a96: ['index.tsx', 'index.tsx', 'index.tsx', 'index.tsx', 'index.tsx', 'index.tsx']\n",
            "fabee0808eeb0da3286b5485a0b66f61c5e444fd: ['ClientController.ts', 'ProfessionalController.ts', 'UserService.ts', 'index.tsx', 'index.tsx', 'index.tsx', 'styles.ts', 'index.tsx', 'index.tsx', 'index.tsx']\n",
            "fab896625f4633a9f7fe938285cd5102a95d43ae: ['User.ts', 'index.tsx', 'index.tsx']\n",
            "bd4e4e6e2464476b3d099fff21eab82fe2270e75: []\n",
            "19de7f9056f5f4970f21fde5e73ef13df4125f9f: ['index.tsx', 'index.tsx']\n",
            "0fe1e7bff71a9328c6e29a8ebff760e6a547f1c6: ['settings.json', 'package.json', 'index.tsx']\n",
            "b7d93f6cb77bc6b3314094963d2151eedfd15833: []\n",
            "d9407e44f6827cf48c8c0199da715db38acbd193: []\n",
            "6cbf9a1b3764c35afebd3dab3b183996f5402b31: ['ClientController.ts']\n",
            "c4ff732578d11a69df098f1507a33254ef6edfd4: []\n",
            "c2f499e1aeb7c2a2b575ca51cdaa250dc9e1c494: ['CONTRIBUTING.md']\n",
            "c53c136d45cb2559b28628157aabfe4767744128: ['CONTRIBUTING.md']\n",
            "d60a172556e2dcec1ad7af54091e77b79ef728c2: []\n",
            "80089c42dce1e8d792346d9e7328982e4b0423a7: []\n",
            "825577184fb2df9a732022666372dda557010583: ['README.md']\n",
            "45e65fb5f47bba3048ec1697b7e9a39d197b97c7: ['index.tsx', 'index.tsx']\n",
            "96048145a0a876966961c169e039c6ed6268fc71: []\n",
            "a9610e9211a84642d50a7bfa36a051eaa9416ceb: ['index.tsx']\n",
            "e4ef58374d5d0ac2211a4e0a76076a64eb10eac9: ['index.tsx']\n",
            "672ad6c56378fc3527db1811653b2c38dc899003: []\n",
            "9f223a2f4e3510cc69d941ea177899f36d54657d: ['styles.ts', 'index.tsx']\n",
            "45feede34956fa177f57fbf054c58a393d48f48b: []\n"
          ]
        }
      ]
    },
    {
      "cell_type": "code",
      "source": [
        "def list_all_modified_files_in_single_commit(commit_hash):\n",
        "  \"\"\"\n",
        "  List all modified files in a specific commit\n",
        "  @param: str commit_hash: a hash of commit\n",
        "  @return a list of pydriller modified_file\n",
        "  \"\"\"\n",
        "  commit = list_single_commit(commit_hash)\n",
        "  return commit.modified_files\n",
        "\n",
        "print([modified_file.filename for modified_file in list_all_modified_files_in_single_commit(commit_hash)])"
      ],
      "metadata": {
        "colab": {
          "base_uri": "https://localhost:8080/"
        },
        "id": "NTPBDL1ZWBwS",
        "outputId": "a7955d55-604b-4ba5-ef52-faab6f0727c4"
      },
      "execution_count": 12,
      "outputs": [
        {
          "output_type": "stream",
          "name": "stdout",
          "text": [
            "['.gitignore', 'LICENSE', 'README.md']\n"
          ]
        }
      ]
    },
    {
      "cell_type": "code",
      "source": [
        "def list_all_authors_in_repository():\n",
        "  \"\"\"\n",
        "  List all authors who have made at least one commit in the repository\n",
        "  @return a list of pydriller developer\n",
        "  \"\"\"\n",
        "  authors = []\n",
        "  for commit in list_all_commits():\n",
        "      if commit.author not in authors:\n",
        "          authors.append(commit.author)\n",
        "  return authors\n",
        "\n",
        "print([f'{author.name}, {author.email}' for author in list_all_authors_in_repository()])"
      ],
      "metadata": {
        "colab": {
          "base_uri": "https://localhost:8080/"
        },
        "id": "RoO7BhW9WNpG",
        "outputId": "1638cbff-0754-4b47-cb13-34a98189abcf"
      },
      "execution_count": 13,
      "outputs": [
        {
          "output_type": "stream",
          "name": "stdout",
          "text": [
            "['Gisele Ribeiro, giselesousar@gmail.com', 'Arthur Basílio, basilio.arth@gmail.com', 'samuelssan28, samuelssan28@gmail.com', 'lucasdanillo, lucasdanillo1998@gmail.com', 'Samuel Santos, 42661697+SamuelSSan28@users.noreply.github.com', 'basilioarth, basilio.arth@gmail.com', 'giselesousar, giselesousar@gmail.com', 'Lucas Danillo, 63355595+lucasdanillo@users.noreply.github.com', 'samuelssan, samuelssan28@gmail.com', 'samuelssan, 85943933+samuelssan28ic@users.noreply.github.com', 'samuelssan, 42661697+SamuelSSan28@users.noreply.github.com', 'samuelssan, ']\n"
          ]
        }
      ]
    },
    {
      "cell_type": "code",
      "source": [
        "def list_all_tags():\n",
        "  \"\"\"\n",
        "  List all tags in the repositpory\n",
        "  @return a list of strings (tags names)\n",
        "  \"\"\"\n",
        "  repository = Repo(path_repository)\n",
        "  return repository.tags\n",
        "\n",
        "print([tag.name for tag in list_all_tags()])"
      ],
      "metadata": {
        "colab": {
          "base_uri": "https://localhost:8080/"
        },
        "id": "1zKDOXQPWQYg",
        "outputId": "039bcb28-25b5-4b1e-dc88-3be1d2c5fcb5"
      },
      "execution_count": 14,
      "outputs": [
        {
          "output_type": "stream",
          "name": "stdout",
          "text": [
            "['v0.1', 'v0.2', 'v1.0']\n"
          ]
        }
      ]
    },
    {
      "cell_type": "code",
      "source": [
        "def list_all_modified_files_in_tags():\n",
        "  \"\"\"\n",
        "  List all modified files in all tags in the repository\n",
        "  @return a dictionary where the each key contains the tag name\n",
        "  and the value associated contains a list of pydriller modified_file\n",
        "  of this commit\n",
        "  \"\"\"\n",
        "  modified_files_in_tags = {}\n",
        "  for tag in list_all_tags():\n",
        "      modified_files_in_tags[tag.name] = Git(path_repository).get_commit_from_tag(tag.name).modified_files\n",
        "  return modified_files_in_tags\n",
        "\n",
        "print(list_all_modified_files_in_tags())"
      ],
      "metadata": {
        "colab": {
          "base_uri": "https://localhost:8080/"
        },
        "id": "vHI3Uvi6WTpK",
        "outputId": "fefb85d3-2ef4-4657-c266-bab0208cfa4a"
      },
      "execution_count": 15,
      "outputs": [
        {
          "output_type": "stream",
          "name": "stdout",
          "text": [
            "{'v0.1': [], 'v0.2': [], 'v1.0': []}\n"
          ]
        }
      ]
    },
    {
      "cell_type": "code",
      "source": [
        "def list_all_commits_between_tags(initial_tag, final_tag):\n",
        "  \"\"\"\n",
        "  List all commits starting at initial_tag and ending at final_tag\n",
        "  @param: str initial_tag: a tag name\n",
        "  @param: str final_tag: a tag name\n",
        "  @return a list of pydriller commit\n",
        "  \"\"\"\n",
        "  commits = []\n",
        "  for commit in Repository(path_to_repo=path_repository, from_tag=initial_tag, to_tag=final_tag).traverse_commits():\n",
        "      commits.append(commit)\n",
        "  return commits\n",
        "\n",
        "print(list_all_commits_between_tags(initial_tag, final_tag))"
      ],
      "metadata": {
        "colab": {
          "base_uri": "https://localhost:8080/"
        },
        "id": "V7k4Zzp-WWVW",
        "outputId": "446f1f0a-448c-4e07-ebf7-9163edc8e70e"
      },
      "execution_count": 16,
      "outputs": [
        {
          "output_type": "stream",
          "name": "stdout",
          "text": [
            "[<pydriller.domain.commit.Commit object at 0x7fa54a8c2550>, <pydriller.domain.commit.Commit object at 0x7fa54a096f50>, <pydriller.domain.commit.Commit object at 0x7fa54a0969d0>, <pydriller.domain.commit.Commit object at 0x7fa54a096fd0>, <pydriller.domain.commit.Commit object at 0x7fa54a096d50>, <pydriller.domain.commit.Commit object at 0x7fa54a096e10>, <pydriller.domain.commit.Commit object at 0x7fa54a096ad0>, <pydriller.domain.commit.Commit object at 0x7fa54a096e90>, <pydriller.domain.commit.Commit object at 0x7fa54a096e50>, <pydriller.domain.commit.Commit object at 0x7fa54eaf59d0>, <pydriller.domain.commit.Commit object at 0x7fa54eaf5290>, <pydriller.domain.commit.Commit object at 0x7fa54eaf5d50>, <pydriller.domain.commit.Commit object at 0x7fa54eaf58d0>, <pydriller.domain.commit.Commit object at 0x7fa54eaf5950>, <pydriller.domain.commit.Commit object at 0x7fa54eaf5990>, <pydriller.domain.commit.Commit object at 0x7fa54eaf5ed0>, <pydriller.domain.commit.Commit object at 0x7fa54eaf5fd0>, <pydriller.domain.commit.Commit object at 0x7fa54eaf5a90>, <pydriller.domain.commit.Commit object at 0x7fa54eaf5510>, <pydriller.domain.commit.Commit object at 0x7fa54eaf55d0>, <pydriller.domain.commit.Commit object at 0x7fa54eaf5190>, <pydriller.domain.commit.Commit object at 0x7fa54eaf56d0>, <pydriller.domain.commit.Commit object at 0x7fa54eaf5cd0>, <pydriller.domain.commit.Commit object at 0x7fa54eaf5f50>, <pydriller.domain.commit.Commit object at 0x7fa54eaf5350>, <pydriller.domain.commit.Commit object at 0x7fa54eaf5710>, <pydriller.domain.commit.Commit object at 0x7fa54eaf5890>, <pydriller.domain.commit.Commit object at 0x7fa54eaf5390>, <pydriller.domain.commit.Commit object at 0x7fa54eaf5590>, <pydriller.domain.commit.Commit object at 0x7fa54eaf5090>, <pydriller.domain.commit.Commit object at 0x7fa54eaf5bd0>, <pydriller.domain.commit.Commit object at 0x7fa54eaf51d0>, <pydriller.domain.commit.Commit object at 0x7fa54eaf5790>, <pydriller.domain.commit.Commit object at 0x7fa54eaf5850>, <pydriller.domain.commit.Commit object at 0x7fa54eaf5a10>, <pydriller.domain.commit.Commit object at 0x7fa54ea06090>, <pydriller.domain.commit.Commit object at 0x7fa54a097110>, <pydriller.domain.commit.Commit object at 0x7fa54a0971d0>, <pydriller.domain.commit.Commit object at 0x7fa54a097750>, <pydriller.domain.commit.Commit object at 0x7fa54a0976d0>, <pydriller.domain.commit.Commit object at 0x7fa54a097490>, <pydriller.domain.commit.Commit object at 0x7fa54a097610>, <pydriller.domain.commit.Commit object at 0x7fa54a0972d0>, <pydriller.domain.commit.Commit object at 0x7fa54a097310>, <pydriller.domain.commit.Commit object at 0x7fa54a0970d0>, <pydriller.domain.commit.Commit object at 0x7fa54a0975d0>, <pydriller.domain.commit.Commit object at 0x7fa54a097550>, <pydriller.domain.commit.Commit object at 0x7fa54a097250>, <pydriller.domain.commit.Commit object at 0x7fa54a097150>, <pydriller.domain.commit.Commit object at 0x7fa54a097210>, <pydriller.domain.commit.Commit object at 0x7fa54a097690>, <pydriller.domain.commit.Commit object at 0x7fa54a097950>, <pydriller.domain.commit.Commit object at 0x7fa54a0978d0>, <pydriller.domain.commit.Commit object at 0x7fa54a097810>, <pydriller.domain.commit.Commit object at 0x7fa54a097b50>, <pydriller.domain.commit.Commit object at 0x7fa54a097ad0>, <pydriller.domain.commit.Commit object at 0x7fa54a097a10>, <pydriller.domain.commit.Commit object at 0x7fa54a097cd0>, <pydriller.domain.commit.Commit object at 0x7fa54a097c50>, <pydriller.domain.commit.Commit object at 0x7fa54a097bd0>, <pydriller.domain.commit.Commit object at 0x7fa54a097e50>, <pydriller.domain.commit.Commit object at 0x7fa54a097dd0>, <pydriller.domain.commit.Commit object at 0x7fa54a097d90>, <pydriller.domain.commit.Commit object at 0x7fa54a097f90>, <pydriller.domain.commit.Commit object at 0x7fa54a097f50>, <pydriller.domain.commit.Commit object at 0x7fa54a8b6810>, <pydriller.domain.commit.Commit object at 0x7fa54a8b6d90>, <pydriller.domain.commit.Commit object at 0x7fa54a8b6b90>, <pydriller.domain.commit.Commit object at 0x7fa54a8b6ed0>, <pydriller.domain.commit.Commit object at 0x7fa54a8b6bd0>, <pydriller.domain.commit.Commit object at 0x7fa54a8b63d0>, <pydriller.domain.commit.Commit object at 0x7fa54a8b6dd0>, <pydriller.domain.commit.Commit object at 0x7fa54a8b6550>, <pydriller.domain.commit.Commit object at 0x7fa54a8b6b50>, <pydriller.domain.commit.Commit object at 0x7fa54a8b6ad0>, <pydriller.domain.commit.Commit object at 0x7fa54a8b6510>, <pydriller.domain.commit.Commit object at 0x7fa54a8b6b10>, <pydriller.domain.commit.Commit object at 0x7fa54a8b67d0>, <pydriller.domain.commit.Commit object at 0x7fa54a8b64d0>, <pydriller.domain.commit.Commit object at 0x7fa54a8b6e10>, <pydriller.domain.commit.Commit object at 0x7fa54a8b6650>, <pydriller.domain.commit.Commit object at 0x7fa55582ca50>, <pydriller.domain.commit.Commit object at 0x7fa54a8fdb90>, <pydriller.domain.commit.Commit object at 0x7fa54ec87f50>, <pydriller.domain.commit.Commit object at 0x7fa54ab1d3d0>, <pydriller.domain.commit.Commit object at 0x7fa54a096150>, <pydriller.domain.commit.Commit object at 0x7fa54a096310>, <pydriller.domain.commit.Commit object at 0x7fa54a096950>, <pydriller.domain.commit.Commit object at 0x7fa54a096550>, <pydriller.domain.commit.Commit object at 0x7fa54a096190>, <pydriller.domain.commit.Commit object at 0x7fa54a096290>, <pydriller.domain.commit.Commit object at 0x7fa54a096390>, <pydriller.domain.commit.Commit object at 0x7fa54a096a10>, <pydriller.domain.commit.Commit object at 0x7fa54a096810>, <pydriller.domain.commit.Commit object at 0x7fa54a096650>, <pydriller.domain.commit.Commit object at 0x7fa54a096690>, <pydriller.domain.commit.Commit object at 0x7fa54a096790>, <pydriller.domain.commit.Commit object at 0x7fa54a096490>, <pydriller.domain.commit.Commit object at 0x7fa54a096510>, <pydriller.domain.commit.Commit object at 0x7fa54a096610>, <pydriller.domain.commit.Commit object at 0x7fa54a0961d0>, <pydriller.domain.commit.Commit object at 0x7fa54a096210>, <pydriller.domain.commit.Commit object at 0x7fa54a092ad0>, <pydriller.domain.commit.Commit object at 0x7fa54a092e50>, <pydriller.domain.commit.Commit object at 0x7fa54a0927d0>, <pydriller.domain.commit.Commit object at 0x7fa54a092f50>, <pydriller.domain.commit.Commit object at 0x7fa54a092a50>, <pydriller.domain.commit.Commit object at 0x7fa54a092dd0>, <pydriller.domain.commit.Commit object at 0x7fa54a092fd0>, <pydriller.domain.commit.Commit object at 0x7fa54a092c10>, <pydriller.domain.commit.Commit object at 0x7fa54a092950>, <pydriller.domain.commit.Commit object at 0x7fa54a092bd0>, <pydriller.domain.commit.Commit object at 0x7fa54a092b50>, <pydriller.domain.commit.Commit object at 0x7fa54a092d50>, <pydriller.domain.commit.Commit object at 0x7fa54ead8910>, <pydriller.domain.commit.Commit object at 0x7fa54ab12990>, <pydriller.domain.commit.Commit object at 0x7fa555d441d0>, <pydriller.domain.commit.Commit object at 0x7fa54e979490>, <pydriller.domain.commit.Commit object at 0x7fa54aee0810>, <pydriller.domain.commit.Commit object at 0x7fa54aee0950>, <pydriller.domain.commit.Commit object at 0x7fa54aee0550>, <pydriller.domain.commit.Commit object at 0x7fa54a08f690>, <pydriller.domain.commit.Commit object at 0x7fa54a08f210>, <pydriller.domain.commit.Commit object at 0x7fa54a08fdd0>, <pydriller.domain.commit.Commit object at 0x7fa54a08fc10>, <pydriller.domain.commit.Commit object at 0x7fa54a08fb50>, <pydriller.domain.commit.Commit object at 0x7fa54a08fe50>, <pydriller.domain.commit.Commit object at 0x7fa54a08ff10>, <pydriller.domain.commit.Commit object at 0x7fa54a08f7d0>, <pydriller.domain.commit.Commit object at 0x7fa54a08fa90>, <pydriller.domain.commit.Commit object at 0x7fa54a08f4d0>, <pydriller.domain.commit.Commit object at 0x7fa54a08f850>, <pydriller.domain.commit.Commit object at 0x7fa54a08f450>, <pydriller.domain.commit.Commit object at 0x7fa54a08f790>, <pydriller.domain.commit.Commit object at 0x7fa54a08f590>, <pydriller.domain.commit.Commit object at 0x7fa54a08f490>, <pydriller.domain.commit.Commit object at 0x7fa54a08f050>, <pydriller.domain.commit.Commit object at 0x7fa54a08f250>, <pydriller.domain.commit.Commit object at 0x7fa54a08f190>, <pydriller.domain.commit.Commit object at 0x7fa54eacebd0>, <pydriller.domain.commit.Commit object at 0x7fa54eaced10>, <pydriller.domain.commit.Commit object at 0x7fa54afae890>, <pydriller.domain.commit.Commit object at 0x7fa54a08c210>, <pydriller.domain.commit.Commit object at 0x7fa54a08c550>, <pydriller.domain.commit.Commit object at 0x7fa54a08c910>, <pydriller.domain.commit.Commit object at 0x7fa54a08ccd0>, <pydriller.domain.commit.Commit object at 0x7fa54a08c150>, <pydriller.domain.commit.Commit object at 0x7fa54a08cb50>, <pydriller.domain.commit.Commit object at 0x7fa54a08c890>, <pydriller.domain.commit.Commit object at 0x7fa54a08cad0>, <pydriller.domain.commit.Commit object at 0x7fa54a08cfd0>, <pydriller.domain.commit.Commit object at 0x7fa54a08c650>, <pydriller.domain.commit.Commit object at 0x7fa54a08cd50>, <pydriller.domain.commit.Commit object at 0x7fa54a08ced0>, <pydriller.domain.commit.Commit object at 0x7fa54a08c790>, <pydriller.domain.commit.Commit object at 0x7fa54a08c710>, <pydriller.domain.commit.Commit object at 0x7fa54a08c6d0>, <pydriller.domain.commit.Commit object at 0x7fa54a08ce50>, <pydriller.domain.commit.Commit object at 0x7fa54a08c350>, <pydriller.domain.commit.Commit object at 0x7fa54a08c250>, <pydriller.domain.commit.Commit object at 0x7fa54a08c4d0>, <pydriller.domain.commit.Commit object at 0x7fa54a08cf50>, <pydriller.domain.commit.Commit object at 0x7fa54a08ce10>, <pydriller.domain.commit.Commit object at 0x7fa54a08cd90>, <pydriller.domain.commit.Commit object at 0x7fa54a08c3d0>, <pydriller.domain.commit.Commit object at 0x7fa54a08cb10>, <pydriller.domain.commit.Commit object at 0x7fa54a08c810>, <pydriller.domain.commit.Commit object at 0x7fa54a8c2f50>, <pydriller.domain.commit.Commit object at 0x7fa54a8c2590>, <pydriller.domain.commit.Commit object at 0x7fa54a8c2990>, <pydriller.domain.commit.Commit object at 0x7fa54a8c25d0>, <pydriller.domain.commit.Commit object at 0x7fa54a8c2890>, <pydriller.domain.commit.Commit object at 0x7fa54a8c2510>, <pydriller.domain.commit.Commit object at 0x7fa54a8c2bd0>, <pydriller.domain.commit.Commit object at 0x7fa54a8c2d50>, <pydriller.domain.commit.Commit object at 0x7fa54a8c2a50>, <pydriller.domain.commit.Commit object at 0x7fa54a8c2d10>, <pydriller.domain.commit.Commit object at 0x7fa54a8c2f90>, <pydriller.domain.commit.Commit object at 0x7fa54a8c2c90>, <pydriller.domain.commit.Commit object at 0x7fa54a8c2610>, <pydriller.domain.commit.Commit object at 0x7fa54a8c2e10>, <pydriller.domain.commit.Commit object at 0x7fa54a8c2dd0>, <pydriller.domain.commit.Commit object at 0x7fa54a8c2a90>, <pydriller.domain.commit.Commit object at 0x7fa54a8c2ed0>, <pydriller.domain.commit.Commit object at 0x7fa54a8c2e90>, <pydriller.domain.commit.Commit object at 0x7fa54a8c2410>, <pydriller.domain.commit.Commit object at 0x7fa54a8c28d0>, <pydriller.domain.commit.Commit object at 0x7fa54a8c2cd0>, <pydriller.domain.commit.Commit object at 0x7fa54a8c2690>, <pydriller.domain.commit.Commit object at 0x7fa54a8c24d0>, <pydriller.domain.commit.Commit object at 0x7fa54e9a8190>, <pydriller.domain.commit.Commit object at 0x7fa54a92f710>, <pydriller.domain.commit.Commit object at 0x7fa54a92f650>, <pydriller.domain.commit.Commit object at 0x7fa54a92f790>, <pydriller.domain.commit.Commit object at 0x7fa54a92f6d0>, <pydriller.domain.commit.Commit object at 0x7fa54a92f510>, <pydriller.domain.commit.Commit object at 0x7fa54a92f890>, <pydriller.domain.commit.Commit object at 0x7fa54a92f750>, <pydriller.domain.commit.Commit object at 0x7fa54a92f950>, <pydriller.domain.commit.Commit object at 0x7fa54a92f810>, <pydriller.domain.commit.Commit object at 0x7fa54a8c3f10>, <pydriller.domain.commit.Commit object at 0x7fa54a8c3290>, <pydriller.domain.commit.Commit object at 0x7fa54a8c3650>, <pydriller.domain.commit.Commit object at 0x7fa54a8c37d0>, <pydriller.domain.commit.Commit object at 0x7fa54a8c3910>, <pydriller.domain.commit.Commit object at 0x7fa54a8c3cd0>, <pydriller.domain.commit.Commit object at 0x7fa54a8c3510>, <pydriller.domain.commit.Commit object at 0x7fa54a8c3e90>, <pydriller.domain.commit.Commit object at 0x7fa54a8c3ad0>, <pydriller.domain.commit.Commit object at 0x7fa54a8c3890>, <pydriller.domain.commit.Commit object at 0x7fa54a8c3090>, <pydriller.domain.commit.Commit object at 0x7fa54a8c3dd0>, <pydriller.domain.commit.Commit object at 0x7fa54a8c3b50>, <pydriller.domain.commit.Commit object at 0x7fa54a8c3550>, <pydriller.domain.commit.Commit object at 0x7fa54a8c3f50>, <pydriller.domain.commit.Commit object at 0x7fa54a8c30d0>, <pydriller.domain.commit.Commit object at 0x7fa54a8c3790>, <pydriller.domain.commit.Commit object at 0x7fa54a8c3c10>, <pydriller.domain.commit.Commit object at 0x7fa54a8c3490>, <pydriller.domain.commit.Commit object at 0x7fa54a8c3810>, <pydriller.domain.commit.Commit object at 0x7fa54a8c3390>, <pydriller.domain.commit.Commit object at 0x7fa54a09c050>, <pydriller.domain.commit.Commit object at 0x7fa54a09c210>, <pydriller.domain.commit.Commit object at 0x7fa54a09c190>, <pydriller.domain.commit.Commit object at 0x7fa54a09c150>, <pydriller.domain.commit.Commit object at 0x7fa54a09c3d0>, <pydriller.domain.commit.Commit object at 0x7fa54a09c350>, <pydriller.domain.commit.Commit object at 0x7fa54a09c310>, <pydriller.domain.commit.Commit object at 0x7fa54a09c550>, <pydriller.domain.commit.Commit object at 0x7fa54a09c4d0>, <pydriller.domain.commit.Commit object at 0x7fa54a09c490>, <pydriller.domain.commit.Commit object at 0x7fa54a09c710>, <pydriller.domain.commit.Commit object at 0x7fa54a09c690>, <pydriller.domain.commit.Commit object at 0x7fa54a09c610>, <pydriller.domain.commit.Commit object at 0x7fa54a09c8d0>, <pydriller.domain.commit.Commit object at 0x7fa54a09c850>, <pydriller.domain.commit.Commit object at 0x7fa54a09c7d0>, <pydriller.domain.commit.Commit object at 0x7fa54a09ca90>, <pydriller.domain.commit.Commit object at 0x7fa54a09ca10>, <pydriller.domain.commit.Commit object at 0x7fa54a09c990>, <pydriller.domain.commit.Commit object at 0x7fa54a09cc90>, <pydriller.domain.commit.Commit object at 0x7fa54a09cc10>, <pydriller.domain.commit.Commit object at 0x7fa54a09cb50>, <pydriller.domain.commit.Commit object at 0x7fa54a09ce50>, <pydriller.domain.commit.Commit object at 0x7fa54a09cdd0>, <pydriller.domain.commit.Commit object at 0x7fa54a09cd10>, <pydriller.domain.commit.Commit object at 0x7fa54a09ce90>, <pydriller.domain.commit.Commit object at 0x7fa54a09cf90>, <pydriller.domain.commit.Commit object at 0x7fa54a09ced0>, <pydriller.domain.commit.Commit object at 0x7fa54a09e050>, <pydriller.domain.commit.Commit object at 0x7fa54a09e210>, <pydriller.domain.commit.Commit object at 0x7fa54a09e190>, <pydriller.domain.commit.Commit object at 0x7fa54a09e0d0>, <pydriller.domain.commit.Commit object at 0x7fa54a09e3d0>, <pydriller.domain.commit.Commit object at 0x7fa54a09e350>, <pydriller.domain.commit.Commit object at 0x7fa54a09e290>, <pydriller.domain.commit.Commit object at 0x7fa54a09e590>, <pydriller.domain.commit.Commit object at 0x7fa54a09e510>, <pydriller.domain.commit.Commit object at 0x7fa54a09e450>, <pydriller.domain.commit.Commit object at 0x7fa54a09e750>, <pydriller.domain.commit.Commit object at 0x7fa54a09e6d0>, <pydriller.domain.commit.Commit object at 0x7fa54a09e610>, <pydriller.domain.commit.Commit object at 0x7fa54a09e910>, <pydriller.domain.commit.Commit object at 0x7fa54a09e890>, <pydriller.domain.commit.Commit object at 0x7fa54a09e7d0>, <pydriller.domain.commit.Commit object at 0x7fa54a09ead0>, <pydriller.domain.commit.Commit object at 0x7fa54a09ea50>, <pydriller.domain.commit.Commit object at 0x7fa54a09e990>, <pydriller.domain.commit.Commit object at 0x7fa54a09ec90>, <pydriller.domain.commit.Commit object at 0x7fa54a09ec10>, <pydriller.domain.commit.Commit object at 0x7fa54a09eb50>, <pydriller.domain.commit.Commit object at 0x7fa54a09ee50>, <pydriller.domain.commit.Commit object at 0x7fa54a09edd0>, <pydriller.domain.commit.Commit object at 0x7fa54a09ed10>, <pydriller.domain.commit.Commit object at 0x7fa54a09efd0>, <pydriller.domain.commit.Commit object at 0x7fa54a09ef50>, <pydriller.domain.commit.Commit object at 0x7fa54a09ef10>, <pydriller.domain.commit.Commit object at 0x7fa54a0a1210>, <pydriller.domain.commit.Commit object at 0x7fa54a0a1190>, <pydriller.domain.commit.Commit object at 0x7fa54a0a10d0>, <pydriller.domain.commit.Commit object at 0x7fa54a0a13d0>, <pydriller.domain.commit.Commit object at 0x7fa54a0a1350>, <pydriller.domain.commit.Commit object at 0x7fa54a0a1290>, <pydriller.domain.commit.Commit object at 0x7fa54a0a1590>]\n"
          ]
        }
      ]
    },
    {
      "cell_type": "code",
      "source": [
        "def get_files_frequency_in_commits(from_commit=None, to_commit=None):\n",
        "  \"\"\"\n",
        "  List how often each file appears in commits \n",
        "  @param: str from_commit: a hash of commit\n",
        "  @param: str to_commit: a hash of commit\n",
        "  @return a dictionary where the each key contains the filename\n",
        "  and the value associated contains the frequency\n",
        "  \"\"\"\n",
        "  commits = Repository(path_to_repo=path_repository, from_commit=from_commit, to_commit=to_commit).traverse_commits()\n",
        "\n",
        "  file_frequency = {}\n",
        "  for commit in commits:\n",
        "      for modified_file in commit.modified_files:\n",
        "          if modified_file.filename in file_frequency.keys(): # save full object\n",
        "              file_frequency[modified_file.filename] += 1\n",
        "          else:\n",
        "              file_frequency[modified_file.filename] = 1\n",
        "  return file_frequency\n",
        "\n",
        "print(get_files_frequency_in_commits())"
      ],
      "metadata": {
        "colab": {
          "base_uri": "https://localhost:8080/"
        },
        "id": "inAqIYSYWZhl",
        "outputId": "116bd24b-ea56-4266-9a67-2ecd36a8507d"
      },
      "execution_count": 17,
      "outputs": [
        {
          "output_type": "stream",
          "name": "stdout",
          "text": [
            "{'.gitignore': 6, 'LICENSE': 1, 'README.md': 9, 'dev.txt': 2, 'e-motion': 2, 'assets.json': 1, 'App.tsx': 6, 'app.json': 3, 'adaptive-icon.png': 2, 'favicon.png': 2, 'icon.png': 2, 'splash.png': 2, 'babel.config.js': 1, 'package-lock.json': 18, 'package.json': 24, 'tsconfig.json': 3, 'index.ts': 5, '1621342549073-CreateUser.ts': 3, '1621342623281-CreateProfessional.ts': 2, '1621342877532-CreatePatient.ts': 1, 'Patients.ts': 2, 'Professional.ts': 7, 'User.ts': 6, 'routes.ts': 19, 'server.ts': 10, 'yarn.lock': 9, 'api.ts': 7, 'actions.ts': 6, 'reducer.ts': 8, 'rootReducer.ts': 1, 'routes.tsx': 15, 'index.tsx': 209, '1622339738086-CreateClient.ts': 1, '1622341164120-CreateEmotionalReaction.ts': 6, '1622342796231-CreateEmotion.ts': 1, 'Client.ts': 9, 'Emotion.ts': 1, 'EmotionalReaction.ts': 7, 'styles.ts': 48, 'profile.png': 1, 'avatar.tsx': 7, 'EmotionalReactionService.ts': 6, 'EmotionalRecordController.ts': 6, 'controller_name.test.ts': 2, 'jest.config.js': 1, 'ProfessionalController.ts': 13, 'ProfessionalService.ts': 11, 'home.png': 3, 'alone-woman.png': 1, 'mock.ts': 1, 'ormconfig.ts': 5, 'Professional.test.ts': 9, 'index.test.ts': 1, 'Client.test.ts': 7, 'ClientService.ts': 7, 'UserService.ts': 18, 'evironment.ts': 4, 'ClientController.ts': 9, '1624500289158-UpdateUserFieldEmail.ts': 1, 'EmotionReaction.test.ts': 2, 'emotionalReaction.ts': 1, 'UserController.ts': 6, 'User.test.ts': 6, 'main.yml': 2, 'dev.yml': 2, 'dev_pullrequest.yml': 1, '1625436997301-UpadateProfessionalColumns.ts': 1, '1625439373381-UpadateClientColumns.ts': 1, 'settings.json': 3, '1.png': 1, '2.png': 1, '3.png': 1, '4.png': 1, '5.png': 1, '6.png': 1, 'logo.png': 1, 'feature_request.md': 1, 'background.png': 1, 'logo-with-name.png': 1, 'CODE_OF_CONDUCT.md': 1, 'CONTRIBUTING.md': 3, 'pull_request_template.md': 1, 'expo_dev_pullrequest.yml': 1, 'expo_dev.yml': 1, 'banner.png': 1, 'professional.png': 1, 'styles.tsx': 4}\n"
          ]
        }
      ]
    },
    {
      "cell_type": "code",
      "source": [
        "def get_number_of_lines_of_code_changes_in_commits(from_commit=None, to_commit=None):\n",
        "  \"\"\"\n",
        "  List amount of code line changes of each file \n",
        "  @param: str from_commit: a hash of commit\n",
        "  @param: str to_commit: a hash of commit\n",
        "  @return a dictionary where the each key contains the filename\n",
        "  and the value associated contains the number of lines of code changes\n",
        "  \"\"\"\n",
        "\n",
        "  commits = Repository(path_to_repo=path_repository, from_commit=from_commit, to_commit=to_commit).traverse_commits()\n",
        "\n",
        "  number_of_line_changes = {}\n",
        "  for commit in commits:\n",
        "      for modified_file in commit.modified_files:\n",
        "          if modified_file.filename in number_of_line_changes.keys(): # save full object\n",
        "              number_of_line_changes[modified_file.filename] += modified_file.added_lines + modified_file.deleted_lines\n",
        "          else:\n",
        "              number_of_line_changes[modified_file.filename] = modified_file.added_lines + modified_file.deleted_lines\n",
        "  return number_of_line_changes\n",
        "\n",
        "print(get_number_of_lines_of_code_changes_in_commits())"
      ],
      "metadata": {
        "colab": {
          "base_uri": "https://localhost:8080/"
        },
        "id": "Pq5bV7EaWd0n",
        "outputId": "1941ff7d-4f67-47da-8de3-92a3f66ddffe"
      },
      "execution_count": 18,
      "outputs": [
        {
          "output_type": "stream",
          "name": "stdout",
          "text": [
            "{'.gitignore': 137, 'LICENSE': 21, 'README.md': 142, 'dev.txt': 0, 'e-motion': 2, 'assets.json': 4, 'App.tsx': 74, 'app.json': 45, 'adaptive-icon.png': 0, 'favicon.png': 0, 'icon.png': 0, 'splash.png': 0, 'babel.config.js': 6, 'package-lock.json': 31710, 'package.json': 109, 'tsconfig.json': 80, 'index.ts': 45, '1621342549073-CreateUser.ts': 62, '1621342623281-CreateProfessional.ts': 83, '1621342877532-CreatePatient.ts': 64, 'Patients.ts': 54, 'Professional.ts': 63, 'User.ts': 37, 'routes.ts': 110, 'server.ts': 72, 'yarn.lock': 23359, 'api.ts': 32, 'actions.ts': 66, 'reducer.ts': 124, 'rootReducer.ts': 11, 'routes.tsx': 318, 'index.tsx': 7568, '1622339738086-CreateClient.ts': 26, '1622341164120-CreateEmotionalReaction.ts': 160, '1622342796231-CreateEmotion.ts': 34, 'Client.ts': 77, 'Emotion.ts': 15, 'EmotionalReaction.ts': 132, 'styles.ts': 1538, 'profile.png': 0, 'avatar.tsx': 122, 'EmotionalReactionService.ts': 92, 'EmotionalRecordController.ts': 162, 'controller_name.test.ts': 44, 'jest.config.js': 4, 'ProfessionalController.ts': 173, 'ProfessionalService.ts': 275, 'home.png': 0, 'alone-woman.png': 0, 'mock.ts': 34, 'ormconfig.ts': 46, 'Professional.test.ts': 207, 'index.test.ts': 51, 'Client.test.ts': 97, 'ClientService.ts': 151, 'UserService.ts': 274, 'evironment.ts': 7, 'ClientController.ts': 173, '1624500289158-UpdateUserFieldEmail.ts': 18, 'EmotionReaction.test.ts': 155, 'emotionalReaction.ts': 17, 'UserController.ts': 57, 'User.test.ts': 144, 'main.yml': 34, 'dev.yml': 35, 'dev_pullrequest.yml': 25, '1625436997301-UpadateProfessionalColumns.ts': 17, '1625439373381-UpadateClientColumns.ts': 17, 'settings.json': 16, '1.png': 0, '2.png': 0, '3.png': 0, '4.png': 0, '5.png': 0, '6.png': 0, 'logo.png': 0, 'feature_request.md': 20, 'background.png': 0, 'logo-with-name.png': 0, 'CODE_OF_CONDUCT.md': 128, 'CONTRIBUTING.md': 197, 'pull_request_template.md': 38, 'expo_dev_pullrequest.yml': 41, 'expo_dev.yml': 41, 'banner.png': 0, 'professional.png': 0, 'styles.tsx': 164}\n"
          ]
        }
      ]
    },
    {
      "cell_type": "code",
      "source": [
        "def get_files_cyclomatic_complexity_in_commits(from_commit=None, to_commit=None):\n",
        "  \"\"\"\n",
        "  List cyclomatic complexity of each file \n",
        "  @param: str from_commit: a hash of commit\n",
        "  @param: str to_commit: a hash of commit\n",
        "  @return a dictionary where the each key contains the filename\n",
        "  and the value associated contains the cyclomatic complexity\n",
        "  \"\"\"\n",
        "  commits = Repository(path_to_repo=path_repository, from_commit=from_commit, to_commit=to_commit).traverse_commits()\n",
        "\n",
        "  complexity = {}\n",
        "  for commit in commits:\n",
        "      for modified_file in commit.modified_files:\n",
        "          complexity[modified_file.filename] = modified_file.complexity\n",
        "  return complexity\n",
        "\n",
        "print(get_files_cyclomatic_complexity_in_commits())"
      ],
      "metadata": {
        "colab": {
          "base_uri": "https://localhost:8080/"
        },
        "id": "Y9aqzbXLWhcd",
        "outputId": "48907325-f099-4f74-c95d-756635c0c602"
      },
      "execution_count": 19,
      "outputs": [
        {
          "output_type": "stream",
          "name": "stdout",
          "text": [
            "{'.gitignore': None, 'LICENSE': None, 'README.md': None, 'dev.txt': None, 'e-motion': None, 'assets.json': None, 'App.tsx': None, 'app.json': None, 'adaptive-icon.png': None, 'favicon.png': None, 'icon.png': None, 'splash.png': None, 'babel.config.js': 1, 'package-lock.json': None, 'package.json': None, 'tsconfig.json': None, 'index.ts': 0, '1621342549073-CreateUser.ts': 0, '1621342623281-CreateProfessional.ts': 0, '1621342877532-CreatePatient.ts': 0, 'Patients.ts': None, 'Professional.ts': 2, 'User.ts': 0, 'routes.ts': 0, 'server.ts': 10, 'yarn.lock': None, 'api.ts': 0, 'actions.ts': 3, 'reducer.ts': 4, 'rootReducer.ts': 0, 'routes.tsx': None, 'index.tsx': None, '1622339738086-CreateClient.ts': 0, '1622341164120-CreateEmotionalReaction.ts': 0, '1622342796231-CreateEmotion.ts': 0, 'Client.ts': 3, 'Emotion.ts': 0, 'EmotionalReaction.ts': 1, 'styles.ts': 0, 'profile.png': None, 'avatar.tsx': None, 'EmotionalReactionService.ts': 4, 'EmotionalRecordController.ts': 0, 'controller_name.test.ts': None, 'jest.config.js': 0, 'ProfessionalController.ts': 9, 'ProfessionalService.ts': 2, 'home.png': None, 'alone-woman.png': None, 'mock.ts': 0, 'ormconfig.ts': 0, 'Professional.test.ts': 5, 'index.test.ts': 4, 'Client.test.ts': 4, 'ClientService.ts': 6, 'UserService.ts': 21, 'evironment.ts': 0, 'ClientController.ts': 8, '1624500289158-UpdateUserFieldEmail.ts': 0, 'EmotionReaction.test.ts': 10, 'emotionalReaction.ts': 0, 'UserController.ts': 5, 'User.test.ts': 5, 'main.yml': None, 'dev.yml': None, 'dev_pullrequest.yml': None, '1625436997301-UpadateProfessionalColumns.ts': 0, '1625439373381-UpadateClientColumns.ts': 0, 'settings.json': None, '1.png': None, '2.png': None, '3.png': None, '4.png': None, '5.png': None, '6.png': None, 'logo.png': None, 'feature_request.md': None, 'background.png': None, 'logo-with-name.png': None, 'CODE_OF_CONDUCT.md': None, 'CONTRIBUTING.md': None, 'pull_request_template.md': None, 'expo_dev_pullrequest.yml': None, 'expo_dev.yml': None, 'banner.png': None, 'professional.png': None, 'styles.tsx': None}\n"
          ]
        }
      ]
    }
  ]
}